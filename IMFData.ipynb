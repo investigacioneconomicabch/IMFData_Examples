{
 "cells": [
  {
   "cell_type": "raw",
   "id": "51a62f2a",
   "metadata": {},
   "source": [
    "---\n",
    "title: IMFData.jl\n",
    "author: stephenbnicar\n",
    "execute:\n",
    "  echo: true\n",
    "format:\n",
    "  html:\n",
    "    code-fold: true\n",
    "    code-tools: true\n",
    "    toc: true\n",
    "    echo: true\n",
    "keep-ipynb: true\n",
    "---"
   ]
  },
  {
   "cell_type": "markdown",
   "id": "89dd020f",
   "metadata": {},
   "source": [
    "[Code](https://github.com/stephenbnicar/IMFData.jl)\n",
    "\n",
    "[Examples](https://github.com/stephenbnicar/IMFData.jl/blob/master/examples/examples.jl)\n"
   ]
  },
  {
   "cell_type": "code",
   "execution_count": 1,
   "id": "f9aa2b80",
   "metadata": {},
   "outputs": [
    {
     "data": {
      "text/plain": [
       "\"C:\\\\Directorio_Trabajo\\\\GitHub\\\\IMFData_Examples-main\""
      ]
     },
     "execution_count": 2,
     "metadata": {},
     "output_type": "execute_result"
    }
   ],
   "source": [
    "#import Pkg; Pkg.add(\"IMFData\")\n",
    "using CSV, DataFrames, DataFramesMeta, IMFData\n",
    "\n",
    "wd = @__DIR__"
   ]
  },
  {
   "cell_type": "markdown",
   "id": "3250ea63",
   "metadata": {},
   "source": [
    "# General Functions\n",
    "\n",
    "## Get a list of datasets accessible from the API\n",
    "\n",
    "Note: While the function `get_imf_datasets()` returns a list of all available datasets, currently the module only supports data requests from the International Financial Statistics (IFS) dataset.\n"
   ]
  },
  {
   "cell_type": "code",
   "execution_count": 2,
   "id": "a8c44c8b",
   "metadata": {},
   "outputs": [
    {
     "data": {
      "text/plain": [
       "\"C:\\\\Directorio_Trabajo\\\\GitHub\\\\IMFData_Examples-main/IMFDatasets.csv\""
      ]
     },
     "execution_count": 3,
     "metadata": {},
     "output_type": "execute_result"
    }
   ],
   "source": [
    "# Get a list of datasets accessible from the API:\n",
    "data = IMFData.get_imf_datasets()\n",
    "names(data)\n",
    "data = DataFrames.DataFrame(\n",
    "    dataset_id = data.dataset_id,\n",
    "    dataset_name = data.dataset_name)\n",
    "\n",
    "df = DataFrames.DataFrame([[],[]], [\"dataset_id\", \"dataset_name\"])\n",
    "for i in 1:size(data)[1]\n",
    "    push!(df, (data[i,1],data[i,2]))\n",
    "end\n",
    "df.dataset_id = string.(df.dataset_id)\n",
    "df.dataset_name = string.(df.dataset_name)\n",
    "CSV.write(\n",
    "    wd * \"/IMFDatasets.csv\",\n",
    "    delim = \";\",\n",
    "    df)"
   ]
  },
  {
   "cell_type": "markdown",
   "id": "b533c1f7",
   "metadata": {},
   "source": [
    "## Get the list of parameters (\"dimensions\") for a dataset and their values\n"
   ]
  },
  {
   "cell_type": "code",
   "execution_count": 3,
   "id": "d72c9be6",
   "metadata": {},
   "outputs": [],
   "source": [
    "# ifs_structure = get_imf_datastructure(\"IFS\")"
   ]
  },
  {
   "cell_type": "markdown",
   "id": "bfaffd2b",
   "metadata": {},
   "source": [
    "### Parameter Names\n"
   ]
  },
  {
   "cell_type": "code",
   "execution_count": 4,
   "id": "92374119",
   "metadata": {},
   "outputs": [],
   "source": [
    "# collect(values(ifs_structure))[1]"
   ]
  },
  {
   "cell_type": "markdown",
   "id": "361a5c4c",
   "metadata": {},
   "source": [
    "### Parameter Values\n"
   ]
  },
  {
   "cell_type": "code",
   "execution_count": 5,
   "id": "e8c797be",
   "metadata": {},
   "outputs": [],
   "source": [
    "# collect(values(ifs_structure))[2]"
   ]
  },
  {
   "cell_type": "markdown",
   "id": "1fb58dff",
   "metadata": {},
   "source": [
    "1. \"CL_UNIT_MULT\"\n"
   ]
  },
  {
   "cell_type": "code",
   "execution_count": 6,
   "id": "e443b33f",
   "metadata": {},
   "outputs": [],
   "source": [
    "# collect(collect(values(ifs_structure))[2])[2]"
   ]
  },
  {
   "cell_type": "markdown",
   "id": "be0e4d66",
   "metadata": {},
   "source": [
    "2. \"CL_FREQ\"\n"
   ]
  },
  {
   "cell_type": "code",
   "execution_count": 7,
   "id": "bdba31d2",
   "metadata": {},
   "outputs": [],
   "source": [
    "# collect(collect(values(ifs_structure))[2])[5]"
   ]
  },
  {
   "cell_type": "markdown",
   "id": "64500164",
   "metadata": {},
   "source": [
    "3. \"CL_AREA_IFS\"\n"
   ]
  },
  {
   "cell_type": "code",
   "execution_count": 8,
   "id": "fb45957c",
   "metadata": {},
   "outputs": [],
   "source": [
    "# collect(collect(values(ifs_structure))[2])[4]"
   ]
  },
  {
   "cell_type": "markdown",
   "id": "9454fa4a",
   "metadata": {},
   "source": [
    "4. \"CL_INDICATOR_IFS\"\n"
   ]
  },
  {
   "cell_type": "code",
   "execution_count": 9,
   "id": "4b66deee",
   "metadata": {},
   "outputs": [],
   "source": [
    "# collect(collect(values(ifs_structure))[2])[1]"
   ]
  },
  {
   "cell_type": "markdown",
   "id": "f60fa1fc",
   "metadata": {},
   "source": [
    "5. \"CL_TIME_FORMAT\"\n"
   ]
  },
  {
   "cell_type": "code",
   "execution_count": 10,
   "id": "1551233b",
   "metadata": {},
   "outputs": [],
   "source": [
    "# collect(collect(values(ifs_structure))[2])[3]"
   ]
  },
  {
   "cell_type": "markdown",
   "id": "8d0afeb2",
   "metadata": {},
   "source": [
    "## Filter Datasets by Key\n"
   ]
  },
  {
   "cell_type": "code",
   "execution_count": 11,
   "id": "dd1d7097",
   "metadata": {},
   "outputs": [
    {
     "data": {
      "text/html": [
       "<div><div style = \"float: left;\"><span>71×2 DataFrame</span></div><div style = \"float: right;\"><span style = \"font-style: italic;\">46 rows omitted</span></div><div style = \"clear: both;\"></div></div><div class = \"data-frame\" style = \"overflow-x: scroll;\"><table class = \"data-frame\" style = \"margin-bottom: 6px;\"><thead><tr class = \"header\"><th class = \"rowNumber\" style = \"font-weight: bold; text-align: right;\">Row</th><th style = \"text-align: left;\">dataset_id</th><th style = \"text-align: left;\">dataset_name</th></tr><tr class = \"subheader headerLastRow\"><th class = \"rowNumber\" style = \"font-weight: bold; text-align: right;\"></th><th title = \"String\" style = \"text-align: left;\">String</th><th title = \"String\" style = \"text-align: left;\">String</th></tr></thead><tbody><tr><td class = \"rowNumber\" style = \"font-weight: bold; text-align: right;\">1</td><td style = \"text-align: left;\">IFS</td><td style = \"text-align: left;\">International Financial Statistics (IFS)</td></tr><tr><td class = \"rowNumber\" style = \"font-weight: bold; text-align: right;\">2</td><td style = \"text-align: left;\">IFS_2017M08</td><td style = \"text-align: left;\">International Financial Statistics (IFS), 2017 M08</td></tr><tr><td class = \"rowNumber\" style = \"font-weight: bold; text-align: right;\">3</td><td style = \"text-align: left;\">IFS_2017M09</td><td style = \"text-align: left;\">International Financial Statistics (IFS), 2017 M09</td></tr><tr><td class = \"rowNumber\" style = \"font-weight: bold; text-align: right;\">4</td><td style = \"text-align: left;\">IFS_2017M10</td><td style = \"text-align: left;\">International Financial Statistics (IFS), 2017 M10</td></tr><tr><td class = \"rowNumber\" style = \"font-weight: bold; text-align: right;\">5</td><td style = \"text-align: left;\">IFS_2017M11</td><td style = \"text-align: left;\">International Financial Statistics (IFS), 2017 M11</td></tr><tr><td class = \"rowNumber\" style = \"font-weight: bold; text-align: right;\">6</td><td style = \"text-align: left;\">IFS_2017M12</td><td style = \"text-align: left;\">International Financial Statistics (IFS), 2017 M12</td></tr><tr><td class = \"rowNumber\" style = \"font-weight: bold; text-align: right;\">7</td><td style = \"text-align: left;\">IFS_2018M01</td><td style = \"text-align: left;\">International Financial Statistics (IFS), 2018 M01</td></tr><tr><td class = \"rowNumber\" style = \"font-weight: bold; text-align: right;\">8</td><td style = \"text-align: left;\">IFS_2018M02</td><td style = \"text-align: left;\">International Financial Statistics (IFS), 2018 M02</td></tr><tr><td class = \"rowNumber\" style = \"font-weight: bold; text-align: right;\">9</td><td style = \"text-align: left;\">IFS_2018M03</td><td style = \"text-align: left;\">International Financial Statistics (IFS), 2018 M03</td></tr><tr><td class = \"rowNumber\" style = \"font-weight: bold; text-align: right;\">10</td><td style = \"text-align: left;\">IFS_2018M04</td><td style = \"text-align: left;\">International Financial Statistics (IFS), 2018 M04</td></tr><tr><td class = \"rowNumber\" style = \"font-weight: bold; text-align: right;\">11</td><td style = \"text-align: left;\">IFS_2018M05</td><td style = \"text-align: left;\">International Financial Statistics (IFS), 2018 M05 </td></tr><tr><td class = \"rowNumber\" style = \"font-weight: bold; text-align: right;\">12</td><td style = \"text-align: left;\">IFS_2018M06</td><td style = \"text-align: left;\">International Financial Statistics (IFS), 2018 M06</td></tr><tr><td class = \"rowNumber\" style = \"font-weight: bold; text-align: right;\">13</td><td style = \"text-align: left;\">IFS_2018M07</td><td style = \"text-align: left;\">International Financial Statistics (IFS), 2018 M07</td></tr><tr><td style = \"text-align: right;\">&vellip;</td><td style = \"text-align: right;\">&vellip;</td><td style = \"text-align: right;\">&vellip;</td></tr><tr><td class = \"rowNumber\" style = \"font-weight: bold; text-align: right;\">60</td><td style = \"text-align: left;\">IFS_2022M06</td><td style = \"text-align: left;\">International Financial Statistics (IFS), 2022 M06</td></tr><tr><td class = \"rowNumber\" style = \"font-weight: bold; text-align: right;\">61</td><td style = \"text-align: left;\">IFS_2022M07</td><td style = \"text-align: left;\">International Financial Statistics (IFS), 2022 M07</td></tr><tr><td class = \"rowNumber\" style = \"font-weight: bold; text-align: right;\">62</td><td style = \"text-align: left;\">IFS_2022M08</td><td style = \"text-align: left;\">International Financial Statistics (IFS), 2022 M08</td></tr><tr><td class = \"rowNumber\" style = \"font-weight: bold; text-align: right;\">63</td><td style = \"text-align: left;\">IFS_2022M09</td><td style = \"text-align: left;\">International Financial Statistics (IFS), 2022 M09</td></tr><tr><td class = \"rowNumber\" style = \"font-weight: bold; text-align: right;\">64</td><td style = \"text-align: left;\">IFS_2022M10</td><td style = \"text-align: left;\">International Financial Statistics (IFS), 2022 M10</td></tr><tr><td class = \"rowNumber\" style = \"font-weight: bold; text-align: right;\">65</td><td style = \"text-align: left;\">IFS_2022M11</td><td style = \"text-align: left;\">International Financial Statistics (IFS), 2022 M11</td></tr><tr><td class = \"rowNumber\" style = \"font-weight: bold; text-align: right;\">66</td><td style = \"text-align: left;\">IFS_2023M01</td><td style = \"text-align: left;\">International Financial Statistics (IFS), 2023 M01</td></tr><tr><td class = \"rowNumber\" style = \"font-weight: bold; text-align: right;\">67</td><td style = \"text-align: left;\">IFS_2023M02</td><td style = \"text-align: left;\">International Financial Statistics (IFS), 2023 M02</td></tr><tr><td class = \"rowNumber\" style = \"font-weight: bold; text-align: right;\">68</td><td style = \"text-align: left;\">IFS_2023M03</td><td style = \"text-align: left;\">International Financial Statistics (IFS), 2023 M03</td></tr><tr><td class = \"rowNumber\" style = \"font-weight: bold; text-align: right;\">69</td><td style = \"text-align: left;\">IFS_2023M04</td><td style = \"text-align: left;\">International Financial Statistics (IFS), 2023 M04</td></tr><tr><td class = \"rowNumber\" style = \"font-weight: bold; text-align: right;\">70</td><td style = \"text-align: left;\">IFS_2023M05</td><td style = \"text-align: left;\">International Financial Statistics (IFS), 2023 M05</td></tr><tr><td class = \"rowNumber\" style = \"font-weight: bold; text-align: right;\">71</td><td style = \"text-align: left;\">IFS_DISCONTINUED</td><td style = \"text-align: left;\">International Financial Statistics (IFS), Discontinued Series</td></tr></tbody></table></div>"
      ],
      "text/latex": [
       "\\begin{tabular}{r|cc}\n",
       "\t& dataset\\_id & dataset\\_name\\\\\n",
       "\t\\hline\n",
       "\t& String & String\\\\\n",
       "\t\\hline\n",
       "\t1 & IFS & International Financial Statistics (IFS) \\\\\n",
       "\t2 & IFS\\_2017M08 & International Financial Statistics (IFS), 2017 M08 \\\\\n",
       "\t3 & IFS\\_2017M09 & International Financial Statistics (IFS), 2017 M09 \\\\\n",
       "\t4 & IFS\\_2017M10 & International Financial Statistics (IFS), 2017 M10 \\\\\n",
       "\t5 & IFS\\_2017M11 & International Financial Statistics (IFS), 2017 M11 \\\\\n",
       "\t6 & IFS\\_2017M12 & International Financial Statistics (IFS), 2017 M12 \\\\\n",
       "\t7 & IFS\\_2018M01 & International Financial Statistics (IFS), 2018 M01 \\\\\n",
       "\t8 & IFS\\_2018M02 & International Financial Statistics (IFS), 2018 M02 \\\\\n",
       "\t9 & IFS\\_2018M03 & International Financial Statistics (IFS), 2018 M03 \\\\\n",
       "\t10 & IFS\\_2018M04 & International Financial Statistics (IFS), 2018 M04 \\\\\n",
       "\t11 & IFS\\_2018M05 & International Financial Statistics (IFS), 2018 M05  \\\\\n",
       "\t12 & IFS\\_2018M06 & International Financial Statistics (IFS), 2018 M06 \\\\\n",
       "\t13 & IFS\\_2018M07 & International Financial Statistics (IFS), 2018 M07 \\\\\n",
       "\t14 & IFS\\_2018M08 & International Financial Statistics (IFS), 2018 M08 \\\\\n",
       "\t15 & IFS\\_2018M09 & International Financial Statistics (IFS), 2018 M09 \\\\\n",
       "\t16 & IFS\\_2018M10 & International Financial Statistics (IFS), 2018 M10 \\\\\n",
       "\t17 & IFS\\_2018M11 & International Financial Statistics (IFS), 2018 M11 \\\\\n",
       "\t18 & IFS\\_2018M12 & International Financial Statistics (IFS), 2018 M12 \\\\\n",
       "\t19 & IFS\\_2019M01 & International Financial Statistics (IFS), 2019 M01 \\\\\n",
       "\t20 & IFS\\_2019M02 & International Financial Statistics (IFS), 2019 M02 \\\\\n",
       "\t21 & IFS\\_2019M03 & International Financial Statistics (IFS), 2019 M03 \\\\\n",
       "\t22 & IFS\\_2019M04 & International Financial Statistics (IFS), 2019 M04 \\\\\n",
       "\t23 & IFS\\_2019M05 & International Financial Statistics (IFS), 2019 M05 \\\\\n",
       "\t24 & IFS\\_2019M06 & International Financial Statistics (IFS), 2019 M06 \\\\\n",
       "\t25 & IFS\\_2019M07 & International Financial Statistics (IFS), 2019 M07 \\\\\n",
       "\t26 & IFS\\_2019M08 & International Financial Statistics (IFS), 2019 M08 \\\\\n",
       "\t27 & IFS\\_2019M09 & International Financial Statistics (IFS), 2019 M09 \\\\\n",
       "\t28 & IFS\\_2019M10 & International Financial Statistics (IFS), 2019 M10 \\\\\n",
       "\t29 & IFS\\_2019M11 & International Financial Statistics (IFS), 2019 M11 \\\\\n",
       "\t30 & IFS\\_2019M12 & International Financial Statistics (IFS), 2019 M12 \\\\\n",
       "\t$\\dots$ & $\\dots$ & $\\dots$ \\\\\n",
       "\\end{tabular}\n"
      ],
      "text/plain": [
       "\u001b[1m71×2 DataFrame\u001b[0m\n",
       "\u001b[1m Row \u001b[0m│\u001b[1m dataset_id       \u001b[0m\u001b[1m dataset_name                      \u001b[0m\n",
       "     │\u001b[90m String           \u001b[0m\u001b[90m String                            \u001b[0m\n",
       "─────┼─────────────────────────────────────────────────────\n",
       "   1 │ IFS               International Financial Statisti…\n",
       "   2 │ IFS_2017M08       International Financial Statisti…\n",
       "   3 │ IFS_2017M09       International Financial Statisti…\n",
       "   4 │ IFS_2017M10       International Financial Statisti…\n",
       "   5 │ IFS_2017M11       International Financial Statisti…\n",
       "   6 │ IFS_2017M12       International Financial Statisti…\n",
       "   7 │ IFS_2018M01       International Financial Statisti…\n",
       "   8 │ IFS_2018M02       International Financial Statisti…\n",
       "   9 │ IFS_2018M03       International Financial Statisti…\n",
       "  10 │ IFS_2018M04       International Financial Statisti…\n",
       "  11 │ IFS_2018M05       International Financial Statisti…\n",
       "  ⋮  │        ⋮                          ⋮\n",
       "  62 │ IFS_2022M08       International Financial Statisti…\n",
       "  63 │ IFS_2022M09       International Financial Statisti…\n",
       "  64 │ IFS_2022M10       International Financial Statisti…\n",
       "  65 │ IFS_2022M11       International Financial Statisti…\n",
       "  66 │ IFS_2023M01       International Financial Statisti…\n",
       "  67 │ IFS_2023M02       International Financial Statisti…\n",
       "  68 │ IFS_2023M03       International Financial Statisti…\n",
       "  69 │ IFS_2023M04       International Financial Statisti…\n",
       "  70 │ IFS_2023M05       International Financial Statisti…\n",
       "  71 │ IFS_DISCONTINUED  International Financial Statisti…\n",
       "\u001b[36m                                            50 rows omitted\u001b[0m"
      ]
     },
     "execution_count": 12,
     "metadata": {},
     "output_type": "execute_result"
    }
   ],
   "source": [
    "datasets = IMFData.get_imf_datasets()\n",
    "# Use @where macro from DataFramesMeta to filter based on dataset name\n",
    "#ds_ifs = @where(datasets, occursin.(\"IFS\", :dataset_id))\n",
    "ds_ifs = DataFramesMeta.@subset(datasets, occursin.(\"IFS\", :dataset_id))"
   ]
  },
  {
   "cell_type": "code",
   "execution_count": 12,
   "id": "f16ea335",
   "metadata": {},
   "outputs": [
    {
     "data": {
      "text/html": [
       "<div><div style = \"float: left;\"><span>26×2 DataFrame</span></div><div style = \"clear: both;\"></div></div><div class = \"data-frame\" style = \"overflow-x: scroll;\"><table class = \"data-frame\" style = \"margin-bottom: 6px;\"><thead><tr class = \"header\"><th class = \"rowNumber\" style = \"font-weight: bold; text-align: right;\">Row</th><th style = \"text-align: left;\">dataset_id</th><th style = \"text-align: left;\">dataset_name</th></tr><tr class = \"subheader headerLastRow\"><th class = \"rowNumber\" style = \"font-weight: bold; text-align: right;\"></th><th title = \"String\" style = \"text-align: left;\">String</th><th title = \"String\" style = \"text-align: left;\">String</th></tr></thead><tbody><tr><td class = \"rowNumber\" style = \"font-weight: bold; text-align: right;\">1</td><td style = \"text-align: left;\">DOT</td><td style = \"text-align: left;\">Direction of Trade Statistics (DOTS)</td></tr><tr><td class = \"rowNumber\" style = \"font-weight: bold; text-align: right;\">2</td><td style = \"text-align: left;\">DOT_2017Q1</td><td style = \"text-align: left;\">Direction of Trade Statistics (DOTS), 2017 Q1</td></tr><tr><td class = \"rowNumber\" style = \"font-weight: bold; text-align: right;\">3</td><td style = \"text-align: left;\">DOT_2017Q2</td><td style = \"text-align: left;\">Direction of Trade Statistics (DOTS), 2017 Q2</td></tr><tr><td class = \"rowNumber\" style = \"font-weight: bold; text-align: right;\">4</td><td style = \"text-align: left;\">DOT_2017Q3</td><td style = \"text-align: left;\">Direction of Trade Statistics (DOTS), 2017 Q3</td></tr><tr><td class = \"rowNumber\" style = \"font-weight: bold; text-align: right;\">5</td><td style = \"text-align: left;\">DOT_2017Q4</td><td style = \"text-align: left;\">Direction of Trade Statistics (DOTS), 2017 Q4</td></tr><tr><td class = \"rowNumber\" style = \"font-weight: bold; text-align: right;\">6</td><td style = \"text-align: left;\">DOT_2018Q1</td><td style = \"text-align: left;\">Direction of Trade Statistics (DOTS), 2018 Q1</td></tr><tr><td class = \"rowNumber\" style = \"font-weight: bold; text-align: right;\">7</td><td style = \"text-align: left;\">DOT_2018Q2</td><td style = \"text-align: left;\">Direction of Trade Statistics (DOTS), 2018 Q2</td></tr><tr><td class = \"rowNumber\" style = \"font-weight: bold; text-align: right;\">8</td><td style = \"text-align: left;\">DOT_2018Q3</td><td style = \"text-align: left;\">Direction of Trade Statistics (DOTS), 2018 Q3</td></tr><tr><td class = \"rowNumber\" style = \"font-weight: bold; text-align: right;\">9</td><td style = \"text-align: left;\">DOT_2018Q4</td><td style = \"text-align: left;\">Direction of Trade Statistics (DOTS), 2018 Q4</td></tr><tr><td class = \"rowNumber\" style = \"font-weight: bold; text-align: right;\">10</td><td style = \"text-align: left;\">DOT_2019Q1</td><td style = \"text-align: left;\">Direction of Trade Statistics (DOTS), 2019 Q1</td></tr><tr><td class = \"rowNumber\" style = \"font-weight: bold; text-align: right;\">11</td><td style = \"text-align: left;\">DOT_2019Q2</td><td style = \"text-align: left;\">Direction of Trade Statistics (DOTS), 2019 Q2</td></tr><tr><td class = \"rowNumber\" style = \"font-weight: bold; text-align: right;\">12</td><td style = \"text-align: left;\">DOT_2019Q3</td><td style = \"text-align: left;\">Direction of Trade Statistics (DOTS), 2019 Q3</td></tr><tr><td class = \"rowNumber\" style = \"font-weight: bold; text-align: right;\">13</td><td style = \"text-align: left;\">DOT_2019Q4</td><td style = \"text-align: left;\">Direction of Trade Statistics (DOTS), 2019 Q4</td></tr><tr><td class = \"rowNumber\" style = \"font-weight: bold; text-align: right;\">14</td><td style = \"text-align: left;\">DOT_2020Q1</td><td style = \"text-align: left;\">Direction of Trade Statistics (DOTS), 2020 Q1</td></tr><tr><td class = \"rowNumber\" style = \"font-weight: bold; text-align: right;\">15</td><td style = \"text-align: left;\">DOT_2020Q2</td><td style = \"text-align: left;\">Direction of Trade Statistics (DOTS), 2020 Q2</td></tr><tr><td class = \"rowNumber\" style = \"font-weight: bold; text-align: right;\">16</td><td style = \"text-align: left;\">DOT_2020Q3</td><td style = \"text-align: left;\">Direction of Trade Statistics (DOTS), 2020 Q3</td></tr><tr><td class = \"rowNumber\" style = \"font-weight: bold; text-align: right;\">17</td><td style = \"text-align: left;\">DOT_2020Q4</td><td style = \"text-align: left;\">Direction of Trade Statistics (DOTS), 2020 Q4</td></tr><tr><td class = \"rowNumber\" style = \"font-weight: bold; text-align: right;\">18</td><td style = \"text-align: left;\">DOT_2021Q1</td><td style = \"text-align: left;\">Direction of Trade Statistics (DOTS), 2021 Q1</td></tr><tr><td class = \"rowNumber\" style = \"font-weight: bold; text-align: right;\">19</td><td style = \"text-align: left;\">DOT_2021Q2</td><td style = \"text-align: left;\">Direction of Trade Statistics (DOTS), 2021 Q2</td></tr><tr><td class = \"rowNumber\" style = \"font-weight: bold; text-align: right;\">20</td><td style = \"text-align: left;\">DOT_2021Q3</td><td style = \"text-align: left;\">Direction of Trade Statistics (DOTS), 2021 Q3</td></tr><tr><td class = \"rowNumber\" style = \"font-weight: bold; text-align: right;\">21</td><td style = \"text-align: left;\">DOT_2021Q4</td><td style = \"text-align: left;\">Direction of Trade Statistics (DOTS), 2021 Q4</td></tr><tr><td class = \"rowNumber\" style = \"font-weight: bold; text-align: right;\">22</td><td style = \"text-align: left;\">DOT_2022Q1</td><td style = \"text-align: left;\">Direction of Trade Statistics (DOTS), 2022 Q1</td></tr><tr><td class = \"rowNumber\" style = \"font-weight: bold; text-align: right;\">23</td><td style = \"text-align: left;\">DOT_2022Q2</td><td style = \"text-align: left;\">Direction of Trade Statistics (DOTS), 2022 Q2</td></tr><tr><td class = \"rowNumber\" style = \"font-weight: bold; text-align: right;\">24</td><td style = \"text-align: left;\">DOT_2022Q3</td><td style = \"text-align: left;\">Direction of Trade Statistics (DOTS), 2022 Q3</td></tr><tr><td class = \"rowNumber\" style = \"font-weight: bold; text-align: right;\">25</td><td style = \"text-align: left;\">DOT_2022Q4</td><td style = \"text-align: left;\">Direction of Trade Statistics (DOTS), 2022 Q4</td></tr><tr><td class = \"rowNumber\" style = \"font-weight: bold; text-align: right;\">26</td><td style = \"text-align: left;\">DOT_2023Q1</td><td style = \"text-align: left;\">Direction of Trade Statistics (DOTS), 2023 Q1</td></tr></tbody></table></div>"
      ],
      "text/latex": [
       "\\begin{tabular}{r|cc}\n",
       "\t& dataset\\_id & dataset\\_name\\\\\n",
       "\t\\hline\n",
       "\t& String & String\\\\\n",
       "\t\\hline\n",
       "\t1 & DOT & Direction of Trade Statistics (DOTS) \\\\\n",
       "\t2 & DOT\\_2017Q1 & Direction of Trade Statistics (DOTS), 2017 Q1 \\\\\n",
       "\t3 & DOT\\_2017Q2 & Direction of Trade Statistics (DOTS), 2017 Q2 \\\\\n",
       "\t4 & DOT\\_2017Q3 & Direction of Trade Statistics (DOTS), 2017 Q3 \\\\\n",
       "\t5 & DOT\\_2017Q4 & Direction of Trade Statistics (DOTS), 2017 Q4 \\\\\n",
       "\t6 & DOT\\_2018Q1 & Direction of Trade Statistics (DOTS), 2018 Q1 \\\\\n",
       "\t7 & DOT\\_2018Q2 & Direction of Trade Statistics (DOTS), 2018 Q2 \\\\\n",
       "\t8 & DOT\\_2018Q3 & Direction of Trade Statistics (DOTS), 2018 Q3 \\\\\n",
       "\t9 & DOT\\_2018Q4 & Direction of Trade Statistics (DOTS), 2018 Q4 \\\\\n",
       "\t10 & DOT\\_2019Q1 & Direction of Trade Statistics (DOTS), 2019 Q1 \\\\\n",
       "\t11 & DOT\\_2019Q2 & Direction of Trade Statistics (DOTS), 2019 Q2 \\\\\n",
       "\t12 & DOT\\_2019Q3 & Direction of Trade Statistics (DOTS), 2019 Q3 \\\\\n",
       "\t13 & DOT\\_2019Q4 & Direction of Trade Statistics (DOTS), 2019 Q4 \\\\\n",
       "\t14 & DOT\\_2020Q1 & Direction of Trade Statistics (DOTS), 2020 Q1 \\\\\n",
       "\t15 & DOT\\_2020Q2 & Direction of Trade Statistics (DOTS), 2020 Q2 \\\\\n",
       "\t16 & DOT\\_2020Q3 & Direction of Trade Statistics (DOTS), 2020 Q3 \\\\\n",
       "\t17 & DOT\\_2020Q4 & Direction of Trade Statistics (DOTS), 2020 Q4 \\\\\n",
       "\t18 & DOT\\_2021Q1 & Direction of Trade Statistics (DOTS), 2021 Q1 \\\\\n",
       "\t19 & DOT\\_2021Q2 & Direction of Trade Statistics (DOTS), 2021 Q2 \\\\\n",
       "\t20 & DOT\\_2021Q3 & Direction of Trade Statistics (DOTS), 2021 Q3 \\\\\n",
       "\t21 & DOT\\_2021Q4 & Direction of Trade Statistics (DOTS), 2021 Q4 \\\\\n",
       "\t22 & DOT\\_2022Q1 & Direction of Trade Statistics (DOTS), 2022 Q1 \\\\\n",
       "\t23 & DOT\\_2022Q2 & Direction of Trade Statistics (DOTS), 2022 Q2 \\\\\n",
       "\t24 & DOT\\_2022Q3 & Direction of Trade Statistics (DOTS), 2022 Q3 \\\\\n",
       "\t25 & DOT\\_2022Q4 & Direction of Trade Statistics (DOTS), 2022 Q4 \\\\\n",
       "\t26 & DOT\\_2023Q1 & Direction of Trade Statistics (DOTS), 2023 Q1 \\\\\n",
       "\\end{tabular}\n"
      ],
      "text/plain": [
       "\u001b[1m26×2 DataFrame\u001b[0m\n",
       "\u001b[1m Row \u001b[0m│\u001b[1m dataset_id \u001b[0m\u001b[1m dataset_name                      \u001b[0m\n",
       "     │\u001b[90m String     \u001b[0m\u001b[90m String                            \u001b[0m\n",
       "─────┼───────────────────────────────────────────────\n",
       "   1 │ DOT         Direction of Trade Statistics (D…\n",
       "   2 │ DOT_2017Q1  Direction of Trade Statistics (D…\n",
       "   3 │ DOT_2017Q2  Direction of Trade Statistics (D…\n",
       "   4 │ DOT_2017Q3  Direction of Trade Statistics (D…\n",
       "   5 │ DOT_2017Q4  Direction of Trade Statistics (D…\n",
       "   6 │ DOT_2018Q1  Direction of Trade Statistics (D…\n",
       "   7 │ DOT_2018Q2  Direction of Trade Statistics (D…\n",
       "   8 │ DOT_2018Q3  Direction of Trade Statistics (D…\n",
       "   9 │ DOT_2018Q4  Direction of Trade Statistics (D…\n",
       "  10 │ DOT_2019Q1  Direction of Trade Statistics (D…\n",
       "  11 │ DOT_2019Q2  Direction of Trade Statistics (D…\n",
       "  ⋮  │     ⋮                       ⋮\n",
       "  17 │ DOT_2020Q4  Direction of Trade Statistics (D…\n",
       "  18 │ DOT_2021Q1  Direction of Trade Statistics (D…\n",
       "  19 │ DOT_2021Q2  Direction of Trade Statistics (D…\n",
       "  20 │ DOT_2021Q3  Direction of Trade Statistics (D…\n",
       "  21 │ DOT_2021Q4  Direction of Trade Statistics (D…\n",
       "  22 │ DOT_2022Q1  Direction of Trade Statistics (D…\n",
       "  23 │ DOT_2022Q2  Direction of Trade Statistics (D…\n",
       "  24 │ DOT_2022Q3  Direction of Trade Statistics (D…\n",
       "  25 │ DOT_2022Q4  Direction of Trade Statistics (D…\n",
       "  26 │ DOT_2023Q1  Direction of Trade Statistics (D…\n",
       "\u001b[36m                                       5 rows omitted\u001b[0m"
      ]
     },
     "execution_count": 13,
     "metadata": {},
     "output_type": "execute_result"
    }
   ],
   "source": [
    "#ds_dot = @where(datasets, occursin.(\"DOT\", :dataset_id))\n",
    "ds_dot = DataFramesMeta.@subset(datasets, occursin.(\"DOT\", :dataset_id))"
   ]
  },
  {
   "cell_type": "markdown",
   "id": "b0a7923f",
   "metadata": {},
   "source": [
    "# Retrieve data from the IFS dataset\n",
    "\n",
    "## With one request:\n"
   ]
  },
  {
   "cell_type": "code",
   "execution_count": 13,
   "id": "59b18624",
   "metadata": {},
   "outputs": [
    {
     "data": {
      "text/plain": [
       "IMF Data Series\n",
       "Database: IFS\n",
       "Area: US\n",
       "Indicator: NGDP_SA_XDC\n",
       "Description: \n",
       "Frequency: Q\n",
       "Time Period: 1950 to 2023\n",
       "Data: 296 x 2 DataFrame\n"
      ]
     },
     "execution_count": 14,
     "metadata": {},
     "output_type": "execute_result"
    }
   ],
   "source": [
    "us_gdp = get_ifs_data(\"US\", \"NGDP_SA_XDC\", \"Q\", 1900, 2100)"
   ]
  },
  {
   "cell_type": "code",
   "execution_count": 14,
   "id": "1ba72158",
   "metadata": {},
   "outputs": [
    {
     "data": {
      "text/html": [
       "<div><div style = \"float: left;\"><span>296×2 DataFrame</span></div><div style = \"float: right;\"><span style = \"font-style: italic;\">271 rows omitted</span></div><div style = \"clear: both;\"></div></div><div class = \"data-frame\" style = \"overflow-x: scroll;\"><table class = \"data-frame\" style = \"margin-bottom: 6px;\"><thead><tr class = \"header\"><th class = \"rowNumber\" style = \"font-weight: bold; text-align: right;\">Row</th><th style = \"text-align: left;\">date</th><th style = \"text-align: left;\">value</th></tr><tr class = \"subheader headerLastRow\"><th class = \"rowNumber\" style = \"font-weight: bold; text-align: right;\"></th><th title = \"Dates.Date\" style = \"text-align: left;\">Date</th><th title = \"Float64\" style = \"text-align: left;\">Float64</th></tr></thead><tbody><tr><td class = \"rowNumber\" style = \"font-weight: bold; text-align: right;\">1</td><td style = \"text-align: left;\">1950-03-01</td><td style = \"text-align: right;\">70207.0</td></tr><tr><td class = \"rowNumber\" style = \"font-weight: bold; text-align: right;\">2</td><td style = \"text-align: left;\">1950-06-01</td><td style = \"text-align: right;\">72595.8</td></tr><tr><td class = \"rowNumber\" style = \"font-weight: bold; text-align: right;\">3</td><td style = \"text-align: left;\">1950-09-01</td><td style = \"text-align: right;\">77038.3</td></tr><tr><td class = \"rowNumber\" style = \"font-weight: bold; text-align: right;\">4</td><td style = \"text-align: left;\">1950-12-01</td><td style = \"text-align: right;\">79986.3</td></tr><tr><td class = \"rowNumber\" style = \"font-weight: bold; text-align: right;\">5</td><td style = \"text-align: left;\">1951-03-01</td><td style = \"text-align: right;\">84000.0</td></tr><tr><td class = \"rowNumber\" style = \"font-weight: bold; text-align: right;\">6</td><td style = \"text-align: left;\">1951-06-01</td><td style = \"text-align: right;\">86022.5</td></tr><tr><td class = \"rowNumber\" style = \"font-weight: bold; text-align: right;\">7</td><td style = \"text-align: left;\">1951-09-01</td><td style = \"text-align: right;\">87846.3</td></tr><tr><td class = \"rowNumber\" style = \"font-weight: bold; text-align: right;\">8</td><td style = \"text-align: left;\">1951-12-01</td><td style = \"text-align: right;\">89044.5</td></tr><tr><td class = \"rowNumber\" style = \"font-weight: bold; text-align: right;\">9</td><td style = \"text-align: left;\">1952-03-01</td><td style = \"text-align: right;\">89955.0</td></tr><tr><td class = \"rowNumber\" style = \"font-weight: bold; text-align: right;\">10</td><td style = \"text-align: left;\">1952-06-01</td><td style = \"text-align: right;\">90257.5</td></tr><tr><td class = \"rowNumber\" style = \"font-weight: bold; text-align: right;\">11</td><td style = \"text-align: left;\">1952-09-01</td><td style = \"text-align: right;\">91925.3</td></tr><tr><td class = \"rowNumber\" style = \"font-weight: bold; text-align: right;\">12</td><td style = \"text-align: left;\">1952-12-01</td><td style = \"text-align: right;\">95203.0</td></tr><tr><td class = \"rowNumber\" style = \"font-weight: bold; text-align: right;\">13</td><td style = \"text-align: left;\">1953-03-01</td><td style = \"text-align: right;\">96995.0</td></tr><tr><td style = \"text-align: right;\">&vellip;</td><td style = \"text-align: right;\">&vellip;</td><td style = \"text-align: right;\">&vellip;</td></tr><tr><td class = \"rowNumber\" style = \"font-weight: bold; text-align: right;\">285</td><td style = \"text-align: left;\">2021-03-01</td><td style = \"text-align: right;\">5.65005e6</td></tr><tr><td class = \"rowNumber\" style = \"font-weight: bold; text-align: right;\">286</td><td style = \"text-align: left;\">2021-06-01</td><td style = \"text-align: right;\">5.82309e6</td></tr><tr><td class = \"rowNumber\" style = \"font-weight: bold; text-align: right;\">287</td><td style = \"text-align: left;\">2021-09-01</td><td style = \"text-align: right;\">5.95724e6</td></tr><tr><td class = \"rowNumber\" style = \"font-weight: bold; text-align: right;\">288</td><td style = \"text-align: left;\">2021-12-01</td><td style = \"text-align: right;\">6.16365e6</td></tr><tr><td class = \"rowNumber\" style = \"font-weight: bold; text-align: right;\">289</td><td style = \"text-align: left;\">2022-03-01</td><td style = \"text-align: right;\">6.25728e6</td></tr><tr><td class = \"rowNumber\" style = \"font-weight: bold; text-align: right;\">290</td><td style = \"text-align: left;\">2022-06-01</td><td style = \"text-align: right;\">6.38607e6</td></tr><tr><td class = \"rowNumber\" style = \"font-weight: bold; text-align: right;\">291</td><td style = \"text-align: left;\">2022-09-01</td><td style = \"text-align: right;\">6.49866e6</td></tr><tr><td class = \"rowNumber\" style = \"font-weight: bold; text-align: right;\">292</td><td style = \"text-align: left;\">2022-12-01</td><td style = \"text-align: right;\">6.6021e6</td></tr><tr><td class = \"rowNumber\" style = \"font-weight: bold; text-align: right;\">293</td><td style = \"text-align: left;\">2023-03-01</td><td style = \"text-align: right;\">6.7034e6</td></tr><tr><td class = \"rowNumber\" style = \"font-weight: bold; text-align: right;\">294</td><td style = \"text-align: left;\">2023-06-01</td><td style = \"text-align: right;\">6.76575e6</td></tr><tr><td class = \"rowNumber\" style = \"font-weight: bold; text-align: right;\">295</td><td style = \"text-align: left;\">2023-09-01</td><td style = \"text-align: right;\">6.90253e6</td></tr><tr><td class = \"rowNumber\" style = \"font-weight: bold; text-align: right;\">296</td><td style = \"text-align: left;\">2023-12-01</td><td style = \"text-align: right;\">6.98471e6</td></tr></tbody></table></div>"
      ],
      "text/latex": [
       "\\begin{tabular}{r|cc}\n",
       "\t& date & value\\\\\n",
       "\t\\hline\n",
       "\t& Date & Float64\\\\\n",
       "\t\\hline\n",
       "\t1 & 1950-03-01 & 70207.0 \\\\\n",
       "\t2 & 1950-06-01 & 72595.8 \\\\\n",
       "\t3 & 1950-09-01 & 77038.3 \\\\\n",
       "\t4 & 1950-12-01 & 79986.3 \\\\\n",
       "\t5 & 1951-03-01 & 84000.0 \\\\\n",
       "\t6 & 1951-06-01 & 86022.5 \\\\\n",
       "\t7 & 1951-09-01 & 87846.3 \\\\\n",
       "\t8 & 1951-12-01 & 89044.5 \\\\\n",
       "\t9 & 1952-03-01 & 89955.0 \\\\\n",
       "\t10 & 1952-06-01 & 90257.5 \\\\\n",
       "\t11 & 1952-09-01 & 91925.3 \\\\\n",
       "\t12 & 1952-12-01 & 95203.0 \\\\\n",
       "\t13 & 1953-03-01 & 96995.0 \\\\\n",
       "\t14 & 1953-06-01 & 97937.3 \\\\\n",
       "\t15 & 1953-09-01 & 97792.8 \\\\\n",
       "\t16 & 1953-12-01 & 96492.5 \\\\\n",
       "\t17 & 1954-03-01 & 96336.3 \\\\\n",
       "\t18 & 1954-06-01 & 96530.3 \\\\\n",
       "\t19 & 1954-09-01 & 97749.0 \\\\\n",
       "\t20 & 1954-12-01 & 99933.5 \\\\\n",
       "\t21 & 1955-03-01 & 1.03268e5 \\\\\n",
       "\t22 & 1955-06-01 & 105383.0 \\\\\n",
       "\t23 & 1955-09-01 & 1.07555e5 \\\\\n",
       "\t24 & 1955-12-01 & 109273.0 \\\\\n",
       "\t25 & 1956-03-01 & 1.09936e5 \\\\\n",
       "\t26 & 1956-06-01 & 1.11502e5 \\\\\n",
       "\t27 & 1956-09-01 & 1.12798e5 \\\\\n",
       "\t28 & 1956-12-01 & 1.15116e5 \\\\\n",
       "\t29 & 1957-03-01 & 1.17445e5 \\\\\n",
       "\t30 & 1957-06-01 & 1.18006e5 \\\\\n",
       "\t$\\dots$ & $\\dots$ & $\\dots$ \\\\\n",
       "\\end{tabular}\n"
      ],
      "text/plain": [
       "\u001b[1m296×2 DataFrame\u001b[0m\n",
       "\u001b[1m Row \u001b[0m│\u001b[1m date       \u001b[0m\u001b[1m value         \u001b[0m\n",
       "     │\u001b[90m Date       \u001b[0m\u001b[90m Float64       \u001b[0m\n",
       "─────┼───────────────────────────\n",
       "   1 │ 1950-03-01  70207.0\n",
       "   2 │ 1950-06-01  72595.8\n",
       "   3 │ 1950-09-01  77038.3\n",
       "   4 │ 1950-12-01  79986.3\n",
       "   5 │ 1951-03-01  84000.0\n",
       "   6 │ 1951-06-01  86022.5\n",
       "   7 │ 1951-09-01  87846.3\n",
       "   8 │ 1951-12-01  89044.5\n",
       "   9 │ 1952-03-01  89955.0\n",
       "  10 │ 1952-06-01  90257.5\n",
       "  11 │ 1952-09-01  91925.3\n",
       "  ⋮  │     ⋮             ⋮\n",
       " 287 │ 2021-09-01      5.95724e6\n",
       " 288 │ 2021-12-01      6.16365e6\n",
       " 289 │ 2022-03-01      6.25728e6\n",
       " 290 │ 2022-06-01      6.38607e6\n",
       " 291 │ 2022-09-01      6.49866e6\n",
       " 292 │ 2022-12-01      6.6021e6\n",
       " 293 │ 2023-03-01      6.7034e6\n",
       " 294 │ 2023-06-01      6.76575e6\n",
       " 295 │ 2023-09-01      6.90253e6\n",
       " 296 │ 2023-12-01      6.98471e6\n",
       "\u001b[36m                 275 rows omitted\u001b[0m"
      ]
     },
     "execution_count": 15,
     "metadata": {},
     "output_type": "execute_result"
    }
   ],
   "source": [
    "us_gdp.series"
   ]
  },
  {
   "cell_type": "markdown",
   "id": "1c4d8fe6",
   "metadata": {},
   "source": [
    "## With multiple requests:\n"
   ]
  },
  {
   "cell_type": "code",
   "execution_count": 15,
   "id": "7f757086",
   "metadata": {},
   "outputs": [
    {
     "data": {
      "text/plain": [
       "2-element Vector{IMFSeries}:\n",
       " IMF Data Series\n",
       "Database: IFS\n",
       "Area: US\n",
       "Indicator: NGDP_SA_XDC\n",
       "Description: \n",
       "Frequency: Q\n",
       "Time Period: 1950 to 2023\n",
       "Data: 296 x 2 DataFrame\n",
       "\n",
       " IMF Data Series\n",
       "Database: IFS\n",
       "Area: CA\n",
       "Indicator: NGDP_SA_XDC\n",
       "Description: \n",
       "Frequency: Q\n",
       "Time Period: 1961 to 2023\n",
       "Data: 252 x 2 DataFrame\n"
      ]
     },
     "execution_count": 16,
     "metadata": {},
     "output_type": "execute_result"
    }
   ],
   "source": [
    "countries = [\"US\",\"CA\"]\n",
    "indicators = [\"NGDP_SA_XDC\"]\n",
    "us_ca_gdp = get_ifs_data(countries, indicators, \"Q\", 1900, 2100)"
   ]
  },
  {
   "cell_type": "code",
   "execution_count": 16,
   "id": "2e89a11b",
   "metadata": {},
   "outputs": [
    {
     "data": {
      "text/html": [
       "<div><div style = \"float: left;\"><span>296×2 DataFrame</span></div><div style = \"float: right;\"><span style = \"font-style: italic;\">271 rows omitted</span></div><div style = \"clear: both;\"></div></div><div class = \"data-frame\" style = \"overflow-x: scroll;\"><table class = \"data-frame\" style = \"margin-bottom: 6px;\"><thead><tr class = \"header\"><th class = \"rowNumber\" style = \"font-weight: bold; text-align: right;\">Row</th><th style = \"text-align: left;\">date</th><th style = \"text-align: left;\">value</th></tr><tr class = \"subheader headerLastRow\"><th class = \"rowNumber\" style = \"font-weight: bold; text-align: right;\"></th><th title = \"Dates.Date\" style = \"text-align: left;\">Date</th><th title = \"Float64\" style = \"text-align: left;\">Float64</th></tr></thead><tbody><tr><td class = \"rowNumber\" style = \"font-weight: bold; text-align: right;\">1</td><td style = \"text-align: left;\">1950-03-01</td><td style = \"text-align: right;\">70207.0</td></tr><tr><td class = \"rowNumber\" style = \"font-weight: bold; text-align: right;\">2</td><td style = \"text-align: left;\">1950-06-01</td><td style = \"text-align: right;\">72595.8</td></tr><tr><td class = \"rowNumber\" style = \"font-weight: bold; text-align: right;\">3</td><td style = \"text-align: left;\">1950-09-01</td><td style = \"text-align: right;\">77038.3</td></tr><tr><td class = \"rowNumber\" style = \"font-weight: bold; text-align: right;\">4</td><td style = \"text-align: left;\">1950-12-01</td><td style = \"text-align: right;\">79986.3</td></tr><tr><td class = \"rowNumber\" style = \"font-weight: bold; text-align: right;\">5</td><td style = \"text-align: left;\">1951-03-01</td><td style = \"text-align: right;\">84000.0</td></tr><tr><td class = \"rowNumber\" style = \"font-weight: bold; text-align: right;\">6</td><td style = \"text-align: left;\">1951-06-01</td><td style = \"text-align: right;\">86022.5</td></tr><tr><td class = \"rowNumber\" style = \"font-weight: bold; text-align: right;\">7</td><td style = \"text-align: left;\">1951-09-01</td><td style = \"text-align: right;\">87846.3</td></tr><tr><td class = \"rowNumber\" style = \"font-weight: bold; text-align: right;\">8</td><td style = \"text-align: left;\">1951-12-01</td><td style = \"text-align: right;\">89044.5</td></tr><tr><td class = \"rowNumber\" style = \"font-weight: bold; text-align: right;\">9</td><td style = \"text-align: left;\">1952-03-01</td><td style = \"text-align: right;\">89955.0</td></tr><tr><td class = \"rowNumber\" style = \"font-weight: bold; text-align: right;\">10</td><td style = \"text-align: left;\">1952-06-01</td><td style = \"text-align: right;\">90257.5</td></tr><tr><td class = \"rowNumber\" style = \"font-weight: bold; text-align: right;\">11</td><td style = \"text-align: left;\">1952-09-01</td><td style = \"text-align: right;\">91925.3</td></tr><tr><td class = \"rowNumber\" style = \"font-weight: bold; text-align: right;\">12</td><td style = \"text-align: left;\">1952-12-01</td><td style = \"text-align: right;\">95203.0</td></tr><tr><td class = \"rowNumber\" style = \"font-weight: bold; text-align: right;\">13</td><td style = \"text-align: left;\">1953-03-01</td><td style = \"text-align: right;\">96995.0</td></tr><tr><td style = \"text-align: right;\">&vellip;</td><td style = \"text-align: right;\">&vellip;</td><td style = \"text-align: right;\">&vellip;</td></tr><tr><td class = \"rowNumber\" style = \"font-weight: bold; text-align: right;\">285</td><td style = \"text-align: left;\">2021-03-01</td><td style = \"text-align: right;\">5.65005e6</td></tr><tr><td class = \"rowNumber\" style = \"font-weight: bold; text-align: right;\">286</td><td style = \"text-align: left;\">2021-06-01</td><td style = \"text-align: right;\">5.82309e6</td></tr><tr><td class = \"rowNumber\" style = \"font-weight: bold; text-align: right;\">287</td><td style = \"text-align: left;\">2021-09-01</td><td style = \"text-align: right;\">5.95724e6</td></tr><tr><td class = \"rowNumber\" style = \"font-weight: bold; text-align: right;\">288</td><td style = \"text-align: left;\">2021-12-01</td><td style = \"text-align: right;\">6.16365e6</td></tr><tr><td class = \"rowNumber\" style = \"font-weight: bold; text-align: right;\">289</td><td style = \"text-align: left;\">2022-03-01</td><td style = \"text-align: right;\">6.25728e6</td></tr><tr><td class = \"rowNumber\" style = \"font-weight: bold; text-align: right;\">290</td><td style = \"text-align: left;\">2022-06-01</td><td style = \"text-align: right;\">6.38607e6</td></tr><tr><td class = \"rowNumber\" style = \"font-weight: bold; text-align: right;\">291</td><td style = \"text-align: left;\">2022-09-01</td><td style = \"text-align: right;\">6.49866e6</td></tr><tr><td class = \"rowNumber\" style = \"font-weight: bold; text-align: right;\">292</td><td style = \"text-align: left;\">2022-12-01</td><td style = \"text-align: right;\">6.6021e6</td></tr><tr><td class = \"rowNumber\" style = \"font-weight: bold; text-align: right;\">293</td><td style = \"text-align: left;\">2023-03-01</td><td style = \"text-align: right;\">6.7034e6</td></tr><tr><td class = \"rowNumber\" style = \"font-weight: bold; text-align: right;\">294</td><td style = \"text-align: left;\">2023-06-01</td><td style = \"text-align: right;\">6.76575e6</td></tr><tr><td class = \"rowNumber\" style = \"font-weight: bold; text-align: right;\">295</td><td style = \"text-align: left;\">2023-09-01</td><td style = \"text-align: right;\">6.90253e6</td></tr><tr><td class = \"rowNumber\" style = \"font-weight: bold; text-align: right;\">296</td><td style = \"text-align: left;\">2023-12-01</td><td style = \"text-align: right;\">6.98471e6</td></tr></tbody></table></div>"
      ],
      "text/latex": [
       "\\begin{tabular}{r|cc}\n",
       "\t& date & value\\\\\n",
       "\t\\hline\n",
       "\t& Date & Float64\\\\\n",
       "\t\\hline\n",
       "\t1 & 1950-03-01 & 70207.0 \\\\\n",
       "\t2 & 1950-06-01 & 72595.8 \\\\\n",
       "\t3 & 1950-09-01 & 77038.3 \\\\\n",
       "\t4 & 1950-12-01 & 79986.3 \\\\\n",
       "\t5 & 1951-03-01 & 84000.0 \\\\\n",
       "\t6 & 1951-06-01 & 86022.5 \\\\\n",
       "\t7 & 1951-09-01 & 87846.3 \\\\\n",
       "\t8 & 1951-12-01 & 89044.5 \\\\\n",
       "\t9 & 1952-03-01 & 89955.0 \\\\\n",
       "\t10 & 1952-06-01 & 90257.5 \\\\\n",
       "\t11 & 1952-09-01 & 91925.3 \\\\\n",
       "\t12 & 1952-12-01 & 95203.0 \\\\\n",
       "\t13 & 1953-03-01 & 96995.0 \\\\\n",
       "\t14 & 1953-06-01 & 97937.3 \\\\\n",
       "\t15 & 1953-09-01 & 97792.8 \\\\\n",
       "\t16 & 1953-12-01 & 96492.5 \\\\\n",
       "\t17 & 1954-03-01 & 96336.3 \\\\\n",
       "\t18 & 1954-06-01 & 96530.3 \\\\\n",
       "\t19 & 1954-09-01 & 97749.0 \\\\\n",
       "\t20 & 1954-12-01 & 99933.5 \\\\\n",
       "\t21 & 1955-03-01 & 1.03268e5 \\\\\n",
       "\t22 & 1955-06-01 & 105383.0 \\\\\n",
       "\t23 & 1955-09-01 & 1.07555e5 \\\\\n",
       "\t24 & 1955-12-01 & 109273.0 \\\\\n",
       "\t25 & 1956-03-01 & 1.09936e5 \\\\\n",
       "\t26 & 1956-06-01 & 1.11502e5 \\\\\n",
       "\t27 & 1956-09-01 & 1.12798e5 \\\\\n",
       "\t28 & 1956-12-01 & 1.15116e5 \\\\\n",
       "\t29 & 1957-03-01 & 1.17445e5 \\\\\n",
       "\t30 & 1957-06-01 & 1.18006e5 \\\\\n",
       "\t$\\dots$ & $\\dots$ & $\\dots$ \\\\\n",
       "\\end{tabular}\n"
      ],
      "text/plain": [
       "\u001b[1m296×2 DataFrame\u001b[0m\n",
       "\u001b[1m Row \u001b[0m│\u001b[1m date       \u001b[0m\u001b[1m value         \u001b[0m\n",
       "     │\u001b[90m Date       \u001b[0m\u001b[90m Float64       \u001b[0m\n",
       "─────┼───────────────────────────\n",
       "   1 │ 1950-03-01  70207.0\n",
       "   2 │ 1950-06-01  72595.8\n",
       "   3 │ 1950-09-01  77038.3\n",
       "   4 │ 1950-12-01  79986.3\n",
       "   5 │ 1951-03-01  84000.0\n",
       "   6 │ 1951-06-01  86022.5\n",
       "   7 │ 1951-09-01  87846.3\n",
       "   8 │ 1951-12-01  89044.5\n",
       "   9 │ 1952-03-01  89955.0\n",
       "  10 │ 1952-06-01  90257.5\n",
       "  11 │ 1952-09-01  91925.3\n",
       "  ⋮  │     ⋮             ⋮\n",
       " 287 │ 2021-09-01      5.95724e6\n",
       " 288 │ 2021-12-01      6.16365e6\n",
       " 289 │ 2022-03-01      6.25728e6\n",
       " 290 │ 2022-06-01      6.38607e6\n",
       " 291 │ 2022-09-01      6.49866e6\n",
       " 292 │ 2022-12-01      6.6021e6\n",
       " 293 │ 2023-03-01      6.7034e6\n",
       " 294 │ 2023-06-01      6.76575e6\n",
       " 295 │ 2023-09-01      6.90253e6\n",
       " 296 │ 2023-12-01      6.98471e6\n",
       "\u001b[36m                 275 rows omitted\u001b[0m"
      ]
     },
     "execution_count": 17,
     "metadata": {},
     "output_type": "execute_result"
    }
   ],
   "source": [
    "us_ca_gdp[1].series"
   ]
  },
  {
   "cell_type": "code",
   "execution_count": 17,
   "id": "16fd17e2",
   "metadata": {},
   "outputs": [
    {
     "data": {
      "text/html": [
       "<div><div style = \"float: left;\"><span>252×2 DataFrame</span></div><div style = \"float: right;\"><span style = \"font-style: italic;\">227 rows omitted</span></div><div style = \"clear: both;\"></div></div><div class = \"data-frame\" style = \"overflow-x: scroll;\"><table class = \"data-frame\" style = \"margin-bottom: 6px;\"><thead><tr class = \"header\"><th class = \"rowNumber\" style = \"font-weight: bold; text-align: right;\">Row</th><th style = \"text-align: left;\">date</th><th style = \"text-align: left;\">value</th></tr><tr class = \"subheader headerLastRow\"><th class = \"rowNumber\" style = \"font-weight: bold; text-align: right;\"></th><th title = \"Dates.Date\" style = \"text-align: left;\">Date</th><th title = \"Float64\" style = \"text-align: left;\">Float64</th></tr></thead><tbody><tr><td class = \"rowNumber\" style = \"font-weight: bold; text-align: right;\">1</td><td style = \"text-align: left;\">1961-03-01</td><td style = \"text-align: right;\">10150.0</td></tr><tr><td class = \"rowNumber\" style = \"font-weight: bold; text-align: right;\">2</td><td style = \"text-align: left;\">1961-06-01</td><td style = \"text-align: right;\">10374.0</td></tr><tr><td class = \"rowNumber\" style = \"font-weight: bold; text-align: right;\">3</td><td style = \"text-align: left;\">1961-09-01</td><td style = \"text-align: right;\">10651.0</td></tr><tr><td class = \"rowNumber\" style = \"font-weight: bold; text-align: right;\">4</td><td style = \"text-align: left;\">1961-12-01</td><td style = \"text-align: right;\">10851.0</td></tr><tr><td class = \"rowNumber\" style = \"font-weight: bold; text-align: right;\">5</td><td style = \"text-align: left;\">1962-03-01</td><td style = \"text-align: right;\">11156.0</td></tr><tr><td class = \"rowNumber\" style = \"font-weight: bold; text-align: right;\">6</td><td style = \"text-align: left;\">1962-06-01</td><td style = \"text-align: right;\">11283.0</td></tr><tr><td class = \"rowNumber\" style = \"font-weight: bold; text-align: right;\">7</td><td style = \"text-align: left;\">1962-09-01</td><td style = \"text-align: right;\">11517.0</td></tr><tr><td class = \"rowNumber\" style = \"font-weight: bold; text-align: right;\">8</td><td style = \"text-align: left;\">1962-12-01</td><td style = \"text-align: right;\">11783.0</td></tr><tr><td class = \"rowNumber\" style = \"font-weight: bold; text-align: right;\">9</td><td style = \"text-align: left;\">1963-03-01</td><td style = \"text-align: right;\">11896.0</td></tr><tr><td class = \"rowNumber\" style = \"font-weight: bold; text-align: right;\">10</td><td style = \"text-align: left;\">1963-06-01</td><td style = \"text-align: right;\">12139.0</td></tr><tr><td class = \"rowNumber\" style = \"font-weight: bold; text-align: right;\">11</td><td style = \"text-align: left;\">1963-09-01</td><td style = \"text-align: right;\">12338.0</td></tr><tr><td class = \"rowNumber\" style = \"font-weight: bold; text-align: right;\">12</td><td style = \"text-align: left;\">1963-12-01</td><td style = \"text-align: right;\">12840.0</td></tr><tr><td class = \"rowNumber\" style = \"font-weight: bold; text-align: right;\">13</td><td style = \"text-align: left;\">1964-03-01</td><td style = \"text-align: right;\">13144.0</td></tr><tr><td style = \"text-align: right;\">&vellip;</td><td style = \"text-align: right;\">&vellip;</td><td style = \"text-align: right;\">&vellip;</td></tr><tr><td class = \"rowNumber\" style = \"font-weight: bold; text-align: right;\">241</td><td style = \"text-align: left;\">2021-03-01</td><td style = \"text-align: right;\">605126.0</td></tr><tr><td class = \"rowNumber\" style = \"font-weight: bold; text-align: right;\">242</td><td style = \"text-align: left;\">2021-06-01</td><td style = \"text-align: right;\">616713.0</td></tr><tr><td class = \"rowNumber\" style = \"font-weight: bold; text-align: right;\">243</td><td style = \"text-align: left;\">2021-09-01</td><td style = \"text-align: right;\">635451.0</td></tr><tr><td class = \"rowNumber\" style = \"font-weight: bold; text-align: right;\">244</td><td style = \"text-align: left;\">2021-12-01</td><td style = \"text-align: right;\">659833.0</td></tr><tr><td class = \"rowNumber\" style = \"font-weight: bold; text-align: right;\">245</td><td style = \"text-align: left;\">2022-03-01</td><td style = \"text-align: right;\">681646.0</td></tr><tr><td class = \"rowNumber\" style = \"font-weight: bold; text-align: right;\">246</td><td style = \"text-align: left;\">2022-06-01</td><td style = \"text-align: right;\">710536.0</td></tr><tr><td class = \"rowNumber\" style = \"font-weight: bold; text-align: right;\">247</td><td style = \"text-align: left;\">2022-09-01</td><td style = \"text-align: right;\">711218.0</td></tr><tr><td class = \"rowNumber\" style = \"font-weight: bold; text-align: right;\">248</td><td style = \"text-align: left;\">2022-12-01</td><td style = \"text-align: right;\">709889.0</td></tr><tr><td class = \"rowNumber\" style = \"font-weight: bold; text-align: right;\">249</td><td style = \"text-align: left;\">2023-03-01</td><td style = \"text-align: right;\">709332.0</td></tr><tr><td class = \"rowNumber\" style = \"font-weight: bold; text-align: right;\">250</td><td style = \"text-align: left;\">2023-06-01</td><td style = \"text-align: right;\">715106.0</td></tr><tr><td class = \"rowNumber\" style = \"font-weight: bold; text-align: right;\">251</td><td style = \"text-align: left;\">2023-09-01</td><td style = \"text-align: right;\">726387.0</td></tr><tr><td class = \"rowNumber\" style = \"font-weight: bold; text-align: right;\">252</td><td style = \"text-align: left;\">2023-12-01</td><td style = \"text-align: right;\">738095.0</td></tr></tbody></table></div>"
      ],
      "text/latex": [
       "\\begin{tabular}{r|cc}\n",
       "\t& date & value\\\\\n",
       "\t\\hline\n",
       "\t& Date & Float64\\\\\n",
       "\t\\hline\n",
       "\t1 & 1961-03-01 & 10150.0 \\\\\n",
       "\t2 & 1961-06-01 & 10374.0 \\\\\n",
       "\t3 & 1961-09-01 & 10651.0 \\\\\n",
       "\t4 & 1961-12-01 & 10851.0 \\\\\n",
       "\t5 & 1962-03-01 & 11156.0 \\\\\n",
       "\t6 & 1962-06-01 & 11283.0 \\\\\n",
       "\t7 & 1962-09-01 & 11517.0 \\\\\n",
       "\t8 & 1962-12-01 & 11783.0 \\\\\n",
       "\t9 & 1963-03-01 & 11896.0 \\\\\n",
       "\t10 & 1963-06-01 & 12139.0 \\\\\n",
       "\t11 & 1963-09-01 & 12338.0 \\\\\n",
       "\t12 & 1963-12-01 & 12840.0 \\\\\n",
       "\t13 & 1964-03-01 & 13144.0 \\\\\n",
       "\t14 & 1964-06-01 & 13355.0 \\\\\n",
       "\t15 & 1964-09-01 & 13645.0 \\\\\n",
       "\t16 & 1964-12-01 & 13831.0 \\\\\n",
       "\t17 & 1965-03-01 & 14317.0 \\\\\n",
       "\t18 & 1965-06-01 & 14664.0 \\\\\n",
       "\t19 & 1965-09-01 & 15016.0 \\\\\n",
       "\t20 & 1965-12-01 & 15554.0 \\\\\n",
       "\t21 & 1966-03-01 & 16080.0 \\\\\n",
       "\t22 & 1966-06-01 & 16622.0 \\\\\n",
       "\t23 & 1966-09-01 & 16841.0 \\\\\n",
       "\t24 & 1966-12-01 & 17162.0 \\\\\n",
       "\t25 & 1967-03-01 & 17371.0 \\\\\n",
       "\t26 & 1967-06-01 & 17936.0 \\\\\n",
       "\t27 & 1967-09-01 & 18095.0 \\\\\n",
       "\t28 & 1967-12-01 & 18410.0 \\\\\n",
       "\t29 & 1968-03-01 & 18829.0 \\\\\n",
       "\t30 & 1968-06-01 & 19413.0 \\\\\n",
       "\t$\\dots$ & $\\dots$ & $\\dots$ \\\\\n",
       "\\end{tabular}\n"
      ],
      "text/plain": [
       "\u001b[1m252×2 DataFrame\u001b[0m\n",
       "\u001b[1m Row \u001b[0m│\u001b[1m date       \u001b[0m\u001b[1m value    \u001b[0m\n",
       "     │\u001b[90m Date       \u001b[0m\u001b[90m Float64  \u001b[0m\n",
       "─────┼──────────────────────\n",
       "   1 │ 1961-03-01   10150.0\n",
       "   2 │ 1961-06-01   10374.0\n",
       "   3 │ 1961-09-01   10651.0\n",
       "   4 │ 1961-12-01   10851.0\n",
       "   5 │ 1962-03-01   11156.0\n",
       "   6 │ 1962-06-01   11283.0\n",
       "   7 │ 1962-09-01   11517.0\n",
       "   8 │ 1962-12-01   11783.0\n",
       "   9 │ 1963-03-01   11896.0\n",
       "  10 │ 1963-06-01   12139.0\n",
       "  11 │ 1963-09-01   12338.0\n",
       "  ⋮  │     ⋮          ⋮\n",
       " 243 │ 2021-09-01  635451.0\n",
       " 244 │ 2021-12-01  659833.0\n",
       " 245 │ 2022-03-01  681646.0\n",
       " 246 │ 2022-06-01  710536.0\n",
       " 247 │ 2022-09-01  711218.0\n",
       " 248 │ 2022-12-01  709889.0\n",
       " 249 │ 2023-03-01  709332.0\n",
       " 250 │ 2023-06-01  715106.0\n",
       " 251 │ 2023-09-01  726387.0\n",
       " 252 │ 2023-12-01  738095.0\n",
       "\u001b[36m            231 rows omitted\u001b[0m"
      ]
     },
     "execution_count": 18,
     "metadata": {},
     "output_type": "execute_result"
    }
   ],
   "source": [
    "us_ca_gdp[2].series"
   ]
  },
  {
   "cell_type": "code",
   "execution_count": 18,
   "id": "fa234945",
   "metadata": {},
   "outputs": [
    {
     "data": {
      "text/html": [
       "<div><div style = \"float: left;\"><span>548×4 DataFrame</span></div><div style = \"float: right;\"><span style = \"font-style: italic;\">523 rows omitted</span></div><div style = \"clear: both;\"></div></div><div class = \"data-frame\" style = \"overflow-x: scroll;\"><table class = \"data-frame\" style = \"margin-bottom: 6px;\"><thead><tr class = \"header\"><th class = \"rowNumber\" style = \"font-weight: bold; text-align: right;\">Row</th><th style = \"text-align: left;\">date</th><th style = \"text-align: left;\">value</th><th style = \"text-align: left;\">country</th><th style = \"text-align: left;\">indicator</th></tr><tr class = \"subheader headerLastRow\"><th class = \"rowNumber\" style = \"font-weight: bold; text-align: right;\"></th><th title = \"Dates.Date\" style = \"text-align: left;\">Date</th><th title = \"Float64\" style = \"text-align: left;\">Float64</th><th title = \"String\" style = \"text-align: left;\">String</th><th title = \"String\" style = \"text-align: left;\">String</th></tr></thead><tbody><tr><td class = \"rowNumber\" style = \"font-weight: bold; text-align: right;\">1</td><td style = \"text-align: left;\">1950-03-01</td><td style = \"text-align: right;\">70207.0</td><td style = \"text-align: left;\">US</td><td style = \"text-align: left;\">NGDP_SA_XDC</td></tr><tr><td class = \"rowNumber\" style = \"font-weight: bold; text-align: right;\">2</td><td style = \"text-align: left;\">1950-06-01</td><td style = \"text-align: right;\">72595.8</td><td style = \"text-align: left;\">US</td><td style = \"text-align: left;\">NGDP_SA_XDC</td></tr><tr><td class = \"rowNumber\" style = \"font-weight: bold; text-align: right;\">3</td><td style = \"text-align: left;\">1950-09-01</td><td style = \"text-align: right;\">77038.3</td><td style = \"text-align: left;\">US</td><td style = \"text-align: left;\">NGDP_SA_XDC</td></tr><tr><td class = \"rowNumber\" style = \"font-weight: bold; text-align: right;\">4</td><td style = \"text-align: left;\">1950-12-01</td><td style = \"text-align: right;\">79986.3</td><td style = \"text-align: left;\">US</td><td style = \"text-align: left;\">NGDP_SA_XDC</td></tr><tr><td class = \"rowNumber\" style = \"font-weight: bold; text-align: right;\">5</td><td style = \"text-align: left;\">1951-03-01</td><td style = \"text-align: right;\">84000.0</td><td style = \"text-align: left;\">US</td><td style = \"text-align: left;\">NGDP_SA_XDC</td></tr><tr><td class = \"rowNumber\" style = \"font-weight: bold; text-align: right;\">6</td><td style = \"text-align: left;\">1951-06-01</td><td style = \"text-align: right;\">86022.5</td><td style = \"text-align: left;\">US</td><td style = \"text-align: left;\">NGDP_SA_XDC</td></tr><tr><td class = \"rowNumber\" style = \"font-weight: bold; text-align: right;\">7</td><td style = \"text-align: left;\">1951-09-01</td><td style = \"text-align: right;\">87846.3</td><td style = \"text-align: left;\">US</td><td style = \"text-align: left;\">NGDP_SA_XDC</td></tr><tr><td class = \"rowNumber\" style = \"font-weight: bold; text-align: right;\">8</td><td style = \"text-align: left;\">1951-12-01</td><td style = \"text-align: right;\">89044.5</td><td style = \"text-align: left;\">US</td><td style = \"text-align: left;\">NGDP_SA_XDC</td></tr><tr><td class = \"rowNumber\" style = \"font-weight: bold; text-align: right;\">9</td><td style = \"text-align: left;\">1952-03-01</td><td style = \"text-align: right;\">89955.0</td><td style = \"text-align: left;\">US</td><td style = \"text-align: left;\">NGDP_SA_XDC</td></tr><tr><td class = \"rowNumber\" style = \"font-weight: bold; text-align: right;\">10</td><td style = \"text-align: left;\">1952-06-01</td><td style = \"text-align: right;\">90257.5</td><td style = \"text-align: left;\">US</td><td style = \"text-align: left;\">NGDP_SA_XDC</td></tr><tr><td class = \"rowNumber\" style = \"font-weight: bold; text-align: right;\">11</td><td style = \"text-align: left;\">1952-09-01</td><td style = \"text-align: right;\">91925.3</td><td style = \"text-align: left;\">US</td><td style = \"text-align: left;\">NGDP_SA_XDC</td></tr><tr><td class = \"rowNumber\" style = \"font-weight: bold; text-align: right;\">12</td><td style = \"text-align: left;\">1952-12-01</td><td style = \"text-align: right;\">95203.0</td><td style = \"text-align: left;\">US</td><td style = \"text-align: left;\">NGDP_SA_XDC</td></tr><tr><td class = \"rowNumber\" style = \"font-weight: bold; text-align: right;\">13</td><td style = \"text-align: left;\">1953-03-01</td><td style = \"text-align: right;\">96995.0</td><td style = \"text-align: left;\">US</td><td style = \"text-align: left;\">NGDP_SA_XDC</td></tr><tr><td style = \"text-align: right;\">&vellip;</td><td style = \"text-align: right;\">&vellip;</td><td style = \"text-align: right;\">&vellip;</td><td style = \"text-align: right;\">&vellip;</td><td style = \"text-align: right;\">&vellip;</td></tr><tr><td class = \"rowNumber\" style = \"font-weight: bold; text-align: right;\">537</td><td style = \"text-align: left;\">2021-03-01</td><td style = \"text-align: right;\">605126.0</td><td style = \"text-align: left;\">CA</td><td style = \"text-align: left;\">NGDP_SA_XDC</td></tr><tr><td class = \"rowNumber\" style = \"font-weight: bold; text-align: right;\">538</td><td style = \"text-align: left;\">2021-06-01</td><td style = \"text-align: right;\">616713.0</td><td style = \"text-align: left;\">CA</td><td style = \"text-align: left;\">NGDP_SA_XDC</td></tr><tr><td class = \"rowNumber\" style = \"font-weight: bold; text-align: right;\">539</td><td style = \"text-align: left;\">2021-09-01</td><td style = \"text-align: right;\">635451.0</td><td style = \"text-align: left;\">CA</td><td style = \"text-align: left;\">NGDP_SA_XDC</td></tr><tr><td class = \"rowNumber\" style = \"font-weight: bold; text-align: right;\">540</td><td style = \"text-align: left;\">2021-12-01</td><td style = \"text-align: right;\">659833.0</td><td style = \"text-align: left;\">CA</td><td style = \"text-align: left;\">NGDP_SA_XDC</td></tr><tr><td class = \"rowNumber\" style = \"font-weight: bold; text-align: right;\">541</td><td style = \"text-align: left;\">2022-03-01</td><td style = \"text-align: right;\">681646.0</td><td style = \"text-align: left;\">CA</td><td style = \"text-align: left;\">NGDP_SA_XDC</td></tr><tr><td class = \"rowNumber\" style = \"font-weight: bold; text-align: right;\">542</td><td style = \"text-align: left;\">2022-06-01</td><td style = \"text-align: right;\">710536.0</td><td style = \"text-align: left;\">CA</td><td style = \"text-align: left;\">NGDP_SA_XDC</td></tr><tr><td class = \"rowNumber\" style = \"font-weight: bold; text-align: right;\">543</td><td style = \"text-align: left;\">2022-09-01</td><td style = \"text-align: right;\">711218.0</td><td style = \"text-align: left;\">CA</td><td style = \"text-align: left;\">NGDP_SA_XDC</td></tr><tr><td class = \"rowNumber\" style = \"font-weight: bold; text-align: right;\">544</td><td style = \"text-align: left;\">2022-12-01</td><td style = \"text-align: right;\">709889.0</td><td style = \"text-align: left;\">CA</td><td style = \"text-align: left;\">NGDP_SA_XDC</td></tr><tr><td class = \"rowNumber\" style = \"font-weight: bold; text-align: right;\">545</td><td style = \"text-align: left;\">2023-03-01</td><td style = \"text-align: right;\">709332.0</td><td style = \"text-align: left;\">CA</td><td style = \"text-align: left;\">NGDP_SA_XDC</td></tr><tr><td class = \"rowNumber\" style = \"font-weight: bold; text-align: right;\">546</td><td style = \"text-align: left;\">2023-06-01</td><td style = \"text-align: right;\">715106.0</td><td style = \"text-align: left;\">CA</td><td style = \"text-align: left;\">NGDP_SA_XDC</td></tr><tr><td class = \"rowNumber\" style = \"font-weight: bold; text-align: right;\">547</td><td style = \"text-align: left;\">2023-09-01</td><td style = \"text-align: right;\">726387.0</td><td style = \"text-align: left;\">CA</td><td style = \"text-align: left;\">NGDP_SA_XDC</td></tr><tr><td class = \"rowNumber\" style = \"font-weight: bold; text-align: right;\">548</td><td style = \"text-align: left;\">2023-12-01</td><td style = \"text-align: right;\">738095.0</td><td style = \"text-align: left;\">CA</td><td style = \"text-align: left;\">NGDP_SA_XDC</td></tr></tbody></table></div>"
      ],
      "text/latex": [
       "\\begin{tabular}{r|cccc}\n",
       "\t& date & value & country & indicator\\\\\n",
       "\t\\hline\n",
       "\t& Date & Float64 & String & String\\\\\n",
       "\t\\hline\n",
       "\t1 & 1950-03-01 & 70207.0 & US & NGDP\\_SA\\_XDC \\\\\n",
       "\t2 & 1950-06-01 & 72595.8 & US & NGDP\\_SA\\_XDC \\\\\n",
       "\t3 & 1950-09-01 & 77038.3 & US & NGDP\\_SA\\_XDC \\\\\n",
       "\t4 & 1950-12-01 & 79986.3 & US & NGDP\\_SA\\_XDC \\\\\n",
       "\t5 & 1951-03-01 & 84000.0 & US & NGDP\\_SA\\_XDC \\\\\n",
       "\t6 & 1951-06-01 & 86022.5 & US & NGDP\\_SA\\_XDC \\\\\n",
       "\t7 & 1951-09-01 & 87846.3 & US & NGDP\\_SA\\_XDC \\\\\n",
       "\t8 & 1951-12-01 & 89044.5 & US & NGDP\\_SA\\_XDC \\\\\n",
       "\t9 & 1952-03-01 & 89955.0 & US & NGDP\\_SA\\_XDC \\\\\n",
       "\t10 & 1952-06-01 & 90257.5 & US & NGDP\\_SA\\_XDC \\\\\n",
       "\t11 & 1952-09-01 & 91925.3 & US & NGDP\\_SA\\_XDC \\\\\n",
       "\t12 & 1952-12-01 & 95203.0 & US & NGDP\\_SA\\_XDC \\\\\n",
       "\t13 & 1953-03-01 & 96995.0 & US & NGDP\\_SA\\_XDC \\\\\n",
       "\t14 & 1953-06-01 & 97937.3 & US & NGDP\\_SA\\_XDC \\\\\n",
       "\t15 & 1953-09-01 & 97792.8 & US & NGDP\\_SA\\_XDC \\\\\n",
       "\t16 & 1953-12-01 & 96492.5 & US & NGDP\\_SA\\_XDC \\\\\n",
       "\t17 & 1954-03-01 & 96336.3 & US & NGDP\\_SA\\_XDC \\\\\n",
       "\t18 & 1954-06-01 & 96530.3 & US & NGDP\\_SA\\_XDC \\\\\n",
       "\t19 & 1954-09-01 & 97749.0 & US & NGDP\\_SA\\_XDC \\\\\n",
       "\t20 & 1954-12-01 & 99933.5 & US & NGDP\\_SA\\_XDC \\\\\n",
       "\t21 & 1955-03-01 & 1.03268e5 & US & NGDP\\_SA\\_XDC \\\\\n",
       "\t22 & 1955-06-01 & 105383.0 & US & NGDP\\_SA\\_XDC \\\\\n",
       "\t23 & 1955-09-01 & 1.07555e5 & US & NGDP\\_SA\\_XDC \\\\\n",
       "\t24 & 1955-12-01 & 109273.0 & US & NGDP\\_SA\\_XDC \\\\\n",
       "\t25 & 1956-03-01 & 1.09936e5 & US & NGDP\\_SA\\_XDC \\\\\n",
       "\t26 & 1956-06-01 & 1.11502e5 & US & NGDP\\_SA\\_XDC \\\\\n",
       "\t27 & 1956-09-01 & 1.12798e5 & US & NGDP\\_SA\\_XDC \\\\\n",
       "\t28 & 1956-12-01 & 1.15116e5 & US & NGDP\\_SA\\_XDC \\\\\n",
       "\t29 & 1957-03-01 & 1.17445e5 & US & NGDP\\_SA\\_XDC \\\\\n",
       "\t30 & 1957-06-01 & 1.18006e5 & US & NGDP\\_SA\\_XDC \\\\\n",
       "\t$\\dots$ & $\\dots$ & $\\dots$ & $\\dots$ & $\\dots$ \\\\\n",
       "\\end{tabular}\n"
      ],
      "text/plain": [
       "\u001b[1m548×4 DataFrame\u001b[0m\n",
       "\u001b[1m Row \u001b[0m│\u001b[1m date       \u001b[0m\u001b[1m value    \u001b[0m\u001b[1m country \u001b[0m\u001b[1m indicator   \u001b[0m\n",
       "     │\u001b[90m Date       \u001b[0m\u001b[90m Float64  \u001b[0m\u001b[90m String  \u001b[0m\u001b[90m String      \u001b[0m\n",
       "─────┼────────────────────────────────────────────\n",
       "   1 │ 1950-03-01   70207.0  US       NGDP_SA_XDC\n",
       "   2 │ 1950-06-01   72595.8  US       NGDP_SA_XDC\n",
       "   3 │ 1950-09-01   77038.3  US       NGDP_SA_XDC\n",
       "   4 │ 1950-12-01   79986.3  US       NGDP_SA_XDC\n",
       "   5 │ 1951-03-01   84000.0  US       NGDP_SA_XDC\n",
       "   6 │ 1951-06-01   86022.5  US       NGDP_SA_XDC\n",
       "   7 │ 1951-09-01   87846.3  US       NGDP_SA_XDC\n",
       "   8 │ 1951-12-01   89044.5  US       NGDP_SA_XDC\n",
       "   9 │ 1952-03-01   89955.0  US       NGDP_SA_XDC\n",
       "  10 │ 1952-06-01   90257.5  US       NGDP_SA_XDC\n",
       "  11 │ 1952-09-01   91925.3  US       NGDP_SA_XDC\n",
       "  ⋮  │     ⋮          ⋮         ⋮          ⋮\n",
       " 539 │ 2021-09-01  635451.0  CA       NGDP_SA_XDC\n",
       " 540 │ 2021-12-01  659833.0  CA       NGDP_SA_XDC\n",
       " 541 │ 2022-03-01  681646.0  CA       NGDP_SA_XDC\n",
       " 542 │ 2022-06-01  710536.0  CA       NGDP_SA_XDC\n",
       " 543 │ 2022-09-01  711218.0  CA       NGDP_SA_XDC\n",
       " 544 │ 2022-12-01  709889.0  CA       NGDP_SA_XDC\n",
       " 545 │ 2023-03-01  709332.0  CA       NGDP_SA_XDC\n",
       " 546 │ 2023-06-01  715106.0  CA       NGDP_SA_XDC\n",
       " 547 │ 2023-09-01  726387.0  CA       NGDP_SA_XDC\n",
       " 548 │ 2023-12-01  738095.0  CA       NGDP_SA_XDC\n",
       "\u001b[36m                                  527 rows omitted\u001b[0m"
      ]
     },
     "execution_count": 19,
     "metadata": {},
     "output_type": "execute_result"
    }
   ],
   "source": [
    "# Pasar a DataFrame\n",
    "df = []\n",
    "dftemp = []\n",
    "i = 1\n",
    "for i in 1:size(countries)[1]\n",
    "    dftemp = us_ca_gdp[i].series;\n",
    "    dftemp[:,:country] .= countries[i];\n",
    "    dftemp[:,:indicator] .= indicators[1];\n",
    "    df = push!(df,dftemp)\n",
    "end\n",
    "df = vcat(df...)"
   ]
  },
  {
   "cell_type": "markdown",
   "id": "ed9c3c77",
   "metadata": {},
   "source": [
    "# Examples\n",
    "\n",
    "## IFS indicators\n",
    "\n",
    "### Indicators: \"CL_INDICATOR_IFS\"\n"
   ]
  },
  {
   "cell_type": "code",
   "execution_count": 19,
   "id": "d796f318",
   "metadata": {},
   "outputs": [
    {
     "data": {
      "text/html": [
       "<div><div style = \"float: left;\"><span>1681×2 DataFrame</span></div><div style = \"float: right;\"><span style = \"font-style: italic;\">1656 rows omitted</span></div><div style = \"clear: both;\"></div></div><div class = \"data-frame\" style = \"overflow-x: scroll;\"><table class = \"data-frame\" style = \"margin-bottom: 6px;\"><thead><tr class = \"header\"><th class = \"rowNumber\" style = \"font-weight: bold; text-align: right;\">Row</th><th style = \"text-align: left;\">parameter_value</th><th style = \"text-align: left;\">description</th></tr><tr class = \"subheader headerLastRow\"><th class = \"rowNumber\" style = \"font-weight: bold; text-align: right;\"></th><th title = \"String\" style = \"text-align: left;\">String</th><th title = \"String\" style = \"text-align: left;\">String</th></tr></thead><tbody><tr><td class = \"rowNumber\" style = \"font-weight: bold; text-align: right;\">1</td><td style = \"text-align: left;\">NFIAXD_XDC</td><td style = \"text-align: left;\">Acquisitions less Disposals of Valuables, Nominal, Domestic Currency</td></tr><tr><td class = \"rowNumber\" style = \"font-weight: bold; text-align: right;\">2</td><td style = \"text-align: left;\">NFIAXD_SA_XDC</td><td style = \"text-align: left;\">Acquisitions less Disposals of Valuables, Nominal, Seasonally Adjusted, Domestic Currency</td></tr><tr><td class = \"rowNumber\" style = \"font-weight: bold; text-align: right;\">3</td><td style = \"text-align: left;\">NFIAXD_NSA_XDC</td><td style = \"text-align: left;\">Acquisitions less Disposals of Valuables, Nominal, Unadjusted, Domestic Currency</td></tr><tr><td class = \"rowNumber\" style = \"font-weight: bold; text-align: right;\">4</td><td style = \"text-align: left;\">NFIAXD_R_XDC</td><td style = \"text-align: left;\">Acquisitions less Disposals of Valuables, Real, Domestic Currency</td></tr><tr><td class = \"rowNumber\" style = \"font-weight: bold; text-align: right;\">5</td><td style = \"text-align: left;\">NFIAXD_R_SA_XDC</td><td style = \"text-align: left;\">Acquisitions less Disposals of Valuables, Real, Seasonally Adjusted, Domestic Currency</td></tr><tr><td class = \"rowNumber\" style = \"font-weight: bold; text-align: right;\">6</td><td style = \"text-align: left;\">NFIAXD_R_NSA_XDC</td><td style = \"text-align: left;\">Acquisitions less Disposals of Valuables, Real, Unadjusted, Domestic Currency</td></tr><tr><td class = \"rowNumber\" style = \"font-weight: bold; text-align: right;\">7</td><td style = \"text-align: left;\">IAFR_BP6_USD</td><td style = \"text-align: left;\">International Investment Positions, Net acquisition of financial assets (with Fund Record), US Dollars</td></tr><tr><td class = \"rowNumber\" style = \"font-weight: bold; text-align: right;\">8</td><td style = \"text-align: left;\">IADD_BP6_USD</td><td style = \"text-align: left;\">International Investment Positions, Assets, Direct investment, Debt instruments, US Dollars</td></tr><tr><td class = \"rowNumber\" style = \"font-weight: bold; text-align: right;\">9</td><td style = \"text-align: left;\">IADE_BP6_USD</td><td style = \"text-align: left;\">International Investment Positions, Assets, Direct investment, Equity and investment fund shares , US Dollars</td></tr><tr><td class = \"rowNumber\" style = \"font-weight: bold; text-align: right;\">10</td><td style = \"text-align: left;\">IAD_BP6_USD</td><td style = \"text-align: left;\">International Investment Positions, Assets, Direct investment, US Dollars</td></tr><tr><td class = \"rowNumber\" style = \"font-weight: bold; text-align: right;\">11</td><td style = \"text-align: left;\">IADF_BP6_USD</td><td style = \"text-align: left;\">International Investment Positions, Financial derivatives (other than reserves) and employee stock options , US Dollars</td></tr><tr><td class = \"rowNumber\" style = \"font-weight: bold; text-align: right;\">12</td><td style = \"text-align: left;\">IAOE_BP6_USD</td><td style = \"text-align: left;\">International Investment Positions, Assets, Other investment,  Other equity , US Dollars</td></tr><tr><td class = \"rowNumber\" style = \"font-weight: bold; text-align: right;\">13</td><td style = \"text-align: left;\">IAO_BP6_USD</td><td style = \"text-align: left;\">International Investment Positions, Assets, Other investment , US Dollars</td></tr><tr><td style = \"text-align: right;\">&vellip;</td><td style = \"text-align: right;\">&vellip;</td><td style = \"text-align: right;\">&vellip;</td></tr><tr><td class = \"rowNumber\" style = \"font-weight: bold; text-align: right;\">1670</td><td style = \"text-align: left;\">BTRUE_BP6_USD</td><td style = \"text-align: left;\">Balance of Payments, Supplementary Items, Reserves and related items, US Dollars</td></tr><tr><td class = \"rowNumber\" style = \"font-weight: bold; text-align: right;\">1671</td><td style = \"text-align: left;\">BXISXF_BP6_USD</td><td style = \"text-align: left;\">Balance of Payments, Supplementary Items, Secondary Income, Credit (excluding exceptional financing), US Dollars</td></tr><tr><td class = \"rowNumber\" style = \"font-weight: bold; text-align: right;\">1672</td><td style = \"text-align: left;\">BTCC_BP6_USD</td><td style = \"text-align: left;\">Balance of Payments, Supplementary Items. Total Current + Capital Account, US Dollars</td></tr><tr><td class = \"rowNumber\" style = \"font-weight: bold; text-align: right;\">1673</td><td style = \"text-align: left;\">RAFA_G_XDR</td><td style = \"text-align: left;\">Total International Reserves, SDRs (gold at 35 SDRs per ounce)</td></tr><tr><td class = \"rowNumber\" style = \"font-weight: bold; text-align: right;\">1674</td><td style = \"text-align: left;\">RAFA_G_USD</td><td style = \"text-align: left;\">Total International Reserves, US Dollars (gold at 35 SDRs per ounce)</td></tr><tr><td class = \"rowNumber\" style = \"font-weight: bold; text-align: right;\">1675</td><td style = \"text-align: left;\">RAFA_MV_USD</td><td style = \"text-align: left;\">Total Reserves, US Dollars (Gold at Market Price)</td></tr><tr><td class = \"rowNumber\" style = \"font-weight: bold; text-align: right;\">1676</td><td style = \"text-align: left;\">AOTV_PE_NUM</td><td style = \"text-align: left;\">Tourism, Number of Visitors, Persons, Number of</td></tr><tr><td class = \"rowNumber\" style = \"font-weight: bold; text-align: right;\">1677</td><td style = \"text-align: left;\">LU_PE_NUM</td><td style = \"text-align: left;\">Unemployment, Persons, Number of</td></tr><tr><td class = \"rowNumber\" style = \"font-weight: bold; text-align: right;\">1678</td><td style = \"text-align: left;\">LU_PE_PC_CP_A_PT</td><td style = \"text-align: left;\">Unemployment, Persons, Percentage change, corresponding period previous year, Percent</td></tr><tr><td class = \"rowNumber\" style = \"font-weight: bold; text-align: right;\">1679</td><td style = \"text-align: left;\">LU_PE_PC_PP_PT</td><td style = \"text-align: left;\">Unemployment, Persons, Percentage change, previous period, Percent</td></tr><tr><td class = \"rowNumber\" style = \"font-weight: bold; text-align: right;\">1680</td><td style = \"text-align: left;\">1C_ALL_INDICATORS</td><td style = \"text-align: left;\">All Indicators</td></tr><tr><td class = \"rowNumber\" style = \"font-weight: bold; text-align: right;\">1681</td><td style = \"text-align: left;\">MFS</td><td style = \"text-align: left;\">Monetary and Financial Statistics (MFS)</td></tr></tbody></table></div>"
      ],
      "text/latex": [
       "\\begin{tabular}{r|cc}\n",
       "\t& parameter\\_value & description\\\\\n",
       "\t\\hline\n",
       "\t& String & String\\\\\n",
       "\t\\hline\n",
       "\t1 & NFIAXD\\_XDC & Acquisitions less Disposals of Valuables, Nominal, Domestic Currency \\\\\n",
       "\t2 & NFIAXD\\_SA\\_XDC & Acquisitions less Disposals of Valuables, Nominal, Seasonally Adjusted, Domestic Currency \\\\\n",
       "\t3 & NFIAXD\\_NSA\\_XDC & Acquisitions less Disposals of Valuables, Nominal, Unadjusted, Domestic Currency \\\\\n",
       "\t4 & NFIAXD\\_R\\_XDC & Acquisitions less Disposals of Valuables, Real, Domestic Currency \\\\\n",
       "\t5 & NFIAXD\\_R\\_SA\\_XDC & Acquisitions less Disposals of Valuables, Real, Seasonally Adjusted, Domestic Currency \\\\\n",
       "\t6 & NFIAXD\\_R\\_NSA\\_XDC & Acquisitions less Disposals of Valuables, Real, Unadjusted, Domestic Currency \\\\\n",
       "\t7 & IAFR\\_BP6\\_USD & International Investment Positions, Net acquisition of financial assets (with Fund Record), US Dollars \\\\\n",
       "\t8 & IADD\\_BP6\\_USD & International Investment Positions, Assets, Direct investment, Debt instruments, US Dollars \\\\\n",
       "\t9 & IADE\\_BP6\\_USD & International Investment Positions, Assets, Direct investment, Equity and investment fund shares , US Dollars \\\\\n",
       "\t10 & IAD\\_BP6\\_USD & International Investment Positions, Assets, Direct investment, US Dollars \\\\\n",
       "\t11 & IADF\\_BP6\\_USD & International Investment Positions, Financial derivatives (other than reserves) and employee stock options , US Dollars \\\\\n",
       "\t12 & IAOE\\_BP6\\_USD & International Investment Positions, Assets, Other investment,  Other equity , US Dollars \\\\\n",
       "\t13 & IAO\\_BP6\\_USD & International Investment Positions, Assets, Other investment , US Dollars \\\\\n",
       "\t14 & IAOD\\_BP6\\_USD & International Investment Positions, Other investment: Net acquisition of financial assets, Debt instruments, US Dollars \\\\\n",
       "\t15 & IAPD\\_BP6\\_USD & International Investment Positions, Assets, Portfolio investment, Debt securities , US Dollars \\\\\n",
       "\t16 & IAPE\\_BP6\\_USD & International Investment Positions, Assets, Portfolio investment, Equity and investment fund shares , US Dollars \\\\\n",
       "\t17 & IAP\\_BP6\\_USD & International Investment Positions, Assets, Portfolio investment , US Dollars \\\\\n",
       "\t18 & IARFR\\_BP6\\_USD & International Investment Positions, Reserve Assets, Net (with Fund Record), US Dollars \\\\\n",
       "\t19 & BK\\_DB\\_BP6\\_USD & Balance of Payments, Capital Account, Total, Debit, US Dollars \\\\\n",
       "\t20 & FASAGEA\\_EUR & Central Bank Survey, Claims on Central Government (Euro Area-Wide-Residency), Euros \\\\\n",
       "\t21 & FASAFEA\\_EUR & Central Bank Survey, Claims on Nonresidents (Euro Area-Wide-Residency), Euros \\\\\n",
       "\t22 & FASABEA\\_EUR & Central Bank Survey, Claims on Other Depository Corporations (Euro Area-Wide-Residency), Euros \\\\\n",
       "\t23 & FASAOFEA\\_EUR & Central Bank Survey, Claims on Other Financial Corporations (Euro Area-Wide-Residency), Euros \\\\\n",
       "\t24 & FASAOEA\\_EUR & Central Bank Survey, Claims on Other Sectors (Euro area-Wide-Residency), Euros \\\\\n",
       "\t25 & FASAOPEA\\_EUR & Central Bank Survey, Claims on Private  Sector (Euro Area-Wide-Residency), Euros \\\\\n",
       "\t26 & FASAONEA\\_EUR & Central Bank Survey, Claims on Public Nonfinancial Corporations (Euro Area-Wide-Residency), Euros \\\\\n",
       "\t27 & FASAOSEA\\_EUR & Central Bank Survey, Claims on State and Local Government (Euro Area-Wide-Residency), Euros \\\\\n",
       "\t28 & FASMBCEA\\_EUR & Central Bank Survey, Currency in Circulation (Euro Area-Wide-Residency), Euros \\\\\n",
       "\t29 & FASDOEA\\_EUR & Central Bank Survey, Demand deposits of other sectors (Euro area-Wide-Residency), Euros \\\\\n",
       "\t30 & FASDSSEA\\_EUR & Central Bank Survey, Deposits and Securities Other than Shares excl. from Monetary Base (Euro Area-Wide-Residency), Euros \\\\\n",
       "\t$\\dots$ & $\\dots$ & $\\dots$ \\\\\n",
       "\\end{tabular}\n"
      ],
      "text/plain": [
       "\u001b[1m1681×2 DataFrame\u001b[0m\n",
       "\u001b[1m  Row \u001b[0m│\u001b[1m parameter_value   \u001b[0m\u001b[1m description                       \u001b[0m\n",
       "      │\u001b[90m String            \u001b[0m\u001b[90m String                            \u001b[0m\n",
       "──────┼──────────────────────────────────────────────────────\n",
       "    1 │ NFIAXD_XDC         Acquisitions less Disposals of V…\n",
       "    2 │ NFIAXD_SA_XDC      Acquisitions less Disposals of V…\n",
       "    3 │ NFIAXD_NSA_XDC     Acquisitions less Disposals of V…\n",
       "    4 │ NFIAXD_R_XDC       Acquisitions less Disposals of V…\n",
       "    5 │ NFIAXD_R_SA_XDC    Acquisitions less Disposals of V…\n",
       "    6 │ NFIAXD_R_NSA_XDC   Acquisitions less Disposals of V…\n",
       "    7 │ IAFR_BP6_USD       International Investment Positio…\n",
       "    8 │ IADD_BP6_USD       International Investment Positio…\n",
       "    9 │ IADE_BP6_USD       International Investment Positio…\n",
       "   10 │ IAD_BP6_USD        International Investment Positio…\n",
       "   11 │ IADF_BP6_USD       International Investment Positio…\n",
       "  ⋮   │         ⋮                          ⋮\n",
       " 1672 │ BTCC_BP6_USD       Balance of Payments, Supplementa…\n",
       " 1673 │ RAFA_G_XDR         Total International Reserves, SD…\n",
       " 1674 │ RAFA_G_USD         Total International Reserves, US…\n",
       " 1675 │ RAFA_MV_USD        Total Reserves, US Dollars (Gold…\n",
       " 1676 │ AOTV_PE_NUM        Tourism, Number of Visitors, Per…\n",
       " 1677 │ LU_PE_NUM          Unemployment, Persons, Number of\n",
       " 1678 │ LU_PE_PC_CP_A_PT   Unemployment, Persons, Percentag…\n",
       " 1679 │ LU_PE_PC_PP_PT     Unemployment, Persons, Percentag…\n",
       " 1680 │ 1C_ALL_INDICATORS  All Indicators\n",
       " 1681 │ MFS                Monetary and Financial Statistic…\n",
       "\u001b[36m                                            1660 rows omitted\u001b[0m"
      ]
     },
     "execution_count": 20,
     "metadata": {},
     "output_type": "execute_result"
    }
   ],
   "source": [
    "ifs_structure  = get_imf_datastructure(\"IFS\")\n",
    "ifs_indicators = ifs_structure[\"Parameter Values\"][\"CL_INDICATOR_IFS\"]"
   ]
  },
  {
   "cell_type": "code",
   "execution_count": 20,
   "id": "fb5f59f6",
   "metadata": {},
   "outputs": [
    {
     "data": {
      "text/plain": [
       "1681-element Vector{String}:\n",
       " \"NFIAXD_XDC\"\n",
       " \"NFIAXD_SA_XDC\"\n",
       " \"NFIAXD_NSA_XDC\"\n",
       " \"NFIAXD_R_XDC\"\n",
       " \"NFIAXD_R_SA_XDC\"\n",
       " \"NFIAXD_R_NSA_XDC\"\n",
       " \"IAFR_BP6_USD\"\n",
       " \"IADD_BP6_USD\"\n",
       " \"IADE_BP6_USD\"\n",
       " \"IAD_BP6_USD\"\n",
       " \"IADF_BP6_USD\"\n",
       " \"IAOE_BP6_USD\"\n",
       " \"IAO_BP6_USD\"\n",
       " ⋮\n",
       " \"BTRUE_BP6_USD\"\n",
       " \"BXISXF_BP6_USD\"\n",
       " \"BTCC_BP6_USD\"\n",
       " \"RAFA_G_XDR\"\n",
       " \"RAFA_G_USD\"\n",
       " \"RAFA_MV_USD\"\n",
       " \"AOTV_PE_NUM\"\n",
       " \"LU_PE_NUM\"\n",
       " \"LU_PE_PC_CP_A_PT\"\n",
       " \"LU_PE_PC_PP_PT\"\n",
       " \"1C_ALL_INDICATORS\"\n",
       " \"MFS\""
      ]
     },
     "execution_count": 21,
     "metadata": {},
     "output_type": "execute_result"
    }
   ],
   "source": [
    "ifs_indicators.parameter_value"
   ]
  },
  {
   "cell_type": "code",
   "execution_count": 21,
   "id": "41381263",
   "metadata": {},
   "outputs": [
    {
     "data": {
      "text/plain": [
       "1681-element Vector{String}:\n",
       " \"Acquisitions less Disposals of Valuables, Nominal, Domestic Currency\"\n",
       " \"Acquisitions less Disposals of \"\u001b[93m\u001b[1m ⋯ 27 bytes ⋯ \u001b[22m\u001b[39m\"lly Adjusted, Domestic Currency\"\n",
       " \"Acquisitions less Disposals of \"\u001b[93m\u001b[1m ⋯ 18 bytes ⋯ \u001b[22m\u001b[39m\", Unadjusted, Domestic Currency\"\n",
       " \"Acquisitions less Disposals of Valuables, Real, Domestic Currency\"\n",
       " \"Acquisitions less Disposals of \"\u001b[93m\u001b[1m ⋯ 24 bytes ⋯ \u001b[22m\u001b[39m\"lly Adjusted, Domestic Currency\"\n",
       " \"Acquisitions less Disposals of Valuables, Real, Unadjusted, Domestic Currency\"\n",
       " \"International Investment Positi\"\u001b[93m\u001b[1m ⋯ 40 bytes ⋯ \u001b[22m\u001b[39m\" (with Fund Record), US Dollars\"\n",
       " \"International Investment Positi\"\u001b[93m\u001b[1m ⋯ 29 bytes ⋯ \u001b[22m\u001b[39m\"t, Debt instruments, US Dollars\"\n",
       " \"International Investment Positi\"\u001b[93m\u001b[1m ⋯ 47 bytes ⋯ \u001b[22m\u001b[39m\"stment fund shares , US Dollars\"\n",
       " \"International Investment Positions, Assets, Direct investment, US Dollars\"\n",
       " \"International Investment Positi\"\u001b[93m\u001b[1m ⋯ 57 bytes ⋯ \u001b[22m\u001b[39m\"oyee stock options , US Dollars\"\n",
       " \"International Investment Positi\"\u001b[93m\u001b[1m ⋯ 26 bytes ⋯ \u001b[22m\u001b[39m\"ent,  Other equity , US Dollars\"\n",
       " \"International Investment Positions, Assets, Other investment , US Dollars\"\n",
       " ⋮\n",
       " \"Balance of Payments, Supplement\"\u001b[93m\u001b[1m ⋯ 18 bytes ⋯ \u001b[22m\u001b[39m\"s and related items, US Dollars\"\n",
       " \"Balance of Payments, Supplement\"\u001b[93m\u001b[1m ⋯ 50 bytes ⋯ \u001b[22m\u001b[39m\"eptional financing), US Dollars\"\n",
       " \"Balance of Payments, Supplement\"\u001b[93m\u001b[1m ⋯ 23 bytes ⋯ \u001b[22m\u001b[39m\"t + Capital Account, US Dollars\"\n",
       " \"Total International Reserves, SDRs (gold at 35 SDRs per ounce)\"\n",
       " \"Total International Reserves, US Dollars (gold at 35 SDRs per ounce)\"\n",
       " \"Total Reserves, US Dollars (Gold at Market Price)\"\n",
       " \"Tourism, Number of Visitors, Persons, Number of\"\n",
       " \"Unemployment, Persons, Number of\"\n",
       " \"Unemployment, Persons, Percenta\"\u001b[93m\u001b[1m ⋯ 23 bytes ⋯ \u001b[22m\u001b[39m\"g period previous year, Percent\"\n",
       " \"Unemployment, Persons, Percentage change, previous period, Percent\"\n",
       " \"All Indicators\"\n",
       " \"Monetary and Financial Statistics (MFS)\""
      ]
     },
     "execution_count": 22,
     "metadata": {},
     "output_type": "execute_result"
    }
   ],
   "source": [
    "ifs_indicators.description"
   ]
  },
  {
   "cell_type": "code",
   "execution_count": 22,
   "id": "35e4673c",
   "metadata": {},
   "outputs": [
    {
     "data": {
      "text/plain": [
       "\"C:\\\\Directorio_Trabajo\\\\GitHub\\\\IMFData_Examples-main/IFS_Indicators.csv\""
      ]
     },
     "execution_count": 23,
     "metadata": {},
     "output_type": "execute_result"
    }
   ],
   "source": [
    "CSV.write(\n",
    "    wd * \"/IFS_Indicators.csv\",\n",
    "    delim = \";\",\n",
    "    ifs_indicators)"
   ]
  },
  {
   "cell_type": "markdown",
   "id": "9847a097",
   "metadata": {},
   "source": [
    "### Units: \"CL_UNIT_MULT\"\n"
   ]
  },
  {
   "cell_type": "code",
   "execution_count": 23,
   "id": "f2525d5a",
   "metadata": {},
   "outputs": [
    {
     "data": {
      "text/html": [
       "<div><div style = \"float: left;\"><span>31×2 DataFrame</span></div><div style = \"float: right;\"><span style = \"font-style: italic;\">6 rows omitted</span></div><div style = \"clear: both;\"></div></div><div class = \"data-frame\" style = \"overflow-x: scroll;\"><table class = \"data-frame\" style = \"margin-bottom: 6px;\"><thead><tr class = \"header\"><th class = \"rowNumber\" style = \"font-weight: bold; text-align: right;\">Row</th><th style = \"text-align: left;\">parameter_value</th><th style = \"text-align: left;\">description</th></tr><tr class = \"subheader headerLastRow\"><th class = \"rowNumber\" style = \"font-weight: bold; text-align: right;\"></th><th title = \"String\" style = \"text-align: left;\">String</th><th title = \"String\" style = \"text-align: left;\">String</th></tr></thead><tbody><tr><td class = \"rowNumber\" style = \"font-weight: bold; text-align: right;\">1</td><td style = \"text-align: left;\">0</td><td style = \"text-align: left;\">Units</td></tr><tr><td class = \"rowNumber\" style = \"font-weight: bold; text-align: right;\">2</td><td style = \"text-align: left;\">2</td><td style = \"text-align: left;\">Hundreds</td></tr><tr><td class = \"rowNumber\" style = \"font-weight: bold; text-align: right;\">3</td><td style = \"text-align: left;\">3</td><td style = \"text-align: left;\">Thousands</td></tr><tr><td class = \"rowNumber\" style = \"font-weight: bold; text-align: right;\">4</td><td style = \"text-align: left;\">6</td><td style = \"text-align: left;\">Millions</td></tr><tr><td class = \"rowNumber\" style = \"font-weight: bold; text-align: right;\">5</td><td style = \"text-align: left;\">9</td><td style = \"text-align: left;\">Billions</td></tr><tr><td class = \"rowNumber\" style = \"font-weight: bold; text-align: right;\">6</td><td style = \"text-align: left;\">12</td><td style = \"text-align: left;\">Trillions</td></tr><tr><td class = \"rowNumber\" style = \"font-weight: bold; text-align: right;\">7</td><td style = \"text-align: left;\">N15</td><td style = \"text-align: left;\">Quadrillionths</td></tr><tr><td class = \"rowNumber\" style = \"font-weight: bold; text-align: right;\">8</td><td style = \"text-align: left;\">N14</td><td style = \"text-align: left;\">Hundred Trillionths</td></tr><tr><td class = \"rowNumber\" style = \"font-weight: bold; text-align: right;\">9</td><td style = \"text-align: left;\">N13</td><td style = \"text-align: left;\">Ten Trillionths</td></tr><tr><td class = \"rowNumber\" style = \"font-weight: bold; text-align: right;\">10</td><td style = \"text-align: left;\">N12</td><td style = \"text-align: left;\">Trillionths</td></tr><tr><td class = \"rowNumber\" style = \"font-weight: bold; text-align: right;\">11</td><td style = \"text-align: left;\">N11</td><td style = \"text-align: left;\">Hundred Billionths</td></tr><tr><td class = \"rowNumber\" style = \"font-weight: bold; text-align: right;\">12</td><td style = \"text-align: left;\">N10</td><td style = \"text-align: left;\">Ten Billionths</td></tr><tr><td class = \"rowNumber\" style = \"font-weight: bold; text-align: right;\">13</td><td style = \"text-align: left;\">N9</td><td style = \"text-align: left;\">Billionths</td></tr><tr><td style = \"text-align: right;\">&vellip;</td><td style = \"text-align: right;\">&vellip;</td><td style = \"text-align: right;\">&vellip;</td></tr><tr><td class = \"rowNumber\" style = \"font-weight: bold; text-align: right;\">20</td><td style = \"text-align: left;\">N2</td><td style = \"text-align: left;\">Hundredths</td></tr><tr><td class = \"rowNumber\" style = \"font-weight: bold; text-align: right;\">21</td><td style = \"text-align: left;\">N1</td><td style = \"text-align: left;\">Tenths</td></tr><tr><td class = \"rowNumber\" style = \"font-weight: bold; text-align: right;\">22</td><td style = \"text-align: left;\">1</td><td style = \"text-align: left;\">Tens</td></tr><tr><td class = \"rowNumber\" style = \"font-weight: bold; text-align: right;\">23</td><td style = \"text-align: left;\">4</td><td style = \"text-align: left;\">Ten Thousands</td></tr><tr><td class = \"rowNumber\" style = \"font-weight: bold; text-align: right;\">24</td><td style = \"text-align: left;\">5</td><td style = \"text-align: left;\">Hundred Thousands</td></tr><tr><td class = \"rowNumber\" style = \"font-weight: bold; text-align: right;\">25</td><td style = \"text-align: left;\">7</td><td style = \"text-align: left;\">Ten Millions</td></tr><tr><td class = \"rowNumber\" style = \"font-weight: bold; text-align: right;\">26</td><td style = \"text-align: left;\">8</td><td style = \"text-align: left;\">Hundred Millions</td></tr><tr><td class = \"rowNumber\" style = \"font-weight: bold; text-align: right;\">27</td><td style = \"text-align: left;\">10</td><td style = \"text-align: left;\">Ten Billions</td></tr><tr><td class = \"rowNumber\" style = \"font-weight: bold; text-align: right;\">28</td><td style = \"text-align: left;\">11</td><td style = \"text-align: left;\">Hundred Billions</td></tr><tr><td class = \"rowNumber\" style = \"font-weight: bold; text-align: right;\">29</td><td style = \"text-align: left;\">13</td><td style = \"text-align: left;\">Ten Trillions</td></tr><tr><td class = \"rowNumber\" style = \"font-weight: bold; text-align: right;\">30</td><td style = \"text-align: left;\">14</td><td style = \"text-align: left;\">Hundred Trillions</td></tr><tr><td class = \"rowNumber\" style = \"font-weight: bold; text-align: right;\">31</td><td style = \"text-align: left;\">15</td><td style = \"text-align: left;\">Quadrillions</td></tr></tbody></table></div>"
      ],
      "text/latex": [
       "\\begin{tabular}{r|cc}\n",
       "\t& parameter\\_value & description\\\\\n",
       "\t\\hline\n",
       "\t& String & String\\\\\n",
       "\t\\hline\n",
       "\t1 & 0 & Units \\\\\n",
       "\t2 & 2 & Hundreds \\\\\n",
       "\t3 & 3 & Thousands \\\\\n",
       "\t4 & 6 & Millions \\\\\n",
       "\t5 & 9 & Billions \\\\\n",
       "\t6 & 12 & Trillions \\\\\n",
       "\t7 & N15 & Quadrillionths \\\\\n",
       "\t8 & N14 & Hundred Trillionths \\\\\n",
       "\t9 & N13 & Ten Trillionths \\\\\n",
       "\t10 & N12 & Trillionths \\\\\n",
       "\t11 & N11 & Hundred Billionths \\\\\n",
       "\t12 & N10 & Ten Billionths \\\\\n",
       "\t13 & N9 & Billionths \\\\\n",
       "\t14 & N8 & Hundred Millionths \\\\\n",
       "\t15 & N7 & Ten Millionths \\\\\n",
       "\t16 & N6 & Millionths \\\\\n",
       "\t17 & N5 & Hundred Thousandths \\\\\n",
       "\t18 & N4 & Ten Thousandths \\\\\n",
       "\t19 & N3 & Thousandths \\\\\n",
       "\t20 & N2 & Hundredths \\\\\n",
       "\t21 & N1 & Tenths \\\\\n",
       "\t22 & 1 & Tens \\\\\n",
       "\t23 & 4 & Ten Thousands \\\\\n",
       "\t24 & 5 & Hundred Thousands \\\\\n",
       "\t25 & 7 & Ten Millions \\\\\n",
       "\t26 & 8 & Hundred Millions \\\\\n",
       "\t27 & 10 & Ten Billions \\\\\n",
       "\t28 & 11 & Hundred Billions \\\\\n",
       "\t29 & 13 & Ten Trillions \\\\\n",
       "\t30 & 14 & Hundred Trillions \\\\\n",
       "\t$\\dots$ & $\\dots$ & $\\dots$ \\\\\n",
       "\\end{tabular}\n"
      ],
      "text/plain": [
       "\u001b[1m31×2 DataFrame\u001b[0m\n",
       "\u001b[1m Row \u001b[0m│\u001b[1m parameter_value \u001b[0m\u001b[1m description         \u001b[0m\n",
       "     │\u001b[90m String          \u001b[0m\u001b[90m String              \u001b[0m\n",
       "─────┼──────────────────────────────────────\n",
       "   1 │ 0                Units\n",
       "   2 │ 2                Hundreds\n",
       "   3 │ 3                Thousands\n",
       "   4 │ 6                Millions\n",
       "   5 │ 9                Billions\n",
       "   6 │ 12               Trillions\n",
       "   7 │ N15              Quadrillionths\n",
       "   8 │ N14              Hundred Trillionths\n",
       "   9 │ N13              Ten Trillionths\n",
       "  10 │ N12              Trillionths\n",
       "  11 │ N11              Hundred Billionths\n",
       "  ⋮  │        ⋮                  ⋮\n",
       "  22 │ 1                Tens\n",
       "  23 │ 4                Ten Thousands\n",
       "  24 │ 5                Hundred Thousands\n",
       "  25 │ 7                Ten Millions\n",
       "  26 │ 8                Hundred Millions\n",
       "  27 │ 10               Ten Billions\n",
       "  28 │ 11               Hundred Billions\n",
       "  29 │ 13               Ten Trillions\n",
       "  30 │ 14               Hundred Trillions\n",
       "  31 │ 15               Quadrillions\n",
       "\u001b[36m                             10 rows omitted\u001b[0m"
      ]
     },
     "execution_count": 24,
     "metadata": {},
     "output_type": "execute_result"
    }
   ],
   "source": [
    "ifs_units = ifs_structure[\"Parameter Values\"][\"CL_UNIT_MULT\"]"
   ]
  },
  {
   "cell_type": "code",
   "execution_count": 24,
   "id": "3b74cfcc",
   "metadata": {},
   "outputs": [
    {
     "data": {
      "text/plain": [
       "31-element Vector{String}:\n",
       " \"Units\"\n",
       " \"Hundreds\"\n",
       " \"Thousands\"\n",
       " \"Millions\"\n",
       " \"Billions\"\n",
       " \"Trillions\"\n",
       " \"Quadrillionths\"\n",
       " \"Hundred Trillionths\"\n",
       " \"Ten Trillionths\"\n",
       " \"Trillionths\"\n",
       " \"Hundred Billionths\"\n",
       " \"Ten Billionths\"\n",
       " \"Billionths\"\n",
       " ⋮\n",
       " \"Hundredths\"\n",
       " \"Tenths\"\n",
       " \"Tens\"\n",
       " \"Ten Thousands\"\n",
       " \"Hundred Thousands\"\n",
       " \"Ten Millions\"\n",
       " \"Hundred Millions\"\n",
       " \"Ten Billions\"\n",
       " \"Hundred Billions\"\n",
       " \"Ten Trillions\"\n",
       " \"Hundred Trillions\"\n",
       " \"Quadrillions\""
      ]
     },
     "execution_count": 25,
     "metadata": {},
     "output_type": "execute_result"
    }
   ],
   "source": [
    "ifs_units.description"
   ]
  },
  {
   "cell_type": "markdown",
   "id": "25c23d7e",
   "metadata": {},
   "source": [
    "### Time Format: \"CL_TIME_FORMAT\"\n"
   ]
  },
  {
   "cell_type": "code",
   "execution_count": 25,
   "id": "f396a5c1",
   "metadata": {},
   "outputs": [
    {
     "data": {
      "text/html": [
       "<div><div style = \"float: left;\"><span>6×2 DataFrame</span></div><div style = \"clear: both;\"></div></div><div class = \"data-frame\" style = \"overflow-x: scroll;\"><table class = \"data-frame\" style = \"margin-bottom: 6px;\"><thead><tr class = \"header\"><th class = \"rowNumber\" style = \"font-weight: bold; text-align: right;\">Row</th><th style = \"text-align: left;\">parameter_value</th><th style = \"text-align: left;\">description</th></tr><tr class = \"subheader headerLastRow\"><th class = \"rowNumber\" style = \"font-weight: bold; text-align: right;\"></th><th title = \"String\" style = \"text-align: left;\">String</th><th title = \"String\" style = \"text-align: left;\">String</th></tr></thead><tbody><tr><td class = \"rowNumber\" style = \"font-weight: bold; text-align: right;\">1</td><td style = \"text-align: left;\">P1Y</td><td style = \"text-align: left;\">Annual</td></tr><tr><td class = \"rowNumber\" style = \"font-weight: bold; text-align: right;\">2</td><td style = \"text-align: left;\">P6M</td><td style = \"text-align: left;\">Bi-annual</td></tr><tr><td class = \"rowNumber\" style = \"font-weight: bold; text-align: right;\">3</td><td style = \"text-align: left;\">P3M</td><td style = \"text-align: left;\">Quarterly</td></tr><tr><td class = \"rowNumber\" style = \"font-weight: bold; text-align: right;\">4</td><td style = \"text-align: left;\">P1M</td><td style = \"text-align: left;\">Monthly</td></tr><tr><td class = \"rowNumber\" style = \"font-weight: bold; text-align: right;\">5</td><td style = \"text-align: left;\">P7D</td><td style = \"text-align: left;\">Weekly</td></tr><tr><td class = \"rowNumber\" style = \"font-weight: bold; text-align: right;\">6</td><td style = \"text-align: left;\">P1D</td><td style = \"text-align: left;\">Daily</td></tr></tbody></table></div>"
      ],
      "text/latex": [
       "\\begin{tabular}{r|cc}\n",
       "\t& parameter\\_value & description\\\\\n",
       "\t\\hline\n",
       "\t& String & String\\\\\n",
       "\t\\hline\n",
       "\t1 & P1Y & Annual \\\\\n",
       "\t2 & P6M & Bi-annual \\\\\n",
       "\t3 & P3M & Quarterly \\\\\n",
       "\t4 & P1M & Monthly \\\\\n",
       "\t5 & P7D & Weekly \\\\\n",
       "\t6 & P1D & Daily \\\\\n",
       "\\end{tabular}\n"
      ],
      "text/plain": [
       "\u001b[1m6×2 DataFrame\u001b[0m\n",
       "\u001b[1m Row \u001b[0m│\u001b[1m parameter_value \u001b[0m\u001b[1m description \u001b[0m\n",
       "     │\u001b[90m String          \u001b[0m\u001b[90m String      \u001b[0m\n",
       "─────┼──────────────────────────────\n",
       "   1 │ P1Y              Annual\n",
       "   2 │ P6M              Bi-annual\n",
       "   3 │ P3M              Quarterly\n",
       "   4 │ P1M              Monthly\n",
       "   5 │ P7D              Weekly\n",
       "   6 │ P1D              Daily"
      ]
     },
     "execution_count": 26,
     "metadata": {},
     "output_type": "execute_result"
    }
   ],
   "source": [
    "ifs_time = ifs_structure[\"Parameter Values\"][\"CL_TIME_FORMAT\"]"
   ]
  },
  {
   "cell_type": "code",
   "execution_count": 26,
   "id": "87bc557d",
   "metadata": {},
   "outputs": [
    {
     "data": {
      "text/plain": [
       "6-element Vector{String}:\n",
       " \"Annual\"\n",
       " \"Bi-annual\"\n",
       " \"Quarterly\"\n",
       " \"Monthly\"\n",
       " \"Weekly\"\n",
       " \"Daily\""
      ]
     },
     "execution_count": 27,
     "metadata": {},
     "output_type": "execute_result"
    }
   ],
   "source": [
    "ifs_time.description"
   ]
  },
  {
   "cell_type": "markdown",
   "id": "1eaf40b0",
   "metadata": {},
   "source": [
    "### Countries: \"CL_AREA_IFS\"\n"
   ]
  },
  {
   "cell_type": "code",
   "execution_count": 27,
   "id": "8e4c250a",
   "metadata": {},
   "outputs": [
    {
     "data": {
      "text/plain": [
       "\"C:\\\\Directorio_Trabajo\\\\GitHub\\\\IMFData_Examples-main/IFS_Countries.csv\""
      ]
     },
     "execution_count": 28,
     "metadata": {},
     "output_type": "execute_result"
    }
   ],
   "source": [
    "ifs_countries = ifs_structure[\"Parameter Values\"][\"CL_AREA_IFS\"]\n",
    "ifs_countries.description\n",
    "CSV.write(\n",
    "    wd * \"/IFS_Countries.csv\",\n",
    "    delim = \";\",\n",
    "    ifs_countries)"
   ]
  },
  {
   "cell_type": "markdown",
   "id": "c3606fb2",
   "metadata": {},
   "source": [
    "### frequency: \"CL_FREQ\"\n"
   ]
  },
  {
   "cell_type": "code",
   "execution_count": 28,
   "id": "d2f676e8",
   "metadata": {},
   "outputs": [
    {
     "data": {
      "text/html": [
       "<div><div style = \"float: left;\"><span>6×2 DataFrame</span></div><div style = \"clear: both;\"></div></div><div class = \"data-frame\" style = \"overflow-x: scroll;\"><table class = \"data-frame\" style = \"margin-bottom: 6px;\"><thead><tr class = \"header\"><th class = \"rowNumber\" style = \"font-weight: bold; text-align: right;\">Row</th><th style = \"text-align: left;\">parameter_value</th><th style = \"text-align: left;\">description</th></tr><tr class = \"subheader headerLastRow\"><th class = \"rowNumber\" style = \"font-weight: bold; text-align: right;\"></th><th title = \"String\" style = \"text-align: left;\">String</th><th title = \"String\" style = \"text-align: left;\">String</th></tr></thead><tbody><tr><td class = \"rowNumber\" style = \"font-weight: bold; text-align: right;\">1</td><td style = \"text-align: left;\">A</td><td style = \"text-align: left;\">Annual</td></tr><tr><td class = \"rowNumber\" style = \"font-weight: bold; text-align: right;\">2</td><td style = \"text-align: left;\">B</td><td style = \"text-align: left;\">Bi-annual</td></tr><tr><td class = \"rowNumber\" style = \"font-weight: bold; text-align: right;\">3</td><td style = \"text-align: left;\">Q</td><td style = \"text-align: left;\">Quarterly</td></tr><tr><td class = \"rowNumber\" style = \"font-weight: bold; text-align: right;\">4</td><td style = \"text-align: left;\">M</td><td style = \"text-align: left;\">Monthly</td></tr><tr><td class = \"rowNumber\" style = \"font-weight: bold; text-align: right;\">5</td><td style = \"text-align: left;\">D</td><td style = \"text-align: left;\">Daily</td></tr><tr><td class = \"rowNumber\" style = \"font-weight: bold; text-align: right;\">6</td><td style = \"text-align: left;\">W</td><td style = \"text-align: left;\">Weekly</td></tr></tbody></table></div>"
      ],
      "text/latex": [
       "\\begin{tabular}{r|cc}\n",
       "\t& parameter\\_value & description\\\\\n",
       "\t\\hline\n",
       "\t& String & String\\\\\n",
       "\t\\hline\n",
       "\t1 & A & Annual \\\\\n",
       "\t2 & B & Bi-annual \\\\\n",
       "\t3 & Q & Quarterly \\\\\n",
       "\t4 & M & Monthly \\\\\n",
       "\t5 & D & Daily \\\\\n",
       "\t6 & W & Weekly \\\\\n",
       "\\end{tabular}\n"
      ],
      "text/plain": [
       "\u001b[1m6×2 DataFrame\u001b[0m\n",
       "\u001b[1m Row \u001b[0m│\u001b[1m parameter_value \u001b[0m\u001b[1m description \u001b[0m\n",
       "     │\u001b[90m String          \u001b[0m\u001b[90m String      \u001b[0m\n",
       "─────┼──────────────────────────────\n",
       "   1 │ A                Annual\n",
       "   2 │ B                Bi-annual\n",
       "   3 │ Q                Quarterly\n",
       "   4 │ M                Monthly\n",
       "   5 │ D                Daily\n",
       "   6 │ W                Weekly"
      ]
     },
     "execution_count": 29,
     "metadata": {},
     "output_type": "execute_result"
    }
   ],
   "source": [
    "ifs_frequency = ifs_structure[\"Parameter Values\"][\"CL_FREQ\"]"
   ]
  },
  {
   "cell_type": "code",
   "execution_count": 29,
   "id": "165db3bf",
   "metadata": {},
   "outputs": [
    {
     "data": {
      "text/plain": [
       "6-element Vector{String}:\n",
       " \"Annual\"\n",
       " \"Bi-annual\"\n",
       " \"Quarterly\"\n",
       " \"Monthly\"\n",
       " \"Daily\"\n",
       " \"Weekly\""
      ]
     },
     "execution_count": 30,
     "metadata": {},
     "output_type": "execute_result"
    }
   ],
   "source": [
    "ifs_frequency.description"
   ]
  },
  {
   "cell_type": "markdown",
   "id": "5e9e7dce",
   "metadata": {},
   "source": [
    "## One Country, One Indicator\n"
   ]
  },
  {
   "cell_type": "code",
   "execution_count": 30,
   "id": "4062597f",
   "metadata": {},
   "outputs": [
    {
     "data": {
      "text/plain": [
       "IMF Data Series\n",
       "Database: IFS\n",
       "Area: US\n",
       "Indicator: NGDP_SA_XDC\n",
       "Description: \n",
       "Frequency: Q\n",
       "Time Period: 1950 to 2023\n",
       "Data: 296 x 2 DataFrame\n"
      ]
     },
     "execution_count": 31,
     "metadata": {},
     "output_type": "execute_result"
    }
   ],
   "source": [
    "indicators = \"NGDP_SA_XDC\"\n",
    "countries  = \"US\"\n",
    "us_gdp = get_ifs_data(countries, indicators, \"Q\", 1900, 2100)"
   ]
  },
  {
   "cell_type": "code",
   "execution_count": 31,
   "id": "8e1d860b",
   "metadata": {},
   "outputs": [
    {
     "data": {
      "text/html": [
       "<div><div style = \"float: left;\"><span>296×2 DataFrame</span></div><div style = \"float: right;\"><span style = \"font-style: italic;\">271 rows omitted</span></div><div style = \"clear: both;\"></div></div><div class = \"data-frame\" style = \"overflow-x: scroll;\"><table class = \"data-frame\" style = \"margin-bottom: 6px;\"><thead><tr class = \"header\"><th class = \"rowNumber\" style = \"font-weight: bold; text-align: right;\">Row</th><th style = \"text-align: left;\">date</th><th style = \"text-align: left;\">value</th></tr><tr class = \"subheader headerLastRow\"><th class = \"rowNumber\" style = \"font-weight: bold; text-align: right;\"></th><th title = \"Dates.Date\" style = \"text-align: left;\">Date</th><th title = \"Float64\" style = \"text-align: left;\">Float64</th></tr></thead><tbody><tr><td class = \"rowNumber\" style = \"font-weight: bold; text-align: right;\">1</td><td style = \"text-align: left;\">1950-03-01</td><td style = \"text-align: right;\">70207.0</td></tr><tr><td class = \"rowNumber\" style = \"font-weight: bold; text-align: right;\">2</td><td style = \"text-align: left;\">1950-06-01</td><td style = \"text-align: right;\">72595.8</td></tr><tr><td class = \"rowNumber\" style = \"font-weight: bold; text-align: right;\">3</td><td style = \"text-align: left;\">1950-09-01</td><td style = \"text-align: right;\">77038.3</td></tr><tr><td class = \"rowNumber\" style = \"font-weight: bold; text-align: right;\">4</td><td style = \"text-align: left;\">1950-12-01</td><td style = \"text-align: right;\">79986.3</td></tr><tr><td class = \"rowNumber\" style = \"font-weight: bold; text-align: right;\">5</td><td style = \"text-align: left;\">1951-03-01</td><td style = \"text-align: right;\">84000.0</td></tr><tr><td class = \"rowNumber\" style = \"font-weight: bold; text-align: right;\">6</td><td style = \"text-align: left;\">1951-06-01</td><td style = \"text-align: right;\">86022.5</td></tr><tr><td class = \"rowNumber\" style = \"font-weight: bold; text-align: right;\">7</td><td style = \"text-align: left;\">1951-09-01</td><td style = \"text-align: right;\">87846.3</td></tr><tr><td class = \"rowNumber\" style = \"font-weight: bold; text-align: right;\">8</td><td style = \"text-align: left;\">1951-12-01</td><td style = \"text-align: right;\">89044.5</td></tr><tr><td class = \"rowNumber\" style = \"font-weight: bold; text-align: right;\">9</td><td style = \"text-align: left;\">1952-03-01</td><td style = \"text-align: right;\">89955.0</td></tr><tr><td class = \"rowNumber\" style = \"font-weight: bold; text-align: right;\">10</td><td style = \"text-align: left;\">1952-06-01</td><td style = \"text-align: right;\">90257.5</td></tr><tr><td class = \"rowNumber\" style = \"font-weight: bold; text-align: right;\">11</td><td style = \"text-align: left;\">1952-09-01</td><td style = \"text-align: right;\">91925.3</td></tr><tr><td class = \"rowNumber\" style = \"font-weight: bold; text-align: right;\">12</td><td style = \"text-align: left;\">1952-12-01</td><td style = \"text-align: right;\">95203.0</td></tr><tr><td class = \"rowNumber\" style = \"font-weight: bold; text-align: right;\">13</td><td style = \"text-align: left;\">1953-03-01</td><td style = \"text-align: right;\">96995.0</td></tr><tr><td style = \"text-align: right;\">&vellip;</td><td style = \"text-align: right;\">&vellip;</td><td style = \"text-align: right;\">&vellip;</td></tr><tr><td class = \"rowNumber\" style = \"font-weight: bold; text-align: right;\">285</td><td style = \"text-align: left;\">2021-03-01</td><td style = \"text-align: right;\">5.65005e6</td></tr><tr><td class = \"rowNumber\" style = \"font-weight: bold; text-align: right;\">286</td><td style = \"text-align: left;\">2021-06-01</td><td style = \"text-align: right;\">5.82309e6</td></tr><tr><td class = \"rowNumber\" style = \"font-weight: bold; text-align: right;\">287</td><td style = \"text-align: left;\">2021-09-01</td><td style = \"text-align: right;\">5.95724e6</td></tr><tr><td class = \"rowNumber\" style = \"font-weight: bold; text-align: right;\">288</td><td style = \"text-align: left;\">2021-12-01</td><td style = \"text-align: right;\">6.16365e6</td></tr><tr><td class = \"rowNumber\" style = \"font-weight: bold; text-align: right;\">289</td><td style = \"text-align: left;\">2022-03-01</td><td style = \"text-align: right;\">6.25728e6</td></tr><tr><td class = \"rowNumber\" style = \"font-weight: bold; text-align: right;\">290</td><td style = \"text-align: left;\">2022-06-01</td><td style = \"text-align: right;\">6.38607e6</td></tr><tr><td class = \"rowNumber\" style = \"font-weight: bold; text-align: right;\">291</td><td style = \"text-align: left;\">2022-09-01</td><td style = \"text-align: right;\">6.49866e6</td></tr><tr><td class = \"rowNumber\" style = \"font-weight: bold; text-align: right;\">292</td><td style = \"text-align: left;\">2022-12-01</td><td style = \"text-align: right;\">6.6021e6</td></tr><tr><td class = \"rowNumber\" style = \"font-weight: bold; text-align: right;\">293</td><td style = \"text-align: left;\">2023-03-01</td><td style = \"text-align: right;\">6.7034e6</td></tr><tr><td class = \"rowNumber\" style = \"font-weight: bold; text-align: right;\">294</td><td style = \"text-align: left;\">2023-06-01</td><td style = \"text-align: right;\">6.76575e6</td></tr><tr><td class = \"rowNumber\" style = \"font-weight: bold; text-align: right;\">295</td><td style = \"text-align: left;\">2023-09-01</td><td style = \"text-align: right;\">6.90253e6</td></tr><tr><td class = \"rowNumber\" style = \"font-weight: bold; text-align: right;\">296</td><td style = \"text-align: left;\">2023-12-01</td><td style = \"text-align: right;\">6.98471e6</td></tr></tbody></table></div>"
      ],
      "text/latex": [
       "\\begin{tabular}{r|cc}\n",
       "\t& date & value\\\\\n",
       "\t\\hline\n",
       "\t& Date & Float64\\\\\n",
       "\t\\hline\n",
       "\t1 & 1950-03-01 & 70207.0 \\\\\n",
       "\t2 & 1950-06-01 & 72595.8 \\\\\n",
       "\t3 & 1950-09-01 & 77038.3 \\\\\n",
       "\t4 & 1950-12-01 & 79986.3 \\\\\n",
       "\t5 & 1951-03-01 & 84000.0 \\\\\n",
       "\t6 & 1951-06-01 & 86022.5 \\\\\n",
       "\t7 & 1951-09-01 & 87846.3 \\\\\n",
       "\t8 & 1951-12-01 & 89044.5 \\\\\n",
       "\t9 & 1952-03-01 & 89955.0 \\\\\n",
       "\t10 & 1952-06-01 & 90257.5 \\\\\n",
       "\t11 & 1952-09-01 & 91925.3 \\\\\n",
       "\t12 & 1952-12-01 & 95203.0 \\\\\n",
       "\t13 & 1953-03-01 & 96995.0 \\\\\n",
       "\t14 & 1953-06-01 & 97937.3 \\\\\n",
       "\t15 & 1953-09-01 & 97792.8 \\\\\n",
       "\t16 & 1953-12-01 & 96492.5 \\\\\n",
       "\t17 & 1954-03-01 & 96336.3 \\\\\n",
       "\t18 & 1954-06-01 & 96530.3 \\\\\n",
       "\t19 & 1954-09-01 & 97749.0 \\\\\n",
       "\t20 & 1954-12-01 & 99933.5 \\\\\n",
       "\t21 & 1955-03-01 & 1.03268e5 \\\\\n",
       "\t22 & 1955-06-01 & 105383.0 \\\\\n",
       "\t23 & 1955-09-01 & 1.07555e5 \\\\\n",
       "\t24 & 1955-12-01 & 109273.0 \\\\\n",
       "\t25 & 1956-03-01 & 1.09936e5 \\\\\n",
       "\t26 & 1956-06-01 & 1.11502e5 \\\\\n",
       "\t27 & 1956-09-01 & 1.12798e5 \\\\\n",
       "\t28 & 1956-12-01 & 1.15116e5 \\\\\n",
       "\t29 & 1957-03-01 & 1.17445e5 \\\\\n",
       "\t30 & 1957-06-01 & 1.18006e5 \\\\\n",
       "\t$\\dots$ & $\\dots$ & $\\dots$ \\\\\n",
       "\\end{tabular}\n"
      ],
      "text/plain": [
       "\u001b[1m296×2 DataFrame\u001b[0m\n",
       "\u001b[1m Row \u001b[0m│\u001b[1m date       \u001b[0m\u001b[1m value         \u001b[0m\n",
       "     │\u001b[90m Date       \u001b[0m\u001b[90m Float64       \u001b[0m\n",
       "─────┼───────────────────────────\n",
       "   1 │ 1950-03-01  70207.0\n",
       "   2 │ 1950-06-01  72595.8\n",
       "   3 │ 1950-09-01  77038.3\n",
       "   4 │ 1950-12-01  79986.3\n",
       "   5 │ 1951-03-01  84000.0\n",
       "   6 │ 1951-06-01  86022.5\n",
       "   7 │ 1951-09-01  87846.3\n",
       "   8 │ 1951-12-01  89044.5\n",
       "   9 │ 1952-03-01  89955.0\n",
       "  10 │ 1952-06-01  90257.5\n",
       "  11 │ 1952-09-01  91925.3\n",
       "  ⋮  │     ⋮             ⋮\n",
       " 287 │ 2021-09-01      5.95724e6\n",
       " 288 │ 2021-12-01      6.16365e6\n",
       " 289 │ 2022-03-01      6.25728e6\n",
       " 290 │ 2022-06-01      6.38607e6\n",
       " 291 │ 2022-09-01      6.49866e6\n",
       " 292 │ 2022-12-01      6.6021e6\n",
       " 293 │ 2023-03-01      6.7034e6\n",
       " 294 │ 2023-06-01      6.76575e6\n",
       " 295 │ 2023-09-01      6.90253e6\n",
       " 296 │ 2023-12-01      6.98471e6\n",
       "\u001b[36m                 275 rows omitted\u001b[0m"
      ]
     },
     "execution_count": 32,
     "metadata": {},
     "output_type": "execute_result"
    }
   ],
   "source": [
    "us_gdp.series"
   ]
  },
  {
   "cell_type": "code",
   "execution_count": 32,
   "id": "99da2286",
   "metadata": {},
   "outputs": [
    {
     "data": {
      "text/plain": [
       "\"NGDP_SA_XDC\""
      ]
     },
     "execution_count": 33,
     "metadata": {},
     "output_type": "execute_result"
    }
   ],
   "source": [
    "us_gdp.indicator"
   ]
  },
  {
   "cell_type": "code",
   "execution_count": 33,
   "id": "77f675e9",
   "metadata": {},
   "outputs": [
    {
     "data": {
      "text/plain": [
       "\"Q\""
      ]
     },
     "execution_count": 34,
     "metadata": {},
     "output_type": "execute_result"
    }
   ],
   "source": [
    "us_gdp.frequency"
   ]
  },
  {
   "cell_type": "markdown",
   "id": "98008eb1",
   "metadata": {},
   "source": [
    "## Availability of Data\n"
   ]
  },
  {
   "cell_type": "code",
   "execution_count": 34,
   "id": "e6b962d0",
   "metadata": {},
   "outputs": [
    {
     "data": {
      "text/plain": [
       "IMF Data Series\n",
       "Database: IFS\n",
       "Area: US\n",
       "Indicator: NGDP_SA_XDC\n",
       "Description: \n",
       "Frequency: Q\n",
       "Time Period: 1950 to 2023\n",
       "Data: 296 x 2 DataFrame\n"
      ]
     },
     "execution_count": 35,
     "metadata": {},
     "output_type": "execute_result"
    }
   ],
   "source": [
    "indic = \"NGDP_SA_XDC\"\n",
    "area  = \"US\"\n",
    "data_available = get_ifs_data(area, indic, \"Q\", 1900, 2100)"
   ]
  },
  {
   "cell_type": "code",
   "execution_count": 35,
   "id": "89a2d12b",
   "metadata": {},
   "outputs": [
    {
     "data": {
      "text/plain": [
       "IMF Data Series\n",
       "Database: IFS\n",
       "Area: US\n",
       "Indicator: NGDP_SA_XDC\n",
       "Time Period: 1900 to 2100\n",
       "Note: Indicator not defined for the given area or time period\n"
      ]
     },
     "execution_count": 36,
     "metadata": {},
     "output_type": "execute_result"
    }
   ],
   "source": [
    "data_not_available = get_ifs_data(area, indic, \"M\", 1900, 2100)"
   ]
  },
  {
   "cell_type": "code",
   "execution_count": 36,
   "id": "b2842ab4",
   "metadata": {},
   "outputs": [
    {
     "data": {
      "text/plain": [
       "IMF Data Series\n",
       "Database: IFS\n",
       "Area: US\n",
       "Indicator: NGDP_SA\n",
       "Time Period: 1900 to 2100\n",
       "Note: Indicator not defined for the given area or time period\n"
      ]
     },
     "execution_count": 37,
     "metadata": {},
     "output_type": "execute_result"
    }
   ],
   "source": [
    "data_not_defined = get_ifs_data(area, \"NGDP_SA\", \"Q\", 1900, 2100)"
   ]
  },
  {
   "cell_type": "markdown",
   "id": "31623dd3",
   "metadata": {},
   "source": [
    "## Filter Indicators\n"
   ]
  },
  {
   "cell_type": "code",
   "execution_count": 37,
   "id": "5714dd19",
   "metadata": {},
   "outputs": [
    {
     "data": {
      "text/html": [
       "<div><div style = \"float: left;\"><span>6×2 DataFrame</span></div><div style = \"clear: both;\"></div></div><div class = \"data-frame\" style = \"overflow-x: scroll;\"><table class = \"data-frame\" style = \"margin-bottom: 6px;\"><thead><tr class = \"header\"><th class = \"rowNumber\" style = \"font-weight: bold; text-align: right;\">Row</th><th style = \"text-align: left;\">parameter_value</th><th style = \"text-align: left;\">description</th></tr><tr class = \"subheader headerLastRow\"><th class = \"rowNumber\" style = \"font-weight: bold; text-align: right;\"></th><th title = \"String\" style = \"text-align: left;\">String</th><th title = \"String\" style = \"text-align: left;\">String</th></tr></thead><tbody><tr><td class = \"rowNumber\" style = \"font-weight: bold; text-align: right;\">1</td><td style = \"text-align: left;\">NGDP_XDC</td><td style = \"text-align: left;\">Gross Domestic Product, Nominal, Domestic Currency</td></tr><tr><td class = \"rowNumber\" style = \"font-weight: bold; text-align: right;\">2</td><td style = \"text-align: left;\">NGDP_SA_XDC</td><td style = \"text-align: left;\">Gross Domestic Product, Nominal, Seasonally Adjusted, Domestic Currency</td></tr><tr><td class = \"rowNumber\" style = \"font-weight: bold; text-align: right;\">3</td><td style = \"text-align: left;\">NGDP_NSA_XDC</td><td style = \"text-align: left;\">Gross Domestic Product, Nominal, Unadjusted, Domestic Currency</td></tr><tr><td class = \"rowNumber\" style = \"font-weight: bold; text-align: right;\">4</td><td style = \"text-align: left;\">NGDP_R_XDC</td><td style = \"text-align: left;\">Gross Domestic Product, Real, Domestic Currency</td></tr><tr><td class = \"rowNumber\" style = \"font-weight: bold; text-align: right;\">5</td><td style = \"text-align: left;\">NGDP_R_SA_XDC</td><td style = \"text-align: left;\">Gross Domestic Product, Real, Seasonally Adjusted, Domestic Currency</td></tr><tr><td class = \"rowNumber\" style = \"font-weight: bold; text-align: right;\">6</td><td style = \"text-align: left;\">NGDP_R_NSA_XDC</td><td style = \"text-align: left;\">Gross Domestic Product, Real, Unadjusted, Domestic Currency</td></tr></tbody></table></div>"
      ],
      "text/latex": [
       "\\begin{tabular}{r|cc}\n",
       "\t& parameter\\_value & description\\\\\n",
       "\t\\hline\n",
       "\t& String & String\\\\\n",
       "\t\\hline\n",
       "\t1 & NGDP\\_XDC & Gross Domestic Product, Nominal, Domestic Currency \\\\\n",
       "\t2 & NGDP\\_SA\\_XDC & Gross Domestic Product, Nominal, Seasonally Adjusted, Domestic Currency \\\\\n",
       "\t3 & NGDP\\_NSA\\_XDC & Gross Domestic Product, Nominal, Unadjusted, Domestic Currency \\\\\n",
       "\t4 & NGDP\\_R\\_XDC & Gross Domestic Product, Real, Domestic Currency \\\\\n",
       "\t5 & NGDP\\_R\\_SA\\_XDC & Gross Domestic Product, Real, Seasonally Adjusted, Domestic Currency \\\\\n",
       "\t6 & NGDP\\_R\\_NSA\\_XDC & Gross Domestic Product, Real, Unadjusted, Domestic Currency \\\\\n",
       "\\end{tabular}\n"
      ],
      "text/plain": [
       "\u001b[1m6×2 DataFrame\u001b[0m\n",
       "\u001b[1m Row \u001b[0m│\u001b[1m parameter_value \u001b[0m\u001b[1m description                       \u001b[0m\n",
       "     │\u001b[90m String          \u001b[0m\u001b[90m String                            \u001b[0m\n",
       "─────┼────────────────────────────────────────────────────\n",
       "   1 │ NGDP_XDC         Gross Domestic Product, Nominal,…\n",
       "   2 │ NGDP_SA_XDC      Gross Domestic Product, Nominal,…\n",
       "   3 │ NGDP_NSA_XDC     Gross Domestic Product, Nominal,…\n",
       "   4 │ NGDP_R_XDC       Gross Domestic Product, Real, Do…\n",
       "   5 │ NGDP_R_SA_XDC    Gross Domestic Product, Real, Se…\n",
       "   6 │ NGDP_R_NSA_XDC   Gross Domestic Product, Real, Un…"
      ]
     },
     "execution_count": 38,
     "metadata": {},
     "output_type": "execute_result"
    }
   ],
   "source": [
    "ifs_indicators = ifs_structure[\"Parameter Values\"][\"CL_INDICATOR_IFS\"]\n",
    "#gdp_indicators = @where(\n",
    "gdp_indicators = @subset(\n",
    "\tifs_indicators,\n",
    "\toccursin.(\"Gross Domestic Product\", :description),\n",
    "\toccursin.(\"Domestic Currency\", :description))"
   ]
  },
  {
   "cell_type": "code",
   "execution_count": 38,
   "id": "12e51f82",
   "metadata": {},
   "outputs": [
    {
     "data": {
      "text/plain": [
       "IMF Data Series\n",
       "Database: IFS\n",
       "Area: US\n",
       "Indicator: NGDP_SA_XDC\n",
       "Description: \n",
       "Frequency: Q\n",
       "Time Period: 1950 to 2023\n",
       "Data: 296 x 2 DataFrame\n"
      ]
     },
     "execution_count": 39,
     "metadata": {},
     "output_type": "execute_result"
    }
   ],
   "source": [
    "indicators = gdp_indicators[2,1]\n",
    "countries  = \"US\"\n",
    "us_gdp = get_ifs_data(countries, indicators, \"Q\", 1900, 2100)"
   ]
  },
  {
   "cell_type": "code",
   "execution_count": 39,
   "id": "760c0537",
   "metadata": {},
   "outputs": [
    {
     "data": {
      "text/html": [
       "<div><div style = \"float: left;\"><span>296×2 DataFrame</span></div><div style = \"float: right;\"><span style = \"font-style: italic;\">271 rows omitted</span></div><div style = \"clear: both;\"></div></div><div class = \"data-frame\" style = \"overflow-x: scroll;\"><table class = \"data-frame\" style = \"margin-bottom: 6px;\"><thead><tr class = \"header\"><th class = \"rowNumber\" style = \"font-weight: bold; text-align: right;\">Row</th><th style = \"text-align: left;\">date</th><th style = \"text-align: left;\">value</th></tr><tr class = \"subheader headerLastRow\"><th class = \"rowNumber\" style = \"font-weight: bold; text-align: right;\"></th><th title = \"Dates.Date\" style = \"text-align: left;\">Date</th><th title = \"Float64\" style = \"text-align: left;\">Float64</th></tr></thead><tbody><tr><td class = \"rowNumber\" style = \"font-weight: bold; text-align: right;\">1</td><td style = \"text-align: left;\">1950-03-01</td><td style = \"text-align: right;\">70207.0</td></tr><tr><td class = \"rowNumber\" style = \"font-weight: bold; text-align: right;\">2</td><td style = \"text-align: left;\">1950-06-01</td><td style = \"text-align: right;\">72595.8</td></tr><tr><td class = \"rowNumber\" style = \"font-weight: bold; text-align: right;\">3</td><td style = \"text-align: left;\">1950-09-01</td><td style = \"text-align: right;\">77038.3</td></tr><tr><td class = \"rowNumber\" style = \"font-weight: bold; text-align: right;\">4</td><td style = \"text-align: left;\">1950-12-01</td><td style = \"text-align: right;\">79986.3</td></tr><tr><td class = \"rowNumber\" style = \"font-weight: bold; text-align: right;\">5</td><td style = \"text-align: left;\">1951-03-01</td><td style = \"text-align: right;\">84000.0</td></tr><tr><td class = \"rowNumber\" style = \"font-weight: bold; text-align: right;\">6</td><td style = \"text-align: left;\">1951-06-01</td><td style = \"text-align: right;\">86022.5</td></tr><tr><td class = \"rowNumber\" style = \"font-weight: bold; text-align: right;\">7</td><td style = \"text-align: left;\">1951-09-01</td><td style = \"text-align: right;\">87846.3</td></tr><tr><td class = \"rowNumber\" style = \"font-weight: bold; text-align: right;\">8</td><td style = \"text-align: left;\">1951-12-01</td><td style = \"text-align: right;\">89044.5</td></tr><tr><td class = \"rowNumber\" style = \"font-weight: bold; text-align: right;\">9</td><td style = \"text-align: left;\">1952-03-01</td><td style = \"text-align: right;\">89955.0</td></tr><tr><td class = \"rowNumber\" style = \"font-weight: bold; text-align: right;\">10</td><td style = \"text-align: left;\">1952-06-01</td><td style = \"text-align: right;\">90257.5</td></tr><tr><td class = \"rowNumber\" style = \"font-weight: bold; text-align: right;\">11</td><td style = \"text-align: left;\">1952-09-01</td><td style = \"text-align: right;\">91925.3</td></tr><tr><td class = \"rowNumber\" style = \"font-weight: bold; text-align: right;\">12</td><td style = \"text-align: left;\">1952-12-01</td><td style = \"text-align: right;\">95203.0</td></tr><tr><td class = \"rowNumber\" style = \"font-weight: bold; text-align: right;\">13</td><td style = \"text-align: left;\">1953-03-01</td><td style = \"text-align: right;\">96995.0</td></tr><tr><td style = \"text-align: right;\">&vellip;</td><td style = \"text-align: right;\">&vellip;</td><td style = \"text-align: right;\">&vellip;</td></tr><tr><td class = \"rowNumber\" style = \"font-weight: bold; text-align: right;\">285</td><td style = \"text-align: left;\">2021-03-01</td><td style = \"text-align: right;\">5.65005e6</td></tr><tr><td class = \"rowNumber\" style = \"font-weight: bold; text-align: right;\">286</td><td style = \"text-align: left;\">2021-06-01</td><td style = \"text-align: right;\">5.82309e6</td></tr><tr><td class = \"rowNumber\" style = \"font-weight: bold; text-align: right;\">287</td><td style = \"text-align: left;\">2021-09-01</td><td style = \"text-align: right;\">5.95724e6</td></tr><tr><td class = \"rowNumber\" style = \"font-weight: bold; text-align: right;\">288</td><td style = \"text-align: left;\">2021-12-01</td><td style = \"text-align: right;\">6.16365e6</td></tr><tr><td class = \"rowNumber\" style = \"font-weight: bold; text-align: right;\">289</td><td style = \"text-align: left;\">2022-03-01</td><td style = \"text-align: right;\">6.25728e6</td></tr><tr><td class = \"rowNumber\" style = \"font-weight: bold; text-align: right;\">290</td><td style = \"text-align: left;\">2022-06-01</td><td style = \"text-align: right;\">6.38607e6</td></tr><tr><td class = \"rowNumber\" style = \"font-weight: bold; text-align: right;\">291</td><td style = \"text-align: left;\">2022-09-01</td><td style = \"text-align: right;\">6.49866e6</td></tr><tr><td class = \"rowNumber\" style = \"font-weight: bold; text-align: right;\">292</td><td style = \"text-align: left;\">2022-12-01</td><td style = \"text-align: right;\">6.6021e6</td></tr><tr><td class = \"rowNumber\" style = \"font-weight: bold; text-align: right;\">293</td><td style = \"text-align: left;\">2023-03-01</td><td style = \"text-align: right;\">6.7034e6</td></tr><tr><td class = \"rowNumber\" style = \"font-weight: bold; text-align: right;\">294</td><td style = \"text-align: left;\">2023-06-01</td><td style = \"text-align: right;\">6.76575e6</td></tr><tr><td class = \"rowNumber\" style = \"font-weight: bold; text-align: right;\">295</td><td style = \"text-align: left;\">2023-09-01</td><td style = \"text-align: right;\">6.90253e6</td></tr><tr><td class = \"rowNumber\" style = \"font-weight: bold; text-align: right;\">296</td><td style = \"text-align: left;\">2023-12-01</td><td style = \"text-align: right;\">6.98471e6</td></tr></tbody></table></div>"
      ],
      "text/latex": [
       "\\begin{tabular}{r|cc}\n",
       "\t& date & value\\\\\n",
       "\t\\hline\n",
       "\t& Date & Float64\\\\\n",
       "\t\\hline\n",
       "\t1 & 1950-03-01 & 70207.0 \\\\\n",
       "\t2 & 1950-06-01 & 72595.8 \\\\\n",
       "\t3 & 1950-09-01 & 77038.3 \\\\\n",
       "\t4 & 1950-12-01 & 79986.3 \\\\\n",
       "\t5 & 1951-03-01 & 84000.0 \\\\\n",
       "\t6 & 1951-06-01 & 86022.5 \\\\\n",
       "\t7 & 1951-09-01 & 87846.3 \\\\\n",
       "\t8 & 1951-12-01 & 89044.5 \\\\\n",
       "\t9 & 1952-03-01 & 89955.0 \\\\\n",
       "\t10 & 1952-06-01 & 90257.5 \\\\\n",
       "\t11 & 1952-09-01 & 91925.3 \\\\\n",
       "\t12 & 1952-12-01 & 95203.0 \\\\\n",
       "\t13 & 1953-03-01 & 96995.0 \\\\\n",
       "\t14 & 1953-06-01 & 97937.3 \\\\\n",
       "\t15 & 1953-09-01 & 97792.8 \\\\\n",
       "\t16 & 1953-12-01 & 96492.5 \\\\\n",
       "\t17 & 1954-03-01 & 96336.3 \\\\\n",
       "\t18 & 1954-06-01 & 96530.3 \\\\\n",
       "\t19 & 1954-09-01 & 97749.0 \\\\\n",
       "\t20 & 1954-12-01 & 99933.5 \\\\\n",
       "\t21 & 1955-03-01 & 1.03268e5 \\\\\n",
       "\t22 & 1955-06-01 & 105383.0 \\\\\n",
       "\t23 & 1955-09-01 & 1.07555e5 \\\\\n",
       "\t24 & 1955-12-01 & 109273.0 \\\\\n",
       "\t25 & 1956-03-01 & 1.09936e5 \\\\\n",
       "\t26 & 1956-06-01 & 1.11502e5 \\\\\n",
       "\t27 & 1956-09-01 & 1.12798e5 \\\\\n",
       "\t28 & 1956-12-01 & 1.15116e5 \\\\\n",
       "\t29 & 1957-03-01 & 1.17445e5 \\\\\n",
       "\t30 & 1957-06-01 & 1.18006e5 \\\\\n",
       "\t$\\dots$ & $\\dots$ & $\\dots$ \\\\\n",
       "\\end{tabular}\n"
      ],
      "text/plain": [
       "\u001b[1m296×2 DataFrame\u001b[0m\n",
       "\u001b[1m Row \u001b[0m│\u001b[1m date       \u001b[0m\u001b[1m value         \u001b[0m\n",
       "     │\u001b[90m Date       \u001b[0m\u001b[90m Float64       \u001b[0m\n",
       "─────┼───────────────────────────\n",
       "   1 │ 1950-03-01  70207.0\n",
       "   2 │ 1950-06-01  72595.8\n",
       "   3 │ 1950-09-01  77038.3\n",
       "   4 │ 1950-12-01  79986.3\n",
       "   5 │ 1951-03-01  84000.0\n",
       "   6 │ 1951-06-01  86022.5\n",
       "   7 │ 1951-09-01  87846.3\n",
       "   8 │ 1951-12-01  89044.5\n",
       "   9 │ 1952-03-01  89955.0\n",
       "  10 │ 1952-06-01  90257.5\n",
       "  11 │ 1952-09-01  91925.3\n",
       "  ⋮  │     ⋮             ⋮\n",
       " 287 │ 2021-09-01      5.95724e6\n",
       " 288 │ 2021-12-01      6.16365e6\n",
       " 289 │ 2022-03-01      6.25728e6\n",
       " 290 │ 2022-06-01      6.38607e6\n",
       " 291 │ 2022-09-01      6.49866e6\n",
       " 292 │ 2022-12-01      6.6021e6\n",
       " 293 │ 2023-03-01      6.7034e6\n",
       " 294 │ 2023-06-01      6.76575e6\n",
       " 295 │ 2023-09-01      6.90253e6\n",
       " 296 │ 2023-12-01      6.98471e6\n",
       "\u001b[36m                 275 rows omitted\u001b[0m"
      ]
     },
     "execution_count": 40,
     "metadata": {},
     "output_type": "execute_result"
    }
   ],
   "source": [
    "us_gdp.series"
   ]
  },
  {
   "cell_type": "markdown",
   "id": "a8971672",
   "metadata": {},
   "source": [
    "## Many Countries, One Indicator\n"
   ]
  },
  {
   "cell_type": "code",
   "execution_count": 40,
   "id": "09b019f8",
   "metadata": {},
   "outputs": [
    {
     "data": {
      "text/plain": [
       "get_df (generic function with 1 method)"
      ]
     },
     "execution_count": 41,
     "metadata": {},
     "output_type": "execute_result"
    }
   ],
   "source": [
    "function get_df(x)\n",
    "    try\n",
    "        df = countries_indicators[x].series\n",
    "        df.country .= countries_indicators[x].area\n",
    "        df.indicator .= countries_indicators[x].indicator\n",
    "        df.frequency .= countries_indicators[x].frequency\n",
    "        return df\n",
    "    catch\n",
    "        return DataFrames.DataFrame()\n",
    "    end\n",
    "end"
   ]
  },
  {
   "cell_type": "code",
   "execution_count": 41,
   "id": "af8432de",
   "metadata": {},
   "outputs": [
    {
     "data": {
      "text/plain": [
       "3-element Vector{IMFSeries}:\n",
       " IMF Data Series\n",
       "Database: IFS\n",
       "Area: US\n",
       "Indicator: NGDP_SA_XDC\n",
       "Description: \n",
       "Frequency: Q\n",
       "Time Period: 1950 to 2023\n",
       "Data: 296 x 2 DataFrame\n",
       "\n",
       " IMF Data Series\n",
       "Database: IFS\n",
       "Area: CA\n",
       "Indicator: NGDP_SA_XDC\n",
       "Description: \n",
       "Frequency: Q\n",
       "Time Period: 1961 to 2023\n",
       "Data: 252 x 2 DataFrame\n",
       "\n",
       " IMF Data Series\n",
       "Database: IFS\n",
       "Area: MX\n",
       "Indicator: NGDP_SA_XDC\n",
       "Description: \n",
       "Frequency: Q\n",
       "Time Period: 1993 to 2023\n",
       "Data: 123 x 2 DataFrame\n"
      ]
     },
     "execution_count": 42,
     "metadata": {},
     "output_type": "execute_result"
    }
   ],
   "source": [
    "indicators = \"NGDP_SA_XDC\"\n",
    "countries  = [\"US\",\"CA\",\"MX\"]\n",
    "countries_indicators = get_ifs_data(countries, indicators, \"Q\", 1900, 2100)"
   ]
  },
  {
   "cell_type": "code",
   "execution_count": 42,
   "id": "ad77622c",
   "metadata": {},
   "outputs": [
    {
     "data": {
      "text/plain": [
       "3"
      ]
     },
     "execution_count": 43,
     "metadata": {},
     "output_type": "execute_result"
    }
   ],
   "source": [
    "size(countries_indicators)[1]"
   ]
  },
  {
   "cell_type": "code",
   "execution_count": 43,
   "id": "3d08a84b",
   "metadata": {},
   "outputs": [
    {
     "data": {
      "text/html": [
       "<div><div style = \"float: left;\"><span>123×5 DataFrame</span></div><div style = \"float: right;\"><span style = \"font-style: italic;\">98 rows omitted</span></div><div style = \"clear: both;\"></div></div><div class = \"data-frame\" style = \"overflow-x: scroll;\"><table class = \"data-frame\" style = \"margin-bottom: 6px;\"><thead><tr class = \"header\"><th class = \"rowNumber\" style = \"font-weight: bold; text-align: right;\">Row</th><th style = \"text-align: left;\">date</th><th style = \"text-align: left;\">value</th><th style = \"text-align: left;\">country</th><th style = \"text-align: left;\">indicator</th><th style = \"text-align: left;\">frequency</th></tr><tr class = \"subheader headerLastRow\"><th class = \"rowNumber\" style = \"font-weight: bold; text-align: right;\"></th><th title = \"Dates.Date\" style = \"text-align: left;\">Date</th><th title = \"Float64\" style = \"text-align: left;\">Float64</th><th title = \"String\" style = \"text-align: left;\">String</th><th title = \"String\" style = \"text-align: left;\">String</th><th title = \"String\" style = \"text-align: left;\">String</th></tr></thead><tbody><tr><td class = \"rowNumber\" style = \"font-weight: bold; text-align: right;\">1</td><td style = \"text-align: left;\">1993-03-01</td><td style = \"text-align: right;\">3.98823e5</td><td style = \"text-align: left;\">MX</td><td style = \"text-align: left;\">NGDP_SA_XDC</td><td style = \"text-align: left;\">Q</td></tr><tr><td class = \"rowNumber\" style = \"font-weight: bold; text-align: right;\">2</td><td style = \"text-align: left;\">1993-06-01</td><td style = \"text-align: right;\">4.06057e5</td><td style = \"text-align: left;\">MX</td><td style = \"text-align: left;\">NGDP_SA_XDC</td><td style = \"text-align: left;\">Q</td></tr><tr><td class = \"rowNumber\" style = \"font-weight: bold; text-align: right;\">3</td><td style = \"text-align: left;\">1993-09-01</td><td style = \"text-align: right;\">4.19407e5</td><td style = \"text-align: left;\">MX</td><td style = \"text-align: left;\">NGDP_SA_XDC</td><td style = \"text-align: left;\">Q</td></tr><tr><td class = \"rowNumber\" style = \"font-weight: bold; text-align: right;\">4</td><td style = \"text-align: left;\">1993-12-01</td><td style = \"text-align: right;\">4.28337e5</td><td style = \"text-align: left;\">MX</td><td style = \"text-align: left;\">NGDP_SA_XDC</td><td style = \"text-align: left;\">Q</td></tr><tr><td class = \"rowNumber\" style = \"font-weight: bold; text-align: right;\">5</td><td style = \"text-align: left;\">1994-03-01</td><td style = \"text-align: right;\">4.4009e5</td><td style = \"text-align: left;\">MX</td><td style = \"text-align: left;\">NGDP_SA_XDC</td><td style = \"text-align: left;\">Q</td></tr><tr><td class = \"rowNumber\" style = \"font-weight: bold; text-align: right;\">6</td><td style = \"text-align: left;\">1994-06-01</td><td style = \"text-align: right;\">4.58449e5</td><td style = \"text-align: left;\">MX</td><td style = \"text-align: left;\">NGDP_SA_XDC</td><td style = \"text-align: left;\">Q</td></tr><tr><td class = \"rowNumber\" style = \"font-weight: bold; text-align: right;\">7</td><td style = \"text-align: left;\">1994-09-01</td><td style = \"text-align: right;\">4.74859e5</td><td style = \"text-align: left;\">MX</td><td style = \"text-align: left;\">NGDP_SA_XDC</td><td style = \"text-align: left;\">Q</td></tr><tr><td class = \"rowNumber\" style = \"font-weight: bold; text-align: right;\">8</td><td style = \"text-align: left;\">1994-12-01</td><td style = \"text-align: right;\">4.95675e5</td><td style = \"text-align: left;\">MX</td><td style = \"text-align: left;\">NGDP_SA_XDC</td><td style = \"text-align: left;\">Q</td></tr><tr><td class = \"rowNumber\" style = \"font-weight: bold; text-align: right;\">9</td><td style = \"text-align: left;\">1995-03-01</td><td style = \"text-align: right;\">5.31711e5</td><td style = \"text-align: left;\">MX</td><td style = \"text-align: left;\">NGDP_SA_XDC</td><td style = \"text-align: left;\">Q</td></tr><tr><td class = \"rowNumber\" style = \"font-weight: bold; text-align: right;\">10</td><td style = \"text-align: left;\">1995-06-01</td><td style = \"text-align: right;\">5.83009e5</td><td style = \"text-align: left;\">MX</td><td style = \"text-align: left;\">NGDP_SA_XDC</td><td style = \"text-align: left;\">Q</td></tr><tr><td class = \"rowNumber\" style = \"font-weight: bold; text-align: right;\">11</td><td style = \"text-align: left;\">1995-09-01</td><td style = \"text-align: right;\">6.34642e5</td><td style = \"text-align: left;\">MX</td><td style = \"text-align: left;\">NGDP_SA_XDC</td><td style = \"text-align: left;\">Q</td></tr><tr><td class = \"rowNumber\" style = \"font-weight: bold; text-align: right;\">12</td><td style = \"text-align: left;\">1995-12-01</td><td style = \"text-align: right;\">6.91725e5</td><td style = \"text-align: left;\">MX</td><td style = \"text-align: left;\">NGDP_SA_XDC</td><td style = \"text-align: left;\">Q</td></tr><tr><td class = \"rowNumber\" style = \"font-weight: bold; text-align: right;\">13</td><td style = \"text-align: left;\">1996-03-01</td><td style = \"text-align: right;\">7.48496e5</td><td style = \"text-align: left;\">MX</td><td style = \"text-align: left;\">NGDP_SA_XDC</td><td style = \"text-align: left;\">Q</td></tr><tr><td style = \"text-align: right;\">&vellip;</td><td style = \"text-align: right;\">&vellip;</td><td style = \"text-align: right;\">&vellip;</td><td style = \"text-align: right;\">&vellip;</td><td style = \"text-align: right;\">&vellip;</td><td style = \"text-align: right;\">&vellip;</td></tr><tr><td class = \"rowNumber\" style = \"font-weight: bold; text-align: right;\">112</td><td style = \"text-align: left;\">2020-12-01</td><td style = \"text-align: right;\">6.37733e6</td><td style = \"text-align: left;\">MX</td><td style = \"text-align: left;\">NGDP_SA_XDC</td><td style = \"text-align: left;\">Q</td></tr><tr><td class = \"rowNumber\" style = \"font-weight: bold; text-align: right;\">113</td><td style = \"text-align: left;\">2021-03-01</td><td style = \"text-align: right;\">6.48886e6</td><td style = \"text-align: left;\">MX</td><td style = \"text-align: left;\">NGDP_SA_XDC</td><td style = \"text-align: left;\">Q</td></tr><tr><td class = \"rowNumber\" style = \"font-weight: bold; text-align: right;\">114</td><td style = \"text-align: left;\">2021-06-01</td><td style = \"text-align: right;\">6.6047e6</td><td style = \"text-align: left;\">MX</td><td style = \"text-align: left;\">NGDP_SA_XDC</td><td style = \"text-align: left;\">Q</td></tr><tr><td class = \"rowNumber\" style = \"font-weight: bold; text-align: right;\">115</td><td style = \"text-align: left;\">2021-09-01</td><td style = \"text-align: right;\">6.68766e6</td><td style = \"text-align: left;\">MX</td><td style = \"text-align: left;\">NGDP_SA_XDC</td><td style = \"text-align: left;\">Q</td></tr><tr><td class = \"rowNumber\" style = \"font-weight: bold; text-align: right;\">116</td><td style = \"text-align: left;\">2021-12-01</td><td style = \"text-align: right;\">6.84331e6</td><td style = \"text-align: left;\">MX</td><td style = \"text-align: left;\">NGDP_SA_XDC</td><td style = \"text-align: left;\">Q</td></tr><tr><td class = \"rowNumber\" style = \"font-weight: bold; text-align: right;\">117</td><td style = \"text-align: left;\">2022-03-01</td><td style = \"text-align: right;\">7.08968e6</td><td style = \"text-align: left;\">MX</td><td style = \"text-align: left;\">NGDP_SA_XDC</td><td style = \"text-align: left;\">Q</td></tr><tr><td class = \"rowNumber\" style = \"font-weight: bold; text-align: right;\">118</td><td style = \"text-align: left;\">2022-06-01</td><td style = \"text-align: right;\">7.31544e6</td><td style = \"text-align: left;\">MX</td><td style = \"text-align: left;\">NGDP_SA_XDC</td><td style = \"text-align: left;\">Q</td></tr><tr><td class = \"rowNumber\" style = \"font-weight: bold; text-align: right;\">119</td><td style = \"text-align: left;\">2022-09-01</td><td style = \"text-align: right;\">7.47112e6</td><td style = \"text-align: left;\">MX</td><td style = \"text-align: left;\">NGDP_SA_XDC</td><td style = \"text-align: left;\">Q</td></tr><tr><td class = \"rowNumber\" style = \"font-weight: bold; text-align: right;\">120</td><td style = \"text-align: left;\">2022-12-01</td><td style = \"text-align: right;\">7.57868e6</td><td style = \"text-align: left;\">MX</td><td style = \"text-align: left;\">NGDP_SA_XDC</td><td style = \"text-align: left;\">Q</td></tr><tr><td class = \"rowNumber\" style = \"font-weight: bold; text-align: right;\">121</td><td style = \"text-align: left;\">2023-03-01</td><td style = \"text-align: right;\">7.68015e6</td><td style = \"text-align: left;\">MX</td><td style = \"text-align: left;\">NGDP_SA_XDC</td><td style = \"text-align: left;\">Q</td></tr><tr><td class = \"rowNumber\" style = \"font-weight: bold; text-align: right;\">122</td><td style = \"text-align: left;\">2023-06-01</td><td style = \"text-align: right;\">7.8385e6</td><td style = \"text-align: left;\">MX</td><td style = \"text-align: left;\">NGDP_SA_XDC</td><td style = \"text-align: left;\">Q</td></tr><tr><td class = \"rowNumber\" style = \"font-weight: bold; text-align: right;\">123</td><td style = \"text-align: left;\">2023-09-01</td><td style = \"text-align: right;\">8.04916e6</td><td style = \"text-align: left;\">MX</td><td style = \"text-align: left;\">NGDP_SA_XDC</td><td style = \"text-align: left;\">Q</td></tr></tbody></table></div>"
      ],
      "text/latex": [
       "\\begin{tabular}{r|ccccc}\n",
       "\t& date & value & country & indicator & frequency\\\\\n",
       "\t\\hline\n",
       "\t& Date & Float64 & String & String & String\\\\\n",
       "\t\\hline\n",
       "\t1 & 1993-03-01 & 3.98823e5 & MX & NGDP\\_SA\\_XDC & Q \\\\\n",
       "\t2 & 1993-06-01 & 4.06057e5 & MX & NGDP\\_SA\\_XDC & Q \\\\\n",
       "\t3 & 1993-09-01 & 4.19407e5 & MX & NGDP\\_SA\\_XDC & Q \\\\\n",
       "\t4 & 1993-12-01 & 4.28337e5 & MX & NGDP\\_SA\\_XDC & Q \\\\\n",
       "\t5 & 1994-03-01 & 4.4009e5 & MX & NGDP\\_SA\\_XDC & Q \\\\\n",
       "\t6 & 1994-06-01 & 4.58449e5 & MX & NGDP\\_SA\\_XDC & Q \\\\\n",
       "\t7 & 1994-09-01 & 4.74859e5 & MX & NGDP\\_SA\\_XDC & Q \\\\\n",
       "\t8 & 1994-12-01 & 4.95675e5 & MX & NGDP\\_SA\\_XDC & Q \\\\\n",
       "\t9 & 1995-03-01 & 5.31711e5 & MX & NGDP\\_SA\\_XDC & Q \\\\\n",
       "\t10 & 1995-06-01 & 5.83009e5 & MX & NGDP\\_SA\\_XDC & Q \\\\\n",
       "\t11 & 1995-09-01 & 6.34642e5 & MX & NGDP\\_SA\\_XDC & Q \\\\\n",
       "\t12 & 1995-12-01 & 6.91725e5 & MX & NGDP\\_SA\\_XDC & Q \\\\\n",
       "\t13 & 1996-03-01 & 7.48496e5 & MX & NGDP\\_SA\\_XDC & Q \\\\\n",
       "\t14 & 1996-06-01 & 7.90968e5 & MX & NGDP\\_SA\\_XDC & Q \\\\\n",
       "\t15 & 1996-09-01 & 839253.0 & MX & NGDP\\_SA\\_XDC & Q \\\\\n",
       "\t16 & 1996-12-01 & 9.01527e5 & MX & NGDP\\_SA\\_XDC & Q \\\\\n",
       "\t17 & 1997-03-01 & 9.49204e5 & MX & NGDP\\_SA\\_XDC & Q \\\\\n",
       "\t18 & 1997-06-01 & 999129.0 & MX & NGDP\\_SA\\_XDC & Q \\\\\n",
       "\t19 & 1997-09-01 & 1.06242e6 & MX & NGDP\\_SA\\_XDC & Q \\\\\n",
       "\t20 & 1997-12-01 & 1.13428e6 & MX & NGDP\\_SA\\_XDC & Q \\\\\n",
       "\t21 & 1998-03-01 & 1.19056e6 & MX & NGDP\\_SA\\_XDC & Q \\\\\n",
       "\t22 & 1998-06-01 & 1.24721e6 & MX & NGDP\\_SA\\_XDC & Q \\\\\n",
       "\t23 & 1998-09-01 & 1.30249e6 & MX & NGDP\\_SA\\_XDC & Q \\\\\n",
       "\t24 & 1998-12-01 & 1.35482e6 & MX & NGDP\\_SA\\_XDC & Q \\\\\n",
       "\t25 & 1999-03-01 & 1.41715e6 & MX & NGDP\\_SA\\_XDC & Q \\\\\n",
       "\t26 & 1999-06-01 & 1.48088e6 & MX & NGDP\\_SA\\_XDC & Q \\\\\n",
       "\t27 & 1999-09-01 & 1.5408e6 & MX & NGDP\\_SA\\_XDC & Q \\\\\n",
       "\t28 & 1999-12-01 & 1.59872e6 & MX & NGDP\\_SA\\_XDC & Q \\\\\n",
       "\t29 & 2000-03-01 & 1.67624e6 & MX & NGDP\\_SA\\_XDC & Q \\\\\n",
       "\t30 & 2000-06-01 & 1.73393e6 & MX & NGDP\\_SA\\_XDC & Q \\\\\n",
       "\t$\\dots$ & $\\dots$ & $\\dots$ & $\\dots$ & $\\dots$ & $\\dots$ \\\\\n",
       "\\end{tabular}\n"
      ],
      "text/plain": [
       "\u001b[1m123×5 DataFrame\u001b[0m\n",
       "\u001b[1m Row \u001b[0m│\u001b[1m date       \u001b[0m\u001b[1m value     \u001b[0m\u001b[1m country \u001b[0m\u001b[1m indicator   \u001b[0m\u001b[1m frequency \u001b[0m\n",
       "     │\u001b[90m Date       \u001b[0m\u001b[90m Float64   \u001b[0m\u001b[90m String  \u001b[0m\u001b[90m String      \u001b[0m\u001b[90m String    \u001b[0m\n",
       "─────┼────────────────────────────────────────────────────────\n",
       "   1 │ 1993-03-01  3.98823e5  MX       NGDP_SA_XDC  Q\n",
       "   2 │ 1993-06-01  4.06057e5  MX       NGDP_SA_XDC  Q\n",
       "   3 │ 1993-09-01  4.19407e5  MX       NGDP_SA_XDC  Q\n",
       "   4 │ 1993-12-01  4.28337e5  MX       NGDP_SA_XDC  Q\n",
       "   5 │ 1994-03-01  4.4009e5   MX       NGDP_SA_XDC  Q\n",
       "   6 │ 1994-06-01  4.58449e5  MX       NGDP_SA_XDC  Q\n",
       "   7 │ 1994-09-01  4.74859e5  MX       NGDP_SA_XDC  Q\n",
       "   8 │ 1994-12-01  4.95675e5  MX       NGDP_SA_XDC  Q\n",
       "   9 │ 1995-03-01  5.31711e5  MX       NGDP_SA_XDC  Q\n",
       "  10 │ 1995-06-01  5.83009e5  MX       NGDP_SA_XDC  Q\n",
       "  11 │ 1995-09-01  6.34642e5  MX       NGDP_SA_XDC  Q\n",
       "  ⋮  │     ⋮           ⋮         ⋮          ⋮           ⋮\n",
       " 114 │ 2021-06-01  6.6047e6   MX       NGDP_SA_XDC  Q\n",
       " 115 │ 2021-09-01  6.68766e6  MX       NGDP_SA_XDC  Q\n",
       " 116 │ 2021-12-01  6.84331e6  MX       NGDP_SA_XDC  Q\n",
       " 117 │ 2022-03-01  7.08968e6  MX       NGDP_SA_XDC  Q\n",
       " 118 │ 2022-06-01  7.31544e6  MX       NGDP_SA_XDC  Q\n",
       " 119 │ 2022-09-01  7.47112e6  MX       NGDP_SA_XDC  Q\n",
       " 120 │ 2022-12-01  7.57868e6  MX       NGDP_SA_XDC  Q\n",
       " 121 │ 2023-03-01  7.68015e6  MX       NGDP_SA_XDC  Q\n",
       " 122 │ 2023-06-01  7.8385e6   MX       NGDP_SA_XDC  Q\n",
       " 123 │ 2023-09-01  8.04916e6  MX       NGDP_SA_XDC  Q\n",
       "\u001b[36m                                              102 rows omitted\u001b[0m"
      ]
     },
     "execution_count": 44,
     "metadata": {},
     "output_type": "execute_result"
    }
   ],
   "source": [
    "get_df(3)"
   ]
  },
  {
   "cell_type": "code",
   "execution_count": 44,
   "id": "fd5978ba",
   "metadata": {},
   "outputs": [
    {
     "data": {
      "text/plain": [
       "\"C:\\\\Directorio_Trabajo\\\\GitHub\\\\IMFData_Examples-main/IMFData.csv\""
      ]
     },
     "execution_count": 45,
     "metadata": {},
     "output_type": "execute_result"
    }
   ],
   "source": [
    "ndf = size(countries_indicators)[1]\n",
    "df = map(_ -> DataFrames.DataFrame(), 1:ndf)\n",
    "df = vcat([df[i] = get_df(i) for i in 1:ndf]...)\n",
    "CSV.write(\n",
    "    wd * \"/IMFData.csv\",\n",
    "    delim = \";\",\n",
    "    df)"
   ]
  },
  {
   "cell_type": "markdown",
   "id": "dcbc3ed2",
   "metadata": {},
   "source": [
    "## Many Countries, Many Indicators\n"
   ]
  },
  {
   "cell_type": "code",
   "execution_count": 45,
   "id": "7d27c546",
   "metadata": {},
   "outputs": [
    {
     "data": {
      "text/plain": [
       "36-element Vector{IMFSeries}:\n",
       " IMF Data Series\n",
       "Database: IFS\n",
       "Area: GT\n",
       "Indicator: NGDP_XDC\n",
       "Time Period: 1900 to 2100\n",
       "Note: Indicator not defined for the given area or time period\n",
       "\n",
       " IMF Data Series\n",
       "Database: IFS\n",
       "Area: GT\n",
       "Indicator: NGDP_SA_XDC\n",
       "Time Period: 1900 to 2100\n",
       "Note: Indicator not defined for the given area or time period\n",
       "\n",
       " IMF Data Series\n",
       "Database: IFS\n",
       "Area: GT\n",
       "Indicator: NGDP_NSA_XDC\n",
       "Description: \n",
       "Frequency: Q\n",
       "Time Period: 2013 to 2023\n",
       "Data: 43 x 2 DataFrame\n",
       "\n",
       " IMF Data Series\n",
       "Database: IFS\n",
       "Area: GT\n",
       "Indicator: NGDP_R_XDC\n",
       "Time Period: 1900 to 2100\n",
       "Note: Indicator not defined for the given area or time period\n",
       "\n",
       " IMF Data Series\n",
       "Database: IFS\n",
       "Area: GT\n",
       "Indicator: NGDP_R_SA_XDC\n",
       "Time Period: 1900 to 2100\n",
       "Note: Indicator not defined for the given area or time period\n",
       "\n",
       " IMF Data Series\n",
       "Database: IFS\n",
       "Area: GT\n",
       "Indicator: NGDP_R_NSA_XDC\n",
       "Description: \n",
       "Frequency: Q\n",
       "Time Period: 2013 to 2023\n",
       "Data: 43 x 2 DataFrame\n",
       "\n",
       " IMF Data Series\n",
       "Database: IFS\n",
       "Area: HN\n",
       "Indicator: NGDP_XDC\n",
       "Time Period: 1900 to 2100\n",
       "Note: Indicator not defined for the given area or time period\n",
       "\n",
       " IMF Data Series\n",
       "Database: IFS\n",
       "Area: HN\n",
       "Indicator: NGDP_SA_XDC\n",
       "Description: \n",
       "Frequency: Q\n",
       "Time Period: 2000 to 2023\n",
       "Data: 96 x 2 DataFrame\n",
       "\n",
       " IMF Data Series\n",
       "Database: IFS\n",
       "Area: HN\n",
       "Indicator: NGDP_NSA_XDC\n",
       "Time Period: 1900 to 2100\n",
       "Note: Indicator not defined for the given area or time period\n",
       "\n",
       " IMF Data Series\n",
       "Database: IFS\n",
       "Area: HN\n",
       "Indicator: NGDP_R_XDC\n",
       "Time Period: 1900 to 2100\n",
       "Note: Indicator not defined for the given area or time period\n",
       "\n",
       " IMF Data Series\n",
       "Database: IFS\n",
       "Area: HN\n",
       "Indicator: NGDP_R_SA_XDC\n",
       "Description: \n",
       "Frequency: Q\n",
       "Time Period: 2000 to 2023\n",
       "Data: 96 x 2 DataFrame\n",
       "\n",
       " IMF Data Series\n",
       "Database: IFS\n",
       "Area: HN\n",
       "Indicator: NGDP_R_NSA_XDC\n",
       "Time Period: 1900 to 2100\n",
       "Note: Indicator not defined for the given area or time period\n",
       "\n",
       " IMF Data Series\n",
       "Database: IFS\n",
       "Area: SV\n",
       "Indicator: NGDP_XDC\n",
       "Time Period: 1900 to 2100\n",
       "Note: Indicator not defined for the given area or time period\n",
       "\n",
       " ⋮\n",
       " IMF Data Series\n",
       "Database: IFS\n",
       "Area: CR\n",
       "Indicator: NGDP_XDC\n",
       "Time Period: 1900 to 2100\n",
       "Note: Indicator not defined for the given area or time period\n",
       "\n",
       " IMF Data Series\n",
       "Database: IFS\n",
       "Area: CR\n",
       "Indicator: NGDP_SA_XDC\n",
       "Description: \n",
       "Frequency: Q\n",
       "Time Period: 1991 to 2023\n",
       "Data: 132 x 2 DataFrame\n",
       "\n",
       " IMF Data Series\n",
       "Database: IFS\n",
       "Area: CR\n",
       "Indicator: NGDP_NSA_XDC\n",
       "Description: \n",
       "Frequency: Q\n",
       "Time Period: 1991 to 2023\n",
       "Data: 132 x 2 DataFrame\n",
       "\n",
       " IMF Data Series\n",
       "Database: IFS\n",
       "Area: CR\n",
       "Indicator: NGDP_R_XDC\n",
       "Time Period: 1900 to 2100\n",
       "Note: Indicator not defined for the given area or time period\n",
       "\n",
       " IMF Data Series\n",
       "Database: IFS\n",
       "Area: CR\n",
       "Indicator: NGDP_R_SA_XDC\n",
       "Description: \n",
       "Frequency: Q\n",
       "Time Period: 1991 to 2023\n",
       "Data: 132 x 2 DataFrame\n",
       "\n",
       " IMF Data Series\n",
       "Database: IFS\n",
       "Area: CR\n",
       "Indicator: NGDP_R_NSA_XDC\n",
       "Description: \n",
       "Frequency: Q\n",
       "Time Period: 1991 to 2023\n",
       "Data: 132 x 2 DataFrame\n",
       "\n",
       " IMF Data Series\n",
       "Database: IFS\n",
       "Area: PA\n",
       "Indicator: NGDP_XDC\n",
       "Time Period: 1900 to 2100\n",
       "Note: Indicator not defined for the given area or time period\n",
       "\n",
       " IMF Data Series\n",
       "Database: IFS\n",
       "Area: PA\n",
       "Indicator: NGDP_SA_XDC\n",
       "Time Period: 1900 to 2100\n",
       "Note: Indicator not defined for the given area or time period\n",
       "\n",
       " IMF Data Series\n",
       "Database: IFS\n",
       "Area: PA\n",
       "Indicator: NGDP_NSA_XDC\n",
       "Time Period: 1900 to 2100\n",
       "Note: Indicator not defined for the given area or time period\n",
       "\n",
       " IMF Data Series\n",
       "Database: IFS\n",
       "Area: PA\n",
       "Indicator: NGDP_R_XDC\n",
       "Time Period: 1900 to 2100\n",
       "Note: Indicator not defined for the given area or time period\n",
       "\n",
       " IMF Data Series\n",
       "Database: IFS\n",
       "Area: PA\n",
       "Indicator: NGDP_R_SA_XDC\n",
       "Time Period: 1900 to 2100\n",
       "Note: Indicator not defined for the given area or time period\n",
       "\n",
       " IMF Data Series\n",
       "Database: IFS\n",
       "Area: PA\n",
       "Indicator: NGDP_R_NSA_XDC\n",
       "Time Period: 1900 to 2100\n",
       "Note: Indicator not defined for the given area or time period\n"
      ]
     },
     "execution_count": 46,
     "metadata": {},
     "output_type": "execute_result"
    }
   ],
   "source": [
    "ifs_indicators = ifs_structure[\"Parameter Values\"][\"CL_INDICATOR_IFS\"]\n",
    "countries  = [\"GT\",\"HN\",\"SV\",\"NI\",\"CR\",\"PA\"]\n",
    "#gdp_indicators = @where(\n",
    "gdp_indicators = DataFramesMeta.@subset(\n",
    "\tifs_indicators,\n",
    "\tDataFrames.occursin.(\"Gross Domestic Product\", :description),\n",
    "\tDataFrames.occursin.(\"Domestic Currency\", :description))\n",
    "indicators = gdp_indicators[!,1]\n",
    "countries_indicators = get_ifs_data(countries, indicators, \"Q\", 1900, 2100)"
   ]
  },
  {
   "cell_type": "code",
   "execution_count": 46,
   "id": "b71f8ab4",
   "metadata": {},
   "outputs": [
    {
     "data": {
      "text/html": [
       "<div><div style = \"float: left;\"><span>43×2 DataFrame</span></div><div style = \"float: right;\"><span style = \"font-style: italic;\">18 rows omitted</span></div><div style = \"clear: both;\"></div></div><div class = \"data-frame\" style = \"overflow-x: scroll;\"><table class = \"data-frame\" style = \"margin-bottom: 6px;\"><thead><tr class = \"header\"><th class = \"rowNumber\" style = \"font-weight: bold; text-align: right;\">Row</th><th style = \"text-align: left;\">date</th><th style = \"text-align: left;\">value</th></tr><tr class = \"subheader headerLastRow\"><th class = \"rowNumber\" style = \"font-weight: bold; text-align: right;\"></th><th title = \"Dates.Date\" style = \"text-align: left;\">Date</th><th title = \"Float64\" style = \"text-align: left;\">Float64</th></tr></thead><tbody><tr><td class = \"rowNumber\" style = \"font-weight: bold; text-align: right;\">1</td><td style = \"text-align: left;\">2013-03-01</td><td style = \"text-align: right;\">1.03834e5</td></tr><tr><td class = \"rowNumber\" style = \"font-weight: bold; text-align: right;\">2</td><td style = \"text-align: left;\">2013-06-01</td><td style = \"text-align: right;\">102177.0</td></tr><tr><td class = \"rowNumber\" style = \"font-weight: bold; text-align: right;\">3</td><td style = \"text-align: left;\">2013-09-01</td><td style = \"text-align: right;\">1.02217e5</td></tr><tr><td class = \"rowNumber\" style = \"font-weight: bold; text-align: right;\">4</td><td style = \"text-align: left;\">2013-12-01</td><td style = \"text-align: right;\">1.08155e5</td></tr><tr><td class = \"rowNumber\" style = \"font-weight: bold; text-align: right;\">5</td><td style = \"text-align: left;\">2014-03-01</td><td style = \"text-align: right;\">1.09525e5</td></tr><tr><td class = \"rowNumber\" style = \"font-weight: bold; text-align: right;\">6</td><td style = \"text-align: left;\">2014-06-01</td><td style = \"text-align: right;\">1.09404e5</td></tr><tr><td class = \"rowNumber\" style = \"font-weight: bold; text-align: right;\">7</td><td style = \"text-align: left;\">2014-09-01</td><td style = \"text-align: right;\">111334.0</td></tr><tr><td class = \"rowNumber\" style = \"font-weight: bold; text-align: right;\">8</td><td style = \"text-align: left;\">2014-12-01</td><td style = \"text-align: right;\">1.17063e5</td></tr><tr><td class = \"rowNumber\" style = \"font-weight: bold; text-align: right;\">9</td><td style = \"text-align: left;\">2015-03-01</td><td style = \"text-align: right;\">1.179e5</td></tr><tr><td class = \"rowNumber\" style = \"font-weight: bold; text-align: right;\">10</td><td style = \"text-align: left;\">2015-06-01</td><td style = \"text-align: right;\">1.16185e5</td></tr><tr><td class = \"rowNumber\" style = \"font-weight: bold; text-align: right;\">11</td><td style = \"text-align: left;\">2015-09-01</td><td style = \"text-align: right;\">118716.0</td></tr><tr><td class = \"rowNumber\" style = \"font-weight: bold; text-align: right;\">12</td><td style = \"text-align: left;\">2015-12-01</td><td style = \"text-align: right;\">1.23222e5</td></tr><tr><td class = \"rowNumber\" style = \"font-weight: bold; text-align: right;\">13</td><td style = \"text-align: left;\">2016-03-01</td><td style = \"text-align: right;\">1.23842e5</td></tr><tr><td style = \"text-align: right;\">&vellip;</td><td style = \"text-align: right;\">&vellip;</td><td style = \"text-align: right;\">&vellip;</td></tr><tr><td class = \"rowNumber\" style = \"font-weight: bold; text-align: right;\">32</td><td style = \"text-align: left;\">2020-12-01</td><td style = \"text-align: right;\">1.61708e5</td></tr><tr><td class = \"rowNumber\" style = \"font-weight: bold; text-align: right;\">33</td><td style = \"text-align: left;\">2021-03-01</td><td style = \"text-align: right;\">1.62333e5</td></tr><tr><td class = \"rowNumber\" style = \"font-weight: bold; text-align: right;\">34</td><td style = \"text-align: left;\">2021-06-01</td><td style = \"text-align: right;\">161194.0</td></tr><tr><td class = \"rowNumber\" style = \"font-weight: bold; text-align: right;\">35</td><td style = \"text-align: left;\">2021-09-01</td><td style = \"text-align: right;\">1.66217e5</td></tr><tr><td class = \"rowNumber\" style = \"font-weight: bold; text-align: right;\">36</td><td style = \"text-align: left;\">2021-12-01</td><td style = \"text-align: right;\">1.75824e5</td></tr><tr><td class = \"rowNumber\" style = \"font-weight: bold; text-align: right;\">37</td><td style = \"text-align: left;\">2022-03-01</td><td style = \"text-align: right;\">1.78476e5</td></tr><tr><td class = \"rowNumber\" style = \"font-weight: bold; text-align: right;\">38</td><td style = \"text-align: left;\">2022-06-01</td><td style = \"text-align: right;\">1.78229e5</td></tr><tr><td class = \"rowNumber\" style = \"font-weight: bold; text-align: right;\">39</td><td style = \"text-align: left;\">2022-09-01</td><td style = \"text-align: right;\">1.84388e5</td></tr><tr><td class = \"rowNumber\" style = \"font-weight: bold; text-align: right;\">40</td><td style = \"text-align: left;\">2022-12-01</td><td style = \"text-align: right;\">1.95016e5</td></tr><tr><td class = \"rowNumber\" style = \"font-weight: bold; text-align: right;\">41</td><td style = \"text-align: left;\">2023-03-01</td><td style = \"text-align: right;\">199365.0</td></tr><tr><td class = \"rowNumber\" style = \"font-weight: bold; text-align: right;\">42</td><td style = \"text-align: left;\">2023-06-01</td><td style = \"text-align: right;\">198500.0</td></tr><tr><td class = \"rowNumber\" style = \"font-weight: bold; text-align: right;\">43</td><td style = \"text-align: left;\">2023-09-01</td><td style = \"text-align: right;\">2.00863e5</td></tr></tbody></table></div>"
      ],
      "text/latex": [
       "\\begin{tabular}{r|cc}\n",
       "\t& date & value\\\\\n",
       "\t\\hline\n",
       "\t& Date & Float64\\\\\n",
       "\t\\hline\n",
       "\t1 & 2013-03-01 & 1.03834e5 \\\\\n",
       "\t2 & 2013-06-01 & 102177.0 \\\\\n",
       "\t3 & 2013-09-01 & 1.02217e5 \\\\\n",
       "\t4 & 2013-12-01 & 1.08155e5 \\\\\n",
       "\t5 & 2014-03-01 & 1.09525e5 \\\\\n",
       "\t6 & 2014-06-01 & 1.09404e5 \\\\\n",
       "\t7 & 2014-09-01 & 111334.0 \\\\\n",
       "\t8 & 2014-12-01 & 1.17063e5 \\\\\n",
       "\t9 & 2015-03-01 & 1.179e5 \\\\\n",
       "\t10 & 2015-06-01 & 1.16185e5 \\\\\n",
       "\t11 & 2015-09-01 & 118716.0 \\\\\n",
       "\t12 & 2015-12-01 & 1.23222e5 \\\\\n",
       "\t13 & 2016-03-01 & 1.23842e5 \\\\\n",
       "\t14 & 2016-06-01 & 122800.0 \\\\\n",
       "\t15 & 2016-09-01 & 1.24517e5 \\\\\n",
       "\t16 & 2016-12-01 & 1.30842e5 \\\\\n",
       "\t17 & 2017-03-01 & 1.31681e5 \\\\\n",
       "\t18 & 2017-06-01 & 1.27649e5 \\\\\n",
       "\t19 & 2017-09-01 & 1.30292e5 \\\\\n",
       "\t20 & 2017-12-01 & 1.36885e5 \\\\\n",
       "\t21 & 2018-03-01 & 1.37006e5 \\\\\n",
       "\t22 & 2018-06-01 & 1.34676e5 \\\\\n",
       "\t23 & 2018-09-01 & 1.36448e5 \\\\\n",
       "\t24 & 2018-12-01 & 1.43238e5 \\\\\n",
       "\t25 & 2019-03-01 & 1.45002e5 \\\\\n",
       "\t26 & 2019-06-01 & 1.45013e5 \\\\\n",
       "\t27 & 2019-09-01 & 1.47695e5 \\\\\n",
       "\t28 & 2019-12-01 & 1.56262e5 \\\\\n",
       "\t29 & 2020-03-01 & 1.5166e5 \\\\\n",
       "\t30 & 2020-06-01 & 1.36646e5 \\\\\n",
       "\t$\\dots$ & $\\dots$ & $\\dots$ \\\\\n",
       "\\end{tabular}\n"
      ],
      "text/plain": [
       "\u001b[1m43×2 DataFrame\u001b[0m\n",
       "\u001b[1m Row \u001b[0m│\u001b[1m date       \u001b[0m\u001b[1m value          \u001b[0m\n",
       "     │\u001b[90m Date       \u001b[0m\u001b[90m Float64        \u001b[0m\n",
       "─────┼────────────────────────────\n",
       "   1 │ 2013-03-01       1.03834e5\n",
       "   2 │ 2013-06-01  102177.0\n",
       "   3 │ 2013-09-01       1.02217e5\n",
       "   4 │ 2013-12-01       1.08155e5\n",
       "   5 │ 2014-03-01       1.09525e5\n",
       "   6 │ 2014-06-01       1.09404e5\n",
       "   7 │ 2014-09-01  111334.0\n",
       "   8 │ 2014-12-01       1.17063e5\n",
       "   9 │ 2015-03-01       1.179e5\n",
       "  10 │ 2015-06-01       1.16185e5\n",
       "  11 │ 2015-09-01  118716.0\n",
       "  ⋮  │     ⋮             ⋮\n",
       "  34 │ 2021-06-01  161194.0\n",
       "  35 │ 2021-09-01       1.66217e5\n",
       "  36 │ 2021-12-01       1.75824e5\n",
       "  37 │ 2022-03-01       1.78476e5\n",
       "  38 │ 2022-06-01       1.78229e5\n",
       "  39 │ 2022-09-01       1.84388e5\n",
       "  40 │ 2022-12-01       1.95016e5\n",
       "  41 │ 2023-03-01  199365.0\n",
       "  42 │ 2023-06-01  198500.0\n",
       "  43 │ 2023-09-01       2.00863e5\n",
       "\u001b[36m                   22 rows omitted\u001b[0m"
      ]
     },
     "execution_count": 47,
     "metadata": {},
     "output_type": "execute_result"
    }
   ],
   "source": [
    "countries_indicators[3].series"
   ]
  },
  {
   "cell_type": "code",
   "execution_count": 47,
   "id": "1a266356",
   "metadata": {},
   "outputs": [
    {
     "data": {
      "text/html": [
       "<div><div style = \"float: left;\"><span>1016×5 DataFrame</span></div><div style = \"float: right;\"><span style = \"font-style: italic;\">991 rows omitted</span></div><div style = \"clear: both;\"></div></div><div class = \"data-frame\" style = \"overflow-x: scroll;\"><table class = \"data-frame\" style = \"margin-bottom: 6px;\"><thead><tr class = \"header\"><th class = \"rowNumber\" style = \"font-weight: bold; text-align: right;\">Row</th><th style = \"text-align: left;\">date</th><th style = \"text-align: left;\">value</th><th style = \"text-align: left;\">country</th><th style = \"text-align: left;\">indicator</th><th style = \"text-align: left;\">frequency</th></tr><tr class = \"subheader headerLastRow\"><th class = \"rowNumber\" style = \"font-weight: bold; text-align: right;\"></th><th title = \"Dates.Date\" style = \"text-align: left;\">Date</th><th title = \"Float64\" style = \"text-align: left;\">Float64</th><th title = \"String\" style = \"text-align: left;\">String</th><th title = \"String\" style = \"text-align: left;\">String</th><th title = \"String\" style = \"text-align: left;\">String</th></tr></thead><tbody><tr><td class = \"rowNumber\" style = \"font-weight: bold; text-align: right;\">1</td><td style = \"text-align: left;\">2013-03-01</td><td style = \"text-align: right;\">1.03834e5</td><td style = \"text-align: left;\">GT</td><td style = \"text-align: left;\">NGDP_NSA_XDC</td><td style = \"text-align: left;\">Q</td></tr><tr><td class = \"rowNumber\" style = \"font-weight: bold; text-align: right;\">2</td><td style = \"text-align: left;\">2013-06-01</td><td style = \"text-align: right;\">102177.0</td><td style = \"text-align: left;\">GT</td><td style = \"text-align: left;\">NGDP_NSA_XDC</td><td style = \"text-align: left;\">Q</td></tr><tr><td class = \"rowNumber\" style = \"font-weight: bold; text-align: right;\">3</td><td style = \"text-align: left;\">2013-09-01</td><td style = \"text-align: right;\">1.02217e5</td><td style = \"text-align: left;\">GT</td><td style = \"text-align: left;\">NGDP_NSA_XDC</td><td style = \"text-align: left;\">Q</td></tr><tr><td class = \"rowNumber\" style = \"font-weight: bold; text-align: right;\">4</td><td style = \"text-align: left;\">2013-12-01</td><td style = \"text-align: right;\">1.08155e5</td><td style = \"text-align: left;\">GT</td><td style = \"text-align: left;\">NGDP_NSA_XDC</td><td style = \"text-align: left;\">Q</td></tr><tr><td class = \"rowNumber\" style = \"font-weight: bold; text-align: right;\">5</td><td style = \"text-align: left;\">2014-03-01</td><td style = \"text-align: right;\">1.09525e5</td><td style = \"text-align: left;\">GT</td><td style = \"text-align: left;\">NGDP_NSA_XDC</td><td style = \"text-align: left;\">Q</td></tr><tr><td class = \"rowNumber\" style = \"font-weight: bold; text-align: right;\">6</td><td style = \"text-align: left;\">2014-06-01</td><td style = \"text-align: right;\">1.09404e5</td><td style = \"text-align: left;\">GT</td><td style = \"text-align: left;\">NGDP_NSA_XDC</td><td style = \"text-align: left;\">Q</td></tr><tr><td class = \"rowNumber\" style = \"font-weight: bold; text-align: right;\">7</td><td style = \"text-align: left;\">2014-09-01</td><td style = \"text-align: right;\">111334.0</td><td style = \"text-align: left;\">GT</td><td style = \"text-align: left;\">NGDP_NSA_XDC</td><td style = \"text-align: left;\">Q</td></tr><tr><td class = \"rowNumber\" style = \"font-weight: bold; text-align: right;\">8</td><td style = \"text-align: left;\">2014-12-01</td><td style = \"text-align: right;\">1.17063e5</td><td style = \"text-align: left;\">GT</td><td style = \"text-align: left;\">NGDP_NSA_XDC</td><td style = \"text-align: left;\">Q</td></tr><tr><td class = \"rowNumber\" style = \"font-weight: bold; text-align: right;\">9</td><td style = \"text-align: left;\">2015-03-01</td><td style = \"text-align: right;\">1.179e5</td><td style = \"text-align: left;\">GT</td><td style = \"text-align: left;\">NGDP_NSA_XDC</td><td style = \"text-align: left;\">Q</td></tr><tr><td class = \"rowNumber\" style = \"font-weight: bold; text-align: right;\">10</td><td style = \"text-align: left;\">2015-06-01</td><td style = \"text-align: right;\">1.16185e5</td><td style = \"text-align: left;\">GT</td><td style = \"text-align: left;\">NGDP_NSA_XDC</td><td style = \"text-align: left;\">Q</td></tr><tr><td class = \"rowNumber\" style = \"font-weight: bold; text-align: right;\">11</td><td style = \"text-align: left;\">2015-09-01</td><td style = \"text-align: right;\">118716.0</td><td style = \"text-align: left;\">GT</td><td style = \"text-align: left;\">NGDP_NSA_XDC</td><td style = \"text-align: left;\">Q</td></tr><tr><td class = \"rowNumber\" style = \"font-weight: bold; text-align: right;\">12</td><td style = \"text-align: left;\">2015-12-01</td><td style = \"text-align: right;\">1.23222e5</td><td style = \"text-align: left;\">GT</td><td style = \"text-align: left;\">NGDP_NSA_XDC</td><td style = \"text-align: left;\">Q</td></tr><tr><td class = \"rowNumber\" style = \"font-weight: bold; text-align: right;\">13</td><td style = \"text-align: left;\">2016-03-01</td><td style = \"text-align: right;\">1.23842e5</td><td style = \"text-align: left;\">GT</td><td style = \"text-align: left;\">NGDP_NSA_XDC</td><td style = \"text-align: left;\">Q</td></tr><tr><td style = \"text-align: right;\">&vellip;</td><td style = \"text-align: right;\">&vellip;</td><td style = \"text-align: right;\">&vellip;</td><td style = \"text-align: right;\">&vellip;</td><td style = \"text-align: right;\">&vellip;</td><td style = \"text-align: right;\">&vellip;</td></tr><tr><td class = \"rowNumber\" style = \"font-weight: bold; text-align: right;\">1005</td><td style = \"text-align: left;\">2021-03-01</td><td style = \"text-align: right;\">9.07089e6</td><td style = \"text-align: left;\">CR</td><td style = \"text-align: left;\">NGDP_R_NSA_XDC</td><td style = \"text-align: left;\">Q</td></tr><tr><td class = \"rowNumber\" style = \"font-weight: bold; text-align: right;\">1006</td><td style = \"text-align: left;\">2021-06-01</td><td style = \"text-align: right;\">9.01928e6</td><td style = \"text-align: left;\">CR</td><td style = \"text-align: left;\">NGDP_R_NSA_XDC</td><td style = \"text-align: left;\">Q</td></tr><tr><td class = \"rowNumber\" style = \"font-weight: bold; text-align: right;\">1007</td><td style = \"text-align: left;\">2021-09-01</td><td style = \"text-align: right;\">9.31402e6</td><td style = \"text-align: left;\">CR</td><td style = \"text-align: left;\">NGDP_R_NSA_XDC</td><td style = \"text-align: left;\">Q</td></tr><tr><td class = \"rowNumber\" style = \"font-weight: bold; text-align: right;\">1008</td><td style = \"text-align: left;\">2021-12-01</td><td style = \"text-align: right;\">9.88934e6</td><td style = \"text-align: left;\">CR</td><td style = \"text-align: left;\">NGDP_R_NSA_XDC</td><td style = \"text-align: left;\">Q</td></tr><tr><td class = \"rowNumber\" style = \"font-weight: bold; text-align: right;\">1009</td><td style = \"text-align: left;\">2022-03-01</td><td style = \"text-align: right;\">9.68201e6</td><td style = \"text-align: left;\">CR</td><td style = \"text-align: left;\">NGDP_R_NSA_XDC</td><td style = \"text-align: left;\">Q</td></tr><tr><td class = \"rowNumber\" style = \"font-weight: bold; text-align: right;\">1010</td><td style = \"text-align: left;\">2022-06-01</td><td style = \"text-align: right;\">9.41406e6</td><td style = \"text-align: left;\">CR</td><td style = \"text-align: left;\">NGDP_R_NSA_XDC</td><td style = \"text-align: left;\">Q</td></tr><tr><td class = \"rowNumber\" style = \"font-weight: bold; text-align: right;\">1011</td><td style = \"text-align: left;\">2022-09-01</td><td style = \"text-align: right;\">9.56453e6</td><td style = \"text-align: left;\">CR</td><td style = \"text-align: left;\">NGDP_R_NSA_XDC</td><td style = \"text-align: left;\">Q</td></tr><tr><td class = \"rowNumber\" style = \"font-weight: bold; text-align: right;\">1012</td><td style = \"text-align: left;\">2022-12-01</td><td style = \"text-align: right;\">1.03303e7</td><td style = \"text-align: left;\">CR</td><td style = \"text-align: left;\">NGDP_R_NSA_XDC</td><td style = \"text-align: left;\">Q</td></tr><tr><td class = \"rowNumber\" style = \"font-weight: bold; text-align: right;\">1013</td><td style = \"text-align: left;\">2023-03-01</td><td style = \"text-align: right;\">1.00782e7</td><td style = \"text-align: left;\">CR</td><td style = \"text-align: left;\">NGDP_R_NSA_XDC</td><td style = \"text-align: left;\">Q</td></tr><tr><td class = \"rowNumber\" style = \"font-weight: bold; text-align: right;\">1014</td><td style = \"text-align: left;\">2023-06-01</td><td style = \"text-align: right;\">9.95117e6</td><td style = \"text-align: left;\">CR</td><td style = \"text-align: left;\">NGDP_R_NSA_XDC</td><td style = \"text-align: left;\">Q</td></tr><tr><td class = \"rowNumber\" style = \"font-weight: bold; text-align: right;\">1015</td><td style = \"text-align: left;\">2023-09-01</td><td style = \"text-align: right;\">1.0094e7</td><td style = \"text-align: left;\">CR</td><td style = \"text-align: left;\">NGDP_R_NSA_XDC</td><td style = \"text-align: left;\">Q</td></tr><tr><td class = \"rowNumber\" style = \"font-weight: bold; text-align: right;\">1016</td><td style = \"text-align: left;\">2023-12-01</td><td style = \"text-align: right;\">1.08608e7</td><td style = \"text-align: left;\">CR</td><td style = \"text-align: left;\">NGDP_R_NSA_XDC</td><td style = \"text-align: left;\">Q</td></tr></tbody></table></div>"
      ],
      "text/latex": [
       "\\begin{tabular}{r|ccccc}\n",
       "\t& date & value & country & indicator & frequency\\\\\n",
       "\t\\hline\n",
       "\t& Date & Float64 & String & String & String\\\\\n",
       "\t\\hline\n",
       "\t1 & 2013-03-01 & 1.03834e5 & GT & NGDP\\_NSA\\_XDC & Q \\\\\n",
       "\t2 & 2013-06-01 & 102177.0 & GT & NGDP\\_NSA\\_XDC & Q \\\\\n",
       "\t3 & 2013-09-01 & 1.02217e5 & GT & NGDP\\_NSA\\_XDC & Q \\\\\n",
       "\t4 & 2013-12-01 & 1.08155e5 & GT & NGDP\\_NSA\\_XDC & Q \\\\\n",
       "\t5 & 2014-03-01 & 1.09525e5 & GT & NGDP\\_NSA\\_XDC & Q \\\\\n",
       "\t6 & 2014-06-01 & 1.09404e5 & GT & NGDP\\_NSA\\_XDC & Q \\\\\n",
       "\t7 & 2014-09-01 & 111334.0 & GT & NGDP\\_NSA\\_XDC & Q \\\\\n",
       "\t8 & 2014-12-01 & 1.17063e5 & GT & NGDP\\_NSA\\_XDC & Q \\\\\n",
       "\t9 & 2015-03-01 & 1.179e5 & GT & NGDP\\_NSA\\_XDC & Q \\\\\n",
       "\t10 & 2015-06-01 & 1.16185e5 & GT & NGDP\\_NSA\\_XDC & Q \\\\\n",
       "\t11 & 2015-09-01 & 118716.0 & GT & NGDP\\_NSA\\_XDC & Q \\\\\n",
       "\t12 & 2015-12-01 & 1.23222e5 & GT & NGDP\\_NSA\\_XDC & Q \\\\\n",
       "\t13 & 2016-03-01 & 1.23842e5 & GT & NGDP\\_NSA\\_XDC & Q \\\\\n",
       "\t14 & 2016-06-01 & 122800.0 & GT & NGDP\\_NSA\\_XDC & Q \\\\\n",
       "\t15 & 2016-09-01 & 1.24517e5 & GT & NGDP\\_NSA\\_XDC & Q \\\\\n",
       "\t16 & 2016-12-01 & 1.30842e5 & GT & NGDP\\_NSA\\_XDC & Q \\\\\n",
       "\t17 & 2017-03-01 & 1.31681e5 & GT & NGDP\\_NSA\\_XDC & Q \\\\\n",
       "\t18 & 2017-06-01 & 1.27649e5 & GT & NGDP\\_NSA\\_XDC & Q \\\\\n",
       "\t19 & 2017-09-01 & 1.30292e5 & GT & NGDP\\_NSA\\_XDC & Q \\\\\n",
       "\t20 & 2017-12-01 & 1.36885e5 & GT & NGDP\\_NSA\\_XDC & Q \\\\\n",
       "\t21 & 2018-03-01 & 1.37006e5 & GT & NGDP\\_NSA\\_XDC & Q \\\\\n",
       "\t22 & 2018-06-01 & 1.34676e5 & GT & NGDP\\_NSA\\_XDC & Q \\\\\n",
       "\t23 & 2018-09-01 & 1.36448e5 & GT & NGDP\\_NSA\\_XDC & Q \\\\\n",
       "\t24 & 2018-12-01 & 1.43238e5 & GT & NGDP\\_NSA\\_XDC & Q \\\\\n",
       "\t25 & 2019-03-01 & 1.45002e5 & GT & NGDP\\_NSA\\_XDC & Q \\\\\n",
       "\t26 & 2019-06-01 & 1.45013e5 & GT & NGDP\\_NSA\\_XDC & Q \\\\\n",
       "\t27 & 2019-09-01 & 1.47695e5 & GT & NGDP\\_NSA\\_XDC & Q \\\\\n",
       "\t28 & 2019-12-01 & 1.56262e5 & GT & NGDP\\_NSA\\_XDC & Q \\\\\n",
       "\t29 & 2020-03-01 & 1.5166e5 & GT & NGDP\\_NSA\\_XDC & Q \\\\\n",
       "\t30 & 2020-06-01 & 1.36646e5 & GT & NGDP\\_NSA\\_XDC & Q \\\\\n",
       "\t$\\dots$ & $\\dots$ & $\\dots$ & $\\dots$ & $\\dots$ & $\\dots$ \\\\\n",
       "\\end{tabular}\n"
      ],
      "text/plain": [
       "\u001b[1m1016×5 DataFrame\u001b[0m\n",
       "\u001b[1m  Row \u001b[0m│\u001b[1m date       \u001b[0m\u001b[1m value          \u001b[0m\u001b[1m country \u001b[0m\u001b[1m indicator      \u001b[0m\u001b[1m frequency \u001b[0m\n",
       "      │\u001b[90m Date       \u001b[0m\u001b[90m Float64        \u001b[0m\u001b[90m String  \u001b[0m\u001b[90m String         \u001b[0m\u001b[90m String    \u001b[0m\n",
       "──────┼────────────────────────────────────────────────────────────────\n",
       "    1 │ 2013-03-01       1.03834e5  GT       NGDP_NSA_XDC    Q\n",
       "    2 │ 2013-06-01  102177.0        GT       NGDP_NSA_XDC    Q\n",
       "    3 │ 2013-09-01       1.02217e5  GT       NGDP_NSA_XDC    Q\n",
       "    4 │ 2013-12-01       1.08155e5  GT       NGDP_NSA_XDC    Q\n",
       "    5 │ 2014-03-01       1.09525e5  GT       NGDP_NSA_XDC    Q\n",
       "    6 │ 2014-06-01       1.09404e5  GT       NGDP_NSA_XDC    Q\n",
       "    7 │ 2014-09-01  111334.0        GT       NGDP_NSA_XDC    Q\n",
       "    8 │ 2014-12-01       1.17063e5  GT       NGDP_NSA_XDC    Q\n",
       "    9 │ 2015-03-01       1.179e5    GT       NGDP_NSA_XDC    Q\n",
       "   10 │ 2015-06-01       1.16185e5  GT       NGDP_NSA_XDC    Q\n",
       "   11 │ 2015-09-01  118716.0        GT       NGDP_NSA_XDC    Q\n",
       "  ⋮   │     ⋮             ⋮            ⋮           ⋮             ⋮\n",
       " 1007 │ 2021-09-01       9.31402e6  CR       NGDP_R_NSA_XDC  Q\n",
       " 1008 │ 2021-12-01       9.88934e6  CR       NGDP_R_NSA_XDC  Q\n",
       " 1009 │ 2022-03-01       9.68201e6  CR       NGDP_R_NSA_XDC  Q\n",
       " 1010 │ 2022-06-01       9.41406e6  CR       NGDP_R_NSA_XDC  Q\n",
       " 1011 │ 2022-09-01       9.56453e6  CR       NGDP_R_NSA_XDC  Q\n",
       " 1012 │ 2022-12-01       1.03303e7  CR       NGDP_R_NSA_XDC  Q\n",
       " 1013 │ 2023-03-01       1.00782e7  CR       NGDP_R_NSA_XDC  Q\n",
       " 1014 │ 2023-06-01       9.95117e6  CR       NGDP_R_NSA_XDC  Q\n",
       " 1015 │ 2023-09-01       1.0094e7   CR       NGDP_R_NSA_XDC  Q\n",
       " 1016 │ 2023-12-01       1.08608e7  CR       NGDP_R_NSA_XDC  Q\n",
       "\u001b[36m                                                       995 rows omitted\u001b[0m"
      ]
     },
     "execution_count": 48,
     "metadata": {},
     "output_type": "execute_result"
    }
   ],
   "source": [
    "ndf = size(countries_indicators)[1]\n",
    "df = map(_ -> DataFrames.DataFrame(), 1:ndf)\n",
    "[df[i] = get_df(i) for i in 1:ndf]\n",
    "df = vcat(df...)\n",
    "CSV.write(\n",
    "    wd * \"/IMFData_query.csv\",\n",
    "    delim = \";\",\n",
    "    df)\n",
    "df"
   ]
  },
  {
   "cell_type": "markdown",
   "id": "9fe5a1a1",
   "metadata": {},
   "source": [
    "# Examples from the original file\n"
   ]
  },
  {
   "cell_type": "code",
   "execution_count": 48,
   "id": "74f8671d",
   "metadata": {},
   "outputs": [
    {
     "data": {
      "text/html": [
       "<div><div style = \"float: left;\"><span>323×2 DataFrame</span></div><div style = \"float: right;\"><span style = \"font-style: italic;\">298 rows omitted</span></div><div style = \"clear: both;\"></div></div><div class = \"data-frame\" style = \"overflow-x: scroll;\"><table class = \"data-frame\" style = \"margin-bottom: 6px;\"><thead><tr class = \"header\"><th class = \"rowNumber\" style = \"font-weight: bold; text-align: right;\">Row</th><th style = \"text-align: left;\">dataset_id</th><th style = \"text-align: left;\">dataset_name</th></tr><tr class = \"subheader headerLastRow\"><th class = \"rowNumber\" style = \"font-weight: bold; text-align: right;\"></th><th title = \"String\" style = \"text-align: left;\">String</th><th title = \"String\" style = \"text-align: left;\">String</th></tr></thead><tbody><tr><td class = \"rowNumber\" style = \"font-weight: bold; text-align: right;\">1</td><td style = \"text-align: left;\">AFRREO</td><td style = \"text-align: left;\">Sub-Saharan Africa Regional Economic Outlook (AFRREO)</td></tr><tr><td class = \"rowNumber\" style = \"font-weight: bold; text-align: right;\">2</td><td style = \"text-align: left;\">AFRREO201410</td><td style = \"text-align: left;\">Sub-Saharan Africa Regional Economic Outlook (AFRREO) October 2014</td></tr><tr><td class = \"rowNumber\" style = \"font-weight: bold; text-align: right;\">3</td><td style = \"text-align: left;\">AFRREO201504</td><td style = \"text-align: left;\">Sub-Saharan Africa Regional Economic Outlook (AFRREO) April 2015</td></tr><tr><td class = \"rowNumber\" style = \"font-weight: bold; text-align: right;\">4</td><td style = \"text-align: left;\">AFRREO201510</td><td style = \"text-align: left;\">Sub-Saharan Africa Regional Economic Outlook (AFRREO) October 2015</td></tr><tr><td class = \"rowNumber\" style = \"font-weight: bold; text-align: right;\">5</td><td style = \"text-align: left;\">AFRREO201604</td><td style = \"text-align: left;\">Sub-Saharan Africa Regional Economic Outlook (AFRREO) April 2016</td></tr><tr><td class = \"rowNumber\" style = \"font-weight: bold; text-align: right;\">6</td><td style = \"text-align: left;\">AFRREO201610</td><td style = \"text-align: left;\">Sub-Saharan Africa Regional Economic Outlook (AFRREO) October 2016</td></tr><tr><td class = \"rowNumber\" style = \"font-weight: bold; text-align: right;\">7</td><td style = \"text-align: left;\">AFRREO201704</td><td style = \"text-align: left;\">Sub-Saharan Africa Regional Economic Outlook (AFRREO) April 2017</td></tr><tr><td class = \"rowNumber\" style = \"font-weight: bold; text-align: right;\">8</td><td style = \"text-align: left;\">AFRREO201710</td><td style = \"text-align: left;\">Sub-Saharan Africa Regional Economic Outlook (AFRREO) October 2017</td></tr><tr><td class = \"rowNumber\" style = \"font-weight: bold; text-align: right;\">9</td><td style = \"text-align: left;\">AFRREO201804</td><td style = \"text-align: left;\">Sub-Saharan Africa Regional Economic Outlook (AFRREO) April 2018</td></tr><tr><td class = \"rowNumber\" style = \"font-weight: bold; text-align: right;\">10</td><td style = \"text-align: left;\">AFRREO201810</td><td style = \"text-align: left;\">Sub-Saharan Africa Regional Economic Outlook (AFRREO) October 2018</td></tr><tr><td class = \"rowNumber\" style = \"font-weight: bold; text-align: right;\">11</td><td style = \"text-align: left;\">AFRREO201904</td><td style = \"text-align: left;\">Sub-Saharan Africa Regional Economic Outlook (AFRREO) April 2019</td></tr><tr><td class = \"rowNumber\" style = \"font-weight: bold; text-align: right;\">12</td><td style = \"text-align: left;\">AFRREO201910</td><td style = \"text-align: left;\">Sub-Saharan Africa Regional Economic Outlook (AFRREO) October 2019</td></tr><tr><td class = \"rowNumber\" style = \"font-weight: bold; text-align: right;\">13</td><td style = \"text-align: left;\">AFRREO202004</td><td style = \"text-align: left;\">Sub-Saharan Africa Regional Economic Outlook (AFRREO) April 2020</td></tr><tr><td style = \"text-align: right;\">&vellip;</td><td style = \"text-align: right;\">&vellip;</td><td style = \"text-align: right;\">&vellip;</td></tr><tr><td class = \"rowNumber\" style = \"font-weight: bold; text-align: right;\">312</td><td style = \"text-align: left;\">WHDREO201504</td><td style = \"text-align: left;\">Western Hemisphere Regional Economic Outlook (WHDREO) April 2015</td></tr><tr><td class = \"rowNumber\" style = \"font-weight: bold; text-align: right;\">313</td><td style = \"text-align: left;\">WHDREO201510</td><td style = \"text-align: left;\">Western Hemisphere Regional Economic Outlook (WHDREO) October 2015</td></tr><tr><td class = \"rowNumber\" style = \"font-weight: bold; text-align: right;\">314</td><td style = \"text-align: left;\">WHDREO201604</td><td style = \"text-align: left;\">Western Hemisphere Regional Economic Outlook (WHDREO) April 2016</td></tr><tr><td class = \"rowNumber\" style = \"font-weight: bold; text-align: right;\">315</td><td style = \"text-align: left;\">WHDREO201610</td><td style = \"text-align: left;\">Western Hemisphere Regional Economic Outlook (WHDREO) October 2016</td></tr><tr><td class = \"rowNumber\" style = \"font-weight: bold; text-align: right;\">316</td><td style = \"text-align: left;\">WHDREO201704</td><td style = \"text-align: left;\">Western Hemisphere Regional Economic Outlook (WHDREO) April 2017</td></tr><tr><td class = \"rowNumber\" style = \"font-weight: bold; text-align: right;\">317</td><td style = \"text-align: left;\">WHDREO201710</td><td style = \"text-align: left;\">Western Hemisphere Regional Economic Outlook (WHDREO) October 2017</td></tr><tr><td class = \"rowNumber\" style = \"font-weight: bold; text-align: right;\">318</td><td style = \"text-align: left;\">WHDREO201804</td><td style = \"text-align: left;\">Western Hemisphere Regional Economic Outlook (WHDREO) April 2018</td></tr><tr><td class = \"rowNumber\" style = \"font-weight: bold; text-align: right;\">319</td><td style = \"text-align: left;\">WHDREO201810</td><td style = \"text-align: left;\">Western Hemisphere Regional Economic Outlook (WHDREO) October 2018</td></tr><tr><td class = \"rowNumber\" style = \"font-weight: bold; text-align: right;\">320</td><td style = \"text-align: left;\">WHDREO201904</td><td style = \"text-align: left;\">Western Hemisphere Regional Economic Outlook (WHDREO) April 2019</td></tr><tr><td class = \"rowNumber\" style = \"font-weight: bold; text-align: right;\">321</td><td style = \"text-align: left;\">WHDREO201910</td><td style = \"text-align: left;\">Western Hemisphere Regional Economic Outlook (WHDREO) October 2019</td></tr><tr><td class = \"rowNumber\" style = \"font-weight: bold; text-align: right;\">322</td><td style = \"text-align: left;\">WHDREO202010</td><td style = \"text-align: left;\">Western Hemisphere Regional Economic Outlook (WHDREO) October 2020</td></tr><tr><td class = \"rowNumber\" style = \"font-weight: bold; text-align: right;\">323</td><td style = \"text-align: left;\">WoRLD</td><td style = \"text-align: left;\">World Revenue Longitudinal Data (WoRLD)</td></tr></tbody></table></div>"
      ],
      "text/latex": [
       "\\begin{tabular}{r|cc}\n",
       "\t& dataset\\_id & dataset\\_name\\\\\n",
       "\t\\hline\n",
       "\t& String & String\\\\\n",
       "\t\\hline\n",
       "\t1 & AFRREO & Sub-Saharan Africa Regional Economic Outlook (AFRREO) \\\\\n",
       "\t2 & AFRREO201410 & Sub-Saharan Africa Regional Economic Outlook (AFRREO) October 2014 \\\\\n",
       "\t3 & AFRREO201504 & Sub-Saharan Africa Regional Economic Outlook (AFRREO) April 2015 \\\\\n",
       "\t4 & AFRREO201510 & Sub-Saharan Africa Regional Economic Outlook (AFRREO) October 2015 \\\\\n",
       "\t5 & AFRREO201604 & Sub-Saharan Africa Regional Economic Outlook (AFRREO) April 2016 \\\\\n",
       "\t6 & AFRREO201610 & Sub-Saharan Africa Regional Economic Outlook (AFRREO) October 2016 \\\\\n",
       "\t7 & AFRREO201704 & Sub-Saharan Africa Regional Economic Outlook (AFRREO) April 2017 \\\\\n",
       "\t8 & AFRREO201710 & Sub-Saharan Africa Regional Economic Outlook (AFRREO) October 2017 \\\\\n",
       "\t9 & AFRREO201804 & Sub-Saharan Africa Regional Economic Outlook (AFRREO) April 2018 \\\\\n",
       "\t10 & AFRREO201810 & Sub-Saharan Africa Regional Economic Outlook (AFRREO) October 2018 \\\\\n",
       "\t11 & AFRREO201904 & Sub-Saharan Africa Regional Economic Outlook (AFRREO) April 2019 \\\\\n",
       "\t12 & AFRREO201910 & Sub-Saharan Africa Regional Economic Outlook (AFRREO) October 2019 \\\\\n",
       "\t13 & AFRREO202004 & Sub-Saharan Africa Regional Economic Outlook (AFRREO) April 2020 \\\\\n",
       "\t14 & AFRREO202010 & Sub-Saharan Africa Regional Economic Outlook (AFRREO) October 2020 \\\\\n",
       "\t15 & APDREO & Asia and Pacific Regional Economic Outlook (APDREO) \\\\\n",
       "\t16 & APDREO201410 & Asia and Pacific Regional Economic Outlook (APDREO) October 2014 \\\\\n",
       "\t17 & APDREO201504 & Asia and Pacific Regional Economic Outlook (APDREO) April 2015 \\\\\n",
       "\t18 & APDREO201510 & Asia and Pacific Regional Economic Outlook (APDREO) October 2015 \\\\\n",
       "\t19 & APDREO201604 & Asia and Pacific Regional Economic Outlook (APDREO) April 2016 \\\\\n",
       "\t20 & APDREO201610 & Asia and Pacific Regional Economic Outlook (APDREO) October 2016 \\\\\n",
       "\t21 & APDREO201710 & Asia and Pacific Regional Economic Outlook (APDREO) October 2017 \\\\\n",
       "\t22 & APDREO2017M04 & Asia and Pacific Regional Economic Outlook (APDREO) April 2017 \\\\\n",
       "\t23 & APDREO201804 & Asia and Pacific Regional Economic Outlook (APDREO) April 2018 \\\\\n",
       "\t24 & APDREO201810 & Asia and Pacific Regional Economic Outlook (APDREO) October 2018 \\\\\n",
       "\t25 & APDREO201904 & Asia and Pacific Regional Economic Outlook (APDREO) April 2019 \\\\\n",
       "\t26 & APDREO201910 & Asia and Pacific Regional Economic Outlook (APDREO) October 2019 \\\\\n",
       "\t27 & APDREO202010 & Asia and Pacific Regional Economic Outlook (APDREO) October 2020 \\\\\n",
       "\t28 & BOP & Balance of Payments (BOP) \\\\\n",
       "\t29 & BOPAGG & Balance of Payments (BOP), World and Regional Aggregates \\\\\n",
       "\t30 & BOPAGG\\_2016 & Balance of Payments (BOP), World and Regional Aggregates, 2016 \\\\\n",
       "\t$\\dots$ & $\\dots$ & $\\dots$ \\\\\n",
       "\\end{tabular}\n"
      ],
      "text/plain": [
       "\u001b[1m323×2 DataFrame\u001b[0m\n",
       "\u001b[1m Row \u001b[0m│\u001b[1m dataset_id       \u001b[0m\u001b[1m dataset_name                      \u001b[0m\n",
       "     │\u001b[90m String           \u001b[0m\u001b[90m String                            \u001b[0m\n",
       "─────┼─────────────────────────────────────────────────────\n",
       "   1 │ AFRREO            Sub-Saharan Africa Regional Econ…\n",
       "   2 │ AFRREO201410      Sub-Saharan Africa Regional Econ…\n",
       "   3 │ AFRREO201504      Sub-Saharan Africa Regional Econ…\n",
       "   4 │ AFRREO201510      Sub-Saharan Africa Regional Econ…\n",
       "   5 │ AFRREO201604      Sub-Saharan Africa Regional Econ…\n",
       "   6 │ AFRREO201610      Sub-Saharan Africa Regional Econ…\n",
       "   7 │ AFRREO201704      Sub-Saharan Africa Regional Econ…\n",
       "   8 │ AFRREO201710      Sub-Saharan Africa Regional Econ…\n",
       "   9 │ AFRREO201804      Sub-Saharan Africa Regional Econ…\n",
       "  10 │ AFRREO201810      Sub-Saharan Africa Regional Econ…\n",
       "  11 │ AFRREO201904      Sub-Saharan Africa Regional Econ…\n",
       "  ⋮  │        ⋮                          ⋮\n",
       " 314 │ WHDREO201604      Western Hemisphere Regional Econ…\n",
       " 315 │ WHDREO201610      Western Hemisphere Regional Econ…\n",
       " 316 │ WHDREO201704      Western Hemisphere Regional Econ…\n",
       " 317 │ WHDREO201710      Western Hemisphere Regional Econ…\n",
       " 318 │ WHDREO201804      Western Hemisphere Regional Econ…\n",
       " 319 │ WHDREO201810      Western Hemisphere Regional Econ…\n",
       " 320 │ WHDREO201904      Western Hemisphere Regional Econ…\n",
       " 321 │ WHDREO201910      Western Hemisphere Regional Econ…\n",
       " 322 │ WHDREO202010      Western Hemisphere Regional Econ…\n",
       " 323 │ WoRLD             World Revenue Longitudinal Data …\n",
       "\u001b[36m                                           302 rows omitted\u001b[0m"
      ]
     },
     "execution_count": 49,
     "metadata": {},
     "output_type": "execute_result"
    }
   ],
   "source": [
    "datasets = IMFData.get_imf_datasets()"
   ]
  },
  {
   "cell_type": "code",
   "execution_count": 49,
   "id": "09021450",
   "metadata": {},
   "outputs": [
    {
     "data": {
      "text/html": [
       "<div><div style = \"float: left;\"><span>71×2 DataFrame</span></div><div style = \"float: right;\"><span style = \"font-style: italic;\">46 rows omitted</span></div><div style = \"clear: both;\"></div></div><div class = \"data-frame\" style = \"overflow-x: scroll;\"><table class = \"data-frame\" style = \"margin-bottom: 6px;\"><thead><tr class = \"header\"><th class = \"rowNumber\" style = \"font-weight: bold; text-align: right;\">Row</th><th style = \"text-align: left;\">dataset_id</th><th style = \"text-align: left;\">dataset_name</th></tr><tr class = \"subheader headerLastRow\"><th class = \"rowNumber\" style = \"font-weight: bold; text-align: right;\"></th><th title = \"String\" style = \"text-align: left;\">String</th><th title = \"String\" style = \"text-align: left;\">String</th></tr></thead><tbody><tr><td class = \"rowNumber\" style = \"font-weight: bold; text-align: right;\">1</td><td style = \"text-align: left;\">IFS</td><td style = \"text-align: left;\">International Financial Statistics (IFS)</td></tr><tr><td class = \"rowNumber\" style = \"font-weight: bold; text-align: right;\">2</td><td style = \"text-align: left;\">IFS_2017M08</td><td style = \"text-align: left;\">International Financial Statistics (IFS), 2017 M08</td></tr><tr><td class = \"rowNumber\" style = \"font-weight: bold; text-align: right;\">3</td><td style = \"text-align: left;\">IFS_2017M09</td><td style = \"text-align: left;\">International Financial Statistics (IFS), 2017 M09</td></tr><tr><td class = \"rowNumber\" style = \"font-weight: bold; text-align: right;\">4</td><td style = \"text-align: left;\">IFS_2017M10</td><td style = \"text-align: left;\">International Financial Statistics (IFS), 2017 M10</td></tr><tr><td class = \"rowNumber\" style = \"font-weight: bold; text-align: right;\">5</td><td style = \"text-align: left;\">IFS_2017M11</td><td style = \"text-align: left;\">International Financial Statistics (IFS), 2017 M11</td></tr><tr><td class = \"rowNumber\" style = \"font-weight: bold; text-align: right;\">6</td><td style = \"text-align: left;\">IFS_2017M12</td><td style = \"text-align: left;\">International Financial Statistics (IFS), 2017 M12</td></tr><tr><td class = \"rowNumber\" style = \"font-weight: bold; text-align: right;\">7</td><td style = \"text-align: left;\">IFS_2018M01</td><td style = \"text-align: left;\">International Financial Statistics (IFS), 2018 M01</td></tr><tr><td class = \"rowNumber\" style = \"font-weight: bold; text-align: right;\">8</td><td style = \"text-align: left;\">IFS_2018M02</td><td style = \"text-align: left;\">International Financial Statistics (IFS), 2018 M02</td></tr><tr><td class = \"rowNumber\" style = \"font-weight: bold; text-align: right;\">9</td><td style = \"text-align: left;\">IFS_2018M03</td><td style = \"text-align: left;\">International Financial Statistics (IFS), 2018 M03</td></tr><tr><td class = \"rowNumber\" style = \"font-weight: bold; text-align: right;\">10</td><td style = \"text-align: left;\">IFS_2018M04</td><td style = \"text-align: left;\">International Financial Statistics (IFS), 2018 M04</td></tr><tr><td class = \"rowNumber\" style = \"font-weight: bold; text-align: right;\">11</td><td style = \"text-align: left;\">IFS_2018M05</td><td style = \"text-align: left;\">International Financial Statistics (IFS), 2018 M05 </td></tr><tr><td class = \"rowNumber\" style = \"font-weight: bold; text-align: right;\">12</td><td style = \"text-align: left;\">IFS_2018M06</td><td style = \"text-align: left;\">International Financial Statistics (IFS), 2018 M06</td></tr><tr><td class = \"rowNumber\" style = \"font-weight: bold; text-align: right;\">13</td><td style = \"text-align: left;\">IFS_2018M07</td><td style = \"text-align: left;\">International Financial Statistics (IFS), 2018 M07</td></tr><tr><td style = \"text-align: right;\">&vellip;</td><td style = \"text-align: right;\">&vellip;</td><td style = \"text-align: right;\">&vellip;</td></tr><tr><td class = \"rowNumber\" style = \"font-weight: bold; text-align: right;\">60</td><td style = \"text-align: left;\">IFS_2022M06</td><td style = \"text-align: left;\">International Financial Statistics (IFS), 2022 M06</td></tr><tr><td class = \"rowNumber\" style = \"font-weight: bold; text-align: right;\">61</td><td style = \"text-align: left;\">IFS_2022M07</td><td style = \"text-align: left;\">International Financial Statistics (IFS), 2022 M07</td></tr><tr><td class = \"rowNumber\" style = \"font-weight: bold; text-align: right;\">62</td><td style = \"text-align: left;\">IFS_2022M08</td><td style = \"text-align: left;\">International Financial Statistics (IFS), 2022 M08</td></tr><tr><td class = \"rowNumber\" style = \"font-weight: bold; text-align: right;\">63</td><td style = \"text-align: left;\">IFS_2022M09</td><td style = \"text-align: left;\">International Financial Statistics (IFS), 2022 M09</td></tr><tr><td class = \"rowNumber\" style = \"font-weight: bold; text-align: right;\">64</td><td style = \"text-align: left;\">IFS_2022M10</td><td style = \"text-align: left;\">International Financial Statistics (IFS), 2022 M10</td></tr><tr><td class = \"rowNumber\" style = \"font-weight: bold; text-align: right;\">65</td><td style = \"text-align: left;\">IFS_2022M11</td><td style = \"text-align: left;\">International Financial Statistics (IFS), 2022 M11</td></tr><tr><td class = \"rowNumber\" style = \"font-weight: bold; text-align: right;\">66</td><td style = \"text-align: left;\">IFS_2023M01</td><td style = \"text-align: left;\">International Financial Statistics (IFS), 2023 M01</td></tr><tr><td class = \"rowNumber\" style = \"font-weight: bold; text-align: right;\">67</td><td style = \"text-align: left;\">IFS_2023M02</td><td style = \"text-align: left;\">International Financial Statistics (IFS), 2023 M02</td></tr><tr><td class = \"rowNumber\" style = \"font-weight: bold; text-align: right;\">68</td><td style = \"text-align: left;\">IFS_2023M03</td><td style = \"text-align: left;\">International Financial Statistics (IFS), 2023 M03</td></tr><tr><td class = \"rowNumber\" style = \"font-weight: bold; text-align: right;\">69</td><td style = \"text-align: left;\">IFS_2023M04</td><td style = \"text-align: left;\">International Financial Statistics (IFS), 2023 M04</td></tr><tr><td class = \"rowNumber\" style = \"font-weight: bold; text-align: right;\">70</td><td style = \"text-align: left;\">IFS_2023M05</td><td style = \"text-align: left;\">International Financial Statistics (IFS), 2023 M05</td></tr><tr><td class = \"rowNumber\" style = \"font-weight: bold; text-align: right;\">71</td><td style = \"text-align: left;\">IFS_DISCONTINUED</td><td style = \"text-align: left;\">International Financial Statistics (IFS), Discontinued Series</td></tr></tbody></table></div>"
      ],
      "text/latex": [
       "\\begin{tabular}{r|cc}\n",
       "\t& dataset\\_id & dataset\\_name\\\\\n",
       "\t\\hline\n",
       "\t& String & String\\\\\n",
       "\t\\hline\n",
       "\t1 & IFS & International Financial Statistics (IFS) \\\\\n",
       "\t2 & IFS\\_2017M08 & International Financial Statistics (IFS), 2017 M08 \\\\\n",
       "\t3 & IFS\\_2017M09 & International Financial Statistics (IFS), 2017 M09 \\\\\n",
       "\t4 & IFS\\_2017M10 & International Financial Statistics (IFS), 2017 M10 \\\\\n",
       "\t5 & IFS\\_2017M11 & International Financial Statistics (IFS), 2017 M11 \\\\\n",
       "\t6 & IFS\\_2017M12 & International Financial Statistics (IFS), 2017 M12 \\\\\n",
       "\t7 & IFS\\_2018M01 & International Financial Statistics (IFS), 2018 M01 \\\\\n",
       "\t8 & IFS\\_2018M02 & International Financial Statistics (IFS), 2018 M02 \\\\\n",
       "\t9 & IFS\\_2018M03 & International Financial Statistics (IFS), 2018 M03 \\\\\n",
       "\t10 & IFS\\_2018M04 & International Financial Statistics (IFS), 2018 M04 \\\\\n",
       "\t11 & IFS\\_2018M05 & International Financial Statistics (IFS), 2018 M05  \\\\\n",
       "\t12 & IFS\\_2018M06 & International Financial Statistics (IFS), 2018 M06 \\\\\n",
       "\t13 & IFS\\_2018M07 & International Financial Statistics (IFS), 2018 M07 \\\\\n",
       "\t14 & IFS\\_2018M08 & International Financial Statistics (IFS), 2018 M08 \\\\\n",
       "\t15 & IFS\\_2018M09 & International Financial Statistics (IFS), 2018 M09 \\\\\n",
       "\t16 & IFS\\_2018M10 & International Financial Statistics (IFS), 2018 M10 \\\\\n",
       "\t17 & IFS\\_2018M11 & International Financial Statistics (IFS), 2018 M11 \\\\\n",
       "\t18 & IFS\\_2018M12 & International Financial Statistics (IFS), 2018 M12 \\\\\n",
       "\t19 & IFS\\_2019M01 & International Financial Statistics (IFS), 2019 M01 \\\\\n",
       "\t20 & IFS\\_2019M02 & International Financial Statistics (IFS), 2019 M02 \\\\\n",
       "\t21 & IFS\\_2019M03 & International Financial Statistics (IFS), 2019 M03 \\\\\n",
       "\t22 & IFS\\_2019M04 & International Financial Statistics (IFS), 2019 M04 \\\\\n",
       "\t23 & IFS\\_2019M05 & International Financial Statistics (IFS), 2019 M05 \\\\\n",
       "\t24 & IFS\\_2019M06 & International Financial Statistics (IFS), 2019 M06 \\\\\n",
       "\t25 & IFS\\_2019M07 & International Financial Statistics (IFS), 2019 M07 \\\\\n",
       "\t26 & IFS\\_2019M08 & International Financial Statistics (IFS), 2019 M08 \\\\\n",
       "\t27 & IFS\\_2019M09 & International Financial Statistics (IFS), 2019 M09 \\\\\n",
       "\t28 & IFS\\_2019M10 & International Financial Statistics (IFS), 2019 M10 \\\\\n",
       "\t29 & IFS\\_2019M11 & International Financial Statistics (IFS), 2019 M11 \\\\\n",
       "\t30 & IFS\\_2019M12 & International Financial Statistics (IFS), 2019 M12 \\\\\n",
       "\t$\\dots$ & $\\dots$ & $\\dots$ \\\\\n",
       "\\end{tabular}\n"
      ],
      "text/plain": [
       "\u001b[1m71×2 DataFrame\u001b[0m\n",
       "\u001b[1m Row \u001b[0m│\u001b[1m dataset_id       \u001b[0m\u001b[1m dataset_name                      \u001b[0m\n",
       "     │\u001b[90m String           \u001b[0m\u001b[90m String                            \u001b[0m\n",
       "─────┼─────────────────────────────────────────────────────\n",
       "   1 │ IFS               International Financial Statisti…\n",
       "   2 │ IFS_2017M08       International Financial Statisti…\n",
       "   3 │ IFS_2017M09       International Financial Statisti…\n",
       "   4 │ IFS_2017M10       International Financial Statisti…\n",
       "   5 │ IFS_2017M11       International Financial Statisti…\n",
       "   6 │ IFS_2017M12       International Financial Statisti…\n",
       "   7 │ IFS_2018M01       International Financial Statisti…\n",
       "   8 │ IFS_2018M02       International Financial Statisti…\n",
       "   9 │ IFS_2018M03       International Financial Statisti…\n",
       "  10 │ IFS_2018M04       International Financial Statisti…\n",
       "  11 │ IFS_2018M05       International Financial Statisti…\n",
       "  ⋮  │        ⋮                          ⋮\n",
       "  62 │ IFS_2022M08       International Financial Statisti…\n",
       "  63 │ IFS_2022M09       International Financial Statisti…\n",
       "  64 │ IFS_2022M10       International Financial Statisti…\n",
       "  65 │ IFS_2022M11       International Financial Statisti…\n",
       "  66 │ IFS_2023M01       International Financial Statisti…\n",
       "  67 │ IFS_2023M02       International Financial Statisti…\n",
       "  68 │ IFS_2023M03       International Financial Statisti…\n",
       "  69 │ IFS_2023M04       International Financial Statisti…\n",
       "  70 │ IFS_2023M05       International Financial Statisti…\n",
       "  71 │ IFS_DISCONTINUED  International Financial Statisti…\n",
       "\u001b[36m                                            50 rows omitted\u001b[0m"
      ]
     },
     "execution_count": 50,
     "metadata": {},
     "output_type": "execute_result"
    }
   ],
   "source": [
    "# Use @where macro from DataFramesMeta to filter based on dataset name\n",
    "ds_ifs = DataFramesMeta.@subset(datasets, DataFrames.occursin.(\"IFS\", :dataset_id))"
   ]
  },
  {
   "cell_type": "code",
   "execution_count": 50,
   "id": "97eb9456",
   "metadata": {},
   "outputs": [
    {
     "data": {
      "text/html": [
       "<div><div style = \"float: left;\"><span>26×2 DataFrame</span></div><div style = \"clear: both;\"></div></div><div class = \"data-frame\" style = \"overflow-x: scroll;\"><table class = \"data-frame\" style = \"margin-bottom: 6px;\"><thead><tr class = \"header\"><th class = \"rowNumber\" style = \"font-weight: bold; text-align: right;\">Row</th><th style = \"text-align: left;\">dataset_id</th><th style = \"text-align: left;\">dataset_name</th></tr><tr class = \"subheader headerLastRow\"><th class = \"rowNumber\" style = \"font-weight: bold; text-align: right;\"></th><th title = \"String\" style = \"text-align: left;\">String</th><th title = \"String\" style = \"text-align: left;\">String</th></tr></thead><tbody><tr><td class = \"rowNumber\" style = \"font-weight: bold; text-align: right;\">1</td><td style = \"text-align: left;\">DOT</td><td style = \"text-align: left;\">Direction of Trade Statistics (DOTS)</td></tr><tr><td class = \"rowNumber\" style = \"font-weight: bold; text-align: right;\">2</td><td style = \"text-align: left;\">DOT_2017Q1</td><td style = \"text-align: left;\">Direction of Trade Statistics (DOTS), 2017 Q1</td></tr><tr><td class = \"rowNumber\" style = \"font-weight: bold; text-align: right;\">3</td><td style = \"text-align: left;\">DOT_2017Q2</td><td style = \"text-align: left;\">Direction of Trade Statistics (DOTS), 2017 Q2</td></tr><tr><td class = \"rowNumber\" style = \"font-weight: bold; text-align: right;\">4</td><td style = \"text-align: left;\">DOT_2017Q3</td><td style = \"text-align: left;\">Direction of Trade Statistics (DOTS), 2017 Q3</td></tr><tr><td class = \"rowNumber\" style = \"font-weight: bold; text-align: right;\">5</td><td style = \"text-align: left;\">DOT_2017Q4</td><td style = \"text-align: left;\">Direction of Trade Statistics (DOTS), 2017 Q4</td></tr><tr><td class = \"rowNumber\" style = \"font-weight: bold; text-align: right;\">6</td><td style = \"text-align: left;\">DOT_2018Q1</td><td style = \"text-align: left;\">Direction of Trade Statistics (DOTS), 2018 Q1</td></tr><tr><td class = \"rowNumber\" style = \"font-weight: bold; text-align: right;\">7</td><td style = \"text-align: left;\">DOT_2018Q2</td><td style = \"text-align: left;\">Direction of Trade Statistics (DOTS), 2018 Q2</td></tr><tr><td class = \"rowNumber\" style = \"font-weight: bold; text-align: right;\">8</td><td style = \"text-align: left;\">DOT_2018Q3</td><td style = \"text-align: left;\">Direction of Trade Statistics (DOTS), 2018 Q3</td></tr><tr><td class = \"rowNumber\" style = \"font-weight: bold; text-align: right;\">9</td><td style = \"text-align: left;\">DOT_2018Q4</td><td style = \"text-align: left;\">Direction of Trade Statistics (DOTS), 2018 Q4</td></tr><tr><td class = \"rowNumber\" style = \"font-weight: bold; text-align: right;\">10</td><td style = \"text-align: left;\">DOT_2019Q1</td><td style = \"text-align: left;\">Direction of Trade Statistics (DOTS), 2019 Q1</td></tr><tr><td class = \"rowNumber\" style = \"font-weight: bold; text-align: right;\">11</td><td style = \"text-align: left;\">DOT_2019Q2</td><td style = \"text-align: left;\">Direction of Trade Statistics (DOTS), 2019 Q2</td></tr><tr><td class = \"rowNumber\" style = \"font-weight: bold; text-align: right;\">12</td><td style = \"text-align: left;\">DOT_2019Q3</td><td style = \"text-align: left;\">Direction of Trade Statistics (DOTS), 2019 Q3</td></tr><tr><td class = \"rowNumber\" style = \"font-weight: bold; text-align: right;\">13</td><td style = \"text-align: left;\">DOT_2019Q4</td><td style = \"text-align: left;\">Direction of Trade Statistics (DOTS), 2019 Q4</td></tr><tr><td class = \"rowNumber\" style = \"font-weight: bold; text-align: right;\">14</td><td style = \"text-align: left;\">DOT_2020Q1</td><td style = \"text-align: left;\">Direction of Trade Statistics (DOTS), 2020 Q1</td></tr><tr><td class = \"rowNumber\" style = \"font-weight: bold; text-align: right;\">15</td><td style = \"text-align: left;\">DOT_2020Q2</td><td style = \"text-align: left;\">Direction of Trade Statistics (DOTS), 2020 Q2</td></tr><tr><td class = \"rowNumber\" style = \"font-weight: bold; text-align: right;\">16</td><td style = \"text-align: left;\">DOT_2020Q3</td><td style = \"text-align: left;\">Direction of Trade Statistics (DOTS), 2020 Q3</td></tr><tr><td class = \"rowNumber\" style = \"font-weight: bold; text-align: right;\">17</td><td style = \"text-align: left;\">DOT_2020Q4</td><td style = \"text-align: left;\">Direction of Trade Statistics (DOTS), 2020 Q4</td></tr><tr><td class = \"rowNumber\" style = \"font-weight: bold; text-align: right;\">18</td><td style = \"text-align: left;\">DOT_2021Q1</td><td style = \"text-align: left;\">Direction of Trade Statistics (DOTS), 2021 Q1</td></tr><tr><td class = \"rowNumber\" style = \"font-weight: bold; text-align: right;\">19</td><td style = \"text-align: left;\">DOT_2021Q2</td><td style = \"text-align: left;\">Direction of Trade Statistics (DOTS), 2021 Q2</td></tr><tr><td class = \"rowNumber\" style = \"font-weight: bold; text-align: right;\">20</td><td style = \"text-align: left;\">DOT_2021Q3</td><td style = \"text-align: left;\">Direction of Trade Statistics (DOTS), 2021 Q3</td></tr><tr><td class = \"rowNumber\" style = \"font-weight: bold; text-align: right;\">21</td><td style = \"text-align: left;\">DOT_2021Q4</td><td style = \"text-align: left;\">Direction of Trade Statistics (DOTS), 2021 Q4</td></tr><tr><td class = \"rowNumber\" style = \"font-weight: bold; text-align: right;\">22</td><td style = \"text-align: left;\">DOT_2022Q1</td><td style = \"text-align: left;\">Direction of Trade Statistics (DOTS), 2022 Q1</td></tr><tr><td class = \"rowNumber\" style = \"font-weight: bold; text-align: right;\">23</td><td style = \"text-align: left;\">DOT_2022Q2</td><td style = \"text-align: left;\">Direction of Trade Statistics (DOTS), 2022 Q2</td></tr><tr><td class = \"rowNumber\" style = \"font-weight: bold; text-align: right;\">24</td><td style = \"text-align: left;\">DOT_2022Q3</td><td style = \"text-align: left;\">Direction of Trade Statistics (DOTS), 2022 Q3</td></tr><tr><td class = \"rowNumber\" style = \"font-weight: bold; text-align: right;\">25</td><td style = \"text-align: left;\">DOT_2022Q4</td><td style = \"text-align: left;\">Direction of Trade Statistics (DOTS), 2022 Q4</td></tr><tr><td class = \"rowNumber\" style = \"font-weight: bold; text-align: right;\">26</td><td style = \"text-align: left;\">DOT_2023Q1</td><td style = \"text-align: left;\">Direction of Trade Statistics (DOTS), 2023 Q1</td></tr></tbody></table></div>"
      ],
      "text/latex": [
       "\\begin{tabular}{r|cc}\n",
       "\t& dataset\\_id & dataset\\_name\\\\\n",
       "\t\\hline\n",
       "\t& String & String\\\\\n",
       "\t\\hline\n",
       "\t1 & DOT & Direction of Trade Statistics (DOTS) \\\\\n",
       "\t2 & DOT\\_2017Q1 & Direction of Trade Statistics (DOTS), 2017 Q1 \\\\\n",
       "\t3 & DOT\\_2017Q2 & Direction of Trade Statistics (DOTS), 2017 Q2 \\\\\n",
       "\t4 & DOT\\_2017Q3 & Direction of Trade Statistics (DOTS), 2017 Q3 \\\\\n",
       "\t5 & DOT\\_2017Q4 & Direction of Trade Statistics (DOTS), 2017 Q4 \\\\\n",
       "\t6 & DOT\\_2018Q1 & Direction of Trade Statistics (DOTS), 2018 Q1 \\\\\n",
       "\t7 & DOT\\_2018Q2 & Direction of Trade Statistics (DOTS), 2018 Q2 \\\\\n",
       "\t8 & DOT\\_2018Q3 & Direction of Trade Statistics (DOTS), 2018 Q3 \\\\\n",
       "\t9 & DOT\\_2018Q4 & Direction of Trade Statistics (DOTS), 2018 Q4 \\\\\n",
       "\t10 & DOT\\_2019Q1 & Direction of Trade Statistics (DOTS), 2019 Q1 \\\\\n",
       "\t11 & DOT\\_2019Q2 & Direction of Trade Statistics (DOTS), 2019 Q2 \\\\\n",
       "\t12 & DOT\\_2019Q3 & Direction of Trade Statistics (DOTS), 2019 Q3 \\\\\n",
       "\t13 & DOT\\_2019Q4 & Direction of Trade Statistics (DOTS), 2019 Q4 \\\\\n",
       "\t14 & DOT\\_2020Q1 & Direction of Trade Statistics (DOTS), 2020 Q1 \\\\\n",
       "\t15 & DOT\\_2020Q2 & Direction of Trade Statistics (DOTS), 2020 Q2 \\\\\n",
       "\t16 & DOT\\_2020Q3 & Direction of Trade Statistics (DOTS), 2020 Q3 \\\\\n",
       "\t17 & DOT\\_2020Q4 & Direction of Trade Statistics (DOTS), 2020 Q4 \\\\\n",
       "\t18 & DOT\\_2021Q1 & Direction of Trade Statistics (DOTS), 2021 Q1 \\\\\n",
       "\t19 & DOT\\_2021Q2 & Direction of Trade Statistics (DOTS), 2021 Q2 \\\\\n",
       "\t20 & DOT\\_2021Q3 & Direction of Trade Statistics (DOTS), 2021 Q3 \\\\\n",
       "\t21 & DOT\\_2021Q4 & Direction of Trade Statistics (DOTS), 2021 Q4 \\\\\n",
       "\t22 & DOT\\_2022Q1 & Direction of Trade Statistics (DOTS), 2022 Q1 \\\\\n",
       "\t23 & DOT\\_2022Q2 & Direction of Trade Statistics (DOTS), 2022 Q2 \\\\\n",
       "\t24 & DOT\\_2022Q3 & Direction of Trade Statistics (DOTS), 2022 Q3 \\\\\n",
       "\t25 & DOT\\_2022Q4 & Direction of Trade Statistics (DOTS), 2022 Q4 \\\\\n",
       "\t26 & DOT\\_2023Q1 & Direction of Trade Statistics (DOTS), 2023 Q1 \\\\\n",
       "\\end{tabular}\n"
      ],
      "text/plain": [
       "\u001b[1m26×2 DataFrame\u001b[0m\n",
       "\u001b[1m Row \u001b[0m│\u001b[1m dataset_id \u001b[0m\u001b[1m dataset_name                      \u001b[0m\n",
       "     │\u001b[90m String     \u001b[0m\u001b[90m String                            \u001b[0m\n",
       "─────┼───────────────────────────────────────────────\n",
       "   1 │ DOT         Direction of Trade Statistics (D…\n",
       "   2 │ DOT_2017Q1  Direction of Trade Statistics (D…\n",
       "   3 │ DOT_2017Q2  Direction of Trade Statistics (D…\n",
       "   4 │ DOT_2017Q3  Direction of Trade Statistics (D…\n",
       "   5 │ DOT_2017Q4  Direction of Trade Statistics (D…\n",
       "   6 │ DOT_2018Q1  Direction of Trade Statistics (D…\n",
       "   7 │ DOT_2018Q2  Direction of Trade Statistics (D…\n",
       "   8 │ DOT_2018Q3  Direction of Trade Statistics (D…\n",
       "   9 │ DOT_2018Q4  Direction of Trade Statistics (D…\n",
       "  10 │ DOT_2019Q1  Direction of Trade Statistics (D…\n",
       "  11 │ DOT_2019Q2  Direction of Trade Statistics (D…\n",
       "  ⋮  │     ⋮                       ⋮\n",
       "  17 │ DOT_2020Q4  Direction of Trade Statistics (D…\n",
       "  18 │ DOT_2021Q1  Direction of Trade Statistics (D…\n",
       "  19 │ DOT_2021Q2  Direction of Trade Statistics (D…\n",
       "  20 │ DOT_2021Q3  Direction of Trade Statistics (D…\n",
       "  21 │ DOT_2021Q4  Direction of Trade Statistics (D…\n",
       "  22 │ DOT_2022Q1  Direction of Trade Statistics (D…\n",
       "  23 │ DOT_2022Q2  Direction of Trade Statistics (D…\n",
       "  24 │ DOT_2022Q3  Direction of Trade Statistics (D…\n",
       "  25 │ DOT_2022Q4  Direction of Trade Statistics (D…\n",
       "  26 │ DOT_2023Q1  Direction of Trade Statistics (D…\n",
       "\u001b[36m                                       5 rows omitted\u001b[0m"
      ]
     },
     "execution_count": 51,
     "metadata": {},
     "output_type": "execute_result"
    }
   ],
   "source": [
    "ds_dot = DataFramesMeta.@subset(datasets, DataFrames.occursin.(\"DOT\", :dataset_id))"
   ]
  },
  {
   "cell_type": "code",
   "execution_count": 51,
   "id": "9664cc8f",
   "metadata": {},
   "outputs": [
    {
     "data": {
      "text/plain": [
       "Dict{String, Any} with 2 entries:\n",
       "  \"Parameter Names\"  => \u001b[1m5×2 DataFrame\u001b[0m\u001b[0m…\n",
       "  \"Parameter Values\" => Dict{Any, Any}(\"CL_INDICATOR_IFS\"=>\u001b[1m1681×2 DataFrame\u001b[0m\u001b[0m…"
      ]
     },
     "execution_count": 52,
     "metadata": {},
     "output_type": "execute_result"
    }
   ],
   "source": [
    "ifs_structure  = IMFData.get_imf_datastructure(\"IFS\")"
   ]
  },
  {
   "cell_type": "markdown",
   "id": "c9d60c59",
   "metadata": {},
   "source": [
    "## Search for GDP indicators\n"
   ]
  },
  {
   "cell_type": "code",
   "execution_count": 52,
   "id": "4a6c580c",
   "metadata": {},
   "outputs": [
    {
     "data": {
      "text/plain": [
       "\"C:\\\\Directorio_Trabajo\\\\GitHub\\\\IMFData_Examples-main/ifs_gdp_indicators.csv\""
      ]
     },
     "execution_count": 53,
     "metadata": {},
     "output_type": "execute_result"
    }
   ],
   "source": [
    "ifs_indicators = ifs_structure[\"Parameter Values\"][\"CL_INDICATOR_IFS\"]\n",
    "gdp_indicators = DataFramesMeta.@subset(\n",
    "    ifs_indicators,\n",
    "    DataFrames.occursin.(\"Gross Domestic Product\", :description),\n",
    "    DataFrames.occursin.(\"Domestic Currency\", :description))\n",
    "CSV.write(wd * \"/ifs_gdp_indicators.csv\", gdp_indicators; delim='\\t')"
   ]
  },
  {
   "cell_type": "markdown",
   "id": "a50c4ddc",
   "metadata": {},
   "source": [
    "## Availability of Data\n"
   ]
  },
  {
   "cell_type": "code",
   "execution_count": 53,
   "id": "2ddfc2df",
   "metadata": {},
   "outputs": [
    {
     "data": {
      "text/plain": [
       "IMF Data Series\n",
       "Database: IFS\n",
       "Area: US\n",
       "Indicator: NGDP_SA_XDC\n",
       "Description: \n",
       "Frequency: Q\n",
       "Time Period: 1950 to 2023\n",
       "Data: 296 x 2 DataFrame\n"
      ]
     },
     "execution_count": 54,
     "metadata": {},
     "output_type": "execute_result"
    }
   ],
   "source": [
    "indic = \"NGDP_SA_XDC\"\n",
    "area  = \"US\"\n",
    "data_available = IMFData.get_ifs_data(area, indic, \"Q\", 1900, 2100)"
   ]
  },
  {
   "cell_type": "code",
   "execution_count": 54,
   "id": "2bfb5a59",
   "metadata": {},
   "outputs": [
    {
     "data": {
      "text/plain": [
       "IMF Data Series\n",
       "Database: IFS\n",
       "Area: US\n",
       "Indicator: NGDP_SA_XDC\n",
       "Time Period: 1900 to 2100\n",
       "Note: Indicator not defined for the given area or time period\n"
      ]
     },
     "execution_count": 55,
     "metadata": {},
     "output_type": "execute_result"
    }
   ],
   "source": [
    "data_not_available = get_ifs_data(area, indic, \"M\", 1900, 2100)"
   ]
  },
  {
   "cell_type": "code",
   "execution_count": 55,
   "id": "6dc6e3d3",
   "metadata": {},
   "outputs": [
    {
     "data": {
      "text/plain": [
       "IMF Data Series\n",
       "Database: IFS\n",
       "Area: US\n",
       "Indicator: NGDP_SA\n",
       "Time Period: 1900 to 2100\n",
       "Note: Indicator not defined for the given area or time period\n"
      ]
     },
     "execution_count": 56,
     "metadata": {},
     "output_type": "execute_result"
    }
   ],
   "source": [
    "data_not_defined = get_ifs_data(area, \"NGDP_SA\", \"Q\", 1900, 2100)"
   ]
  },
  {
   "cell_type": "code",
   "execution_count": 56,
   "id": "6dfc6607",
   "metadata": {},
   "outputs": [
    {
     "data": {
      "text/html": [
       "<div><div style = \"float: left;\"><span>360×5 DataFrame</span></div><div style = \"float: right;\"><span style = \"font-style: italic;\">335 rows omitted</span></div><div style = \"clear: both;\"></div></div><div class = \"data-frame\" style = \"overflow-x: scroll;\"><table class = \"data-frame\" style = \"margin-bottom: 6px;\"><thead><tr class = \"header\"><th class = \"rowNumber\" style = \"font-weight: bold; text-align: right;\">Row</th><th style = \"text-align: left;\">date</th><th style = \"text-align: left;\">value</th><th style = \"text-align: left;\">country</th><th style = \"text-align: left;\">indicator</th><th style = \"text-align: left;\">frequency</th></tr><tr class = \"subheader headerLastRow\"><th class = \"rowNumber\" style = \"font-weight: bold; text-align: right;\"></th><th title = \"Dates.Date\" style = \"text-align: left;\">Date</th><th title = \"Float64\" style = \"text-align: left;\">Float64</th><th title = \"String\" style = \"text-align: left;\">String</th><th title = \"String\" style = \"text-align: left;\">String</th><th title = \"String\" style = \"text-align: left;\">String</th></tr></thead><tbody><tr><td class = \"rowNumber\" style = \"font-weight: bold; text-align: right;\">1</td><td style = \"text-align: left;\">2000-03-01</td><td style = \"text-align: right;\">26020.6</td><td style = \"text-align: left;\">HN</td><td style = \"text-align: left;\">NGDP_SA_XDC</td><td style = \"text-align: left;\">Q</td></tr><tr><td class = \"rowNumber\" style = \"font-weight: bold; text-align: right;\">2</td><td style = \"text-align: left;\">2000-06-01</td><td style = \"text-align: right;\">26554.2</td><td style = \"text-align: left;\">HN</td><td style = \"text-align: left;\">NGDP_SA_XDC</td><td style = \"text-align: left;\">Q</td></tr><tr><td class = \"rowNumber\" style = \"font-weight: bold; text-align: right;\">3</td><td style = \"text-align: left;\">2000-09-01</td><td style = \"text-align: right;\">26849.0</td><td style = \"text-align: left;\">HN</td><td style = \"text-align: left;\">NGDP_SA_XDC</td><td style = \"text-align: left;\">Q</td></tr><tr><td class = \"rowNumber\" style = \"font-weight: bold; text-align: right;\">4</td><td style = \"text-align: left;\">2000-12-01</td><td style = \"text-align: right;\">27230.4</td><td style = \"text-align: left;\">HN</td><td style = \"text-align: left;\">NGDP_SA_XDC</td><td style = \"text-align: left;\">Q</td></tr><tr><td class = \"rowNumber\" style = \"font-weight: bold; text-align: right;\">5</td><td style = \"text-align: left;\">2001-03-01</td><td style = \"text-align: right;\">28443.4</td><td style = \"text-align: left;\">HN</td><td style = \"text-align: left;\">NGDP_SA_XDC</td><td style = \"text-align: left;\">Q</td></tr><tr><td class = \"rowNumber\" style = \"font-weight: bold; text-align: right;\">6</td><td style = \"text-align: left;\">2001-06-01</td><td style = \"text-align: right;\">29389.0</td><td style = \"text-align: left;\">HN</td><td style = \"text-align: left;\">NGDP_SA_XDC</td><td style = \"text-align: left;\">Q</td></tr><tr><td class = \"rowNumber\" style = \"font-weight: bold; text-align: right;\">7</td><td style = \"text-align: left;\">2001-09-01</td><td style = \"text-align: right;\">29764.7</td><td style = \"text-align: left;\">HN</td><td style = \"text-align: left;\">NGDP_SA_XDC</td><td style = \"text-align: left;\">Q</td></tr><tr><td class = \"rowNumber\" style = \"font-weight: bold; text-align: right;\">8</td><td style = \"text-align: left;\">2001-12-01</td><td style = \"text-align: right;\">30818.6</td><td style = \"text-align: left;\">HN</td><td style = \"text-align: left;\">NGDP_SA_XDC</td><td style = \"text-align: left;\">Q</td></tr><tr><td class = \"rowNumber\" style = \"font-weight: bold; text-align: right;\">9</td><td style = \"text-align: left;\">2002-03-01</td><td style = \"text-align: right;\">30581.7</td><td style = \"text-align: left;\">HN</td><td style = \"text-align: left;\">NGDP_SA_XDC</td><td style = \"text-align: left;\">Q</td></tr><tr><td class = \"rowNumber\" style = \"font-weight: bold; text-align: right;\">10</td><td style = \"text-align: left;\">2002-06-01</td><td style = \"text-align: right;\">31986.7</td><td style = \"text-align: left;\">HN</td><td style = \"text-align: left;\">NGDP_SA_XDC</td><td style = \"text-align: left;\">Q</td></tr><tr><td class = \"rowNumber\" style = \"font-weight: bold; text-align: right;\">11</td><td style = \"text-align: left;\">2002-09-01</td><td style = \"text-align: right;\">33275.7</td><td style = \"text-align: left;\">HN</td><td style = \"text-align: left;\">NGDP_SA_XDC</td><td style = \"text-align: left;\">Q</td></tr><tr><td class = \"rowNumber\" style = \"font-weight: bold; text-align: right;\">12</td><td style = \"text-align: left;\">2002-12-01</td><td style = \"text-align: right;\">33322.5</td><td style = \"text-align: left;\">HN</td><td style = \"text-align: left;\">NGDP_SA_XDC</td><td style = \"text-align: left;\">Q</td></tr><tr><td class = \"rowNumber\" style = \"font-weight: bold; text-align: right;\">13</td><td style = \"text-align: left;\">2003-03-01</td><td style = \"text-align: right;\">33797.1</td><td style = \"text-align: left;\">HN</td><td style = \"text-align: left;\">NGDP_SA_XDC</td><td style = \"text-align: left;\">Q</td></tr><tr><td style = \"text-align: right;\">&vellip;</td><td style = \"text-align: right;\">&vellip;</td><td style = \"text-align: right;\">&vellip;</td><td style = \"text-align: right;\">&vellip;</td><td style = \"text-align: right;\">&vellip;</td><td style = \"text-align: right;\">&vellip;</td></tr><tr><td class = \"rowNumber\" style = \"font-weight: bold; text-align: right;\">349</td><td style = \"text-align: left;\">2021-03-01</td><td style = \"text-align: right;\">1.6777e6</td><td style = \"text-align: left;\">CR</td><td style = \"text-align: left;\">NI_SA_XDC</td><td style = \"text-align: left;\">Q</td></tr><tr><td class = \"rowNumber\" style = \"font-weight: bold; text-align: right;\">350</td><td style = \"text-align: left;\">2021-06-01</td><td style = \"text-align: right;\">1.89573e6</td><td style = \"text-align: left;\">CR</td><td style = \"text-align: left;\">NI_SA_XDC</td><td style = \"text-align: left;\">Q</td></tr><tr><td class = \"rowNumber\" style = \"font-weight: bold; text-align: right;\">351</td><td style = \"text-align: left;\">2021-09-01</td><td style = \"text-align: right;\">1.81866e6</td><td style = \"text-align: left;\">CR</td><td style = \"text-align: left;\">NI_SA_XDC</td><td style = \"text-align: left;\">Q</td></tr><tr><td class = \"rowNumber\" style = \"font-weight: bold; text-align: right;\">352</td><td style = \"text-align: left;\">2021-12-01</td><td style = \"text-align: right;\">2.06711e6</td><td style = \"text-align: left;\">CR</td><td style = \"text-align: left;\">NI_SA_XDC</td><td style = \"text-align: left;\">Q</td></tr><tr><td class = \"rowNumber\" style = \"font-weight: bold; text-align: right;\">353</td><td style = \"text-align: left;\">2022-03-01</td><td style = \"text-align: right;\">2.21539e6</td><td style = \"text-align: left;\">CR</td><td style = \"text-align: left;\">NI_SA_XDC</td><td style = \"text-align: left;\">Q</td></tr><tr><td class = \"rowNumber\" style = \"font-weight: bold; text-align: right;\">354</td><td style = \"text-align: left;\">2022-06-01</td><td style = \"text-align: right;\">2.05398e6</td><td style = \"text-align: left;\">CR</td><td style = \"text-align: left;\">NI_SA_XDC</td><td style = \"text-align: left;\">Q</td></tr><tr><td class = \"rowNumber\" style = \"font-weight: bold; text-align: right;\">355</td><td style = \"text-align: left;\">2022-09-01</td><td style = \"text-align: right;\">1.98303e6</td><td style = \"text-align: left;\">CR</td><td style = \"text-align: left;\">NI_SA_XDC</td><td style = \"text-align: left;\">Q</td></tr><tr><td class = \"rowNumber\" style = \"font-weight: bold; text-align: right;\">356</td><td style = \"text-align: left;\">2022-12-01</td><td style = \"text-align: right;\">1.95787e6</td><td style = \"text-align: left;\">CR</td><td style = \"text-align: left;\">NI_SA_XDC</td><td style = \"text-align: left;\">Q</td></tr><tr><td class = \"rowNumber\" style = \"font-weight: bold; text-align: right;\">357</td><td style = \"text-align: left;\">2023-03-01</td><td style = \"text-align: right;\">1.80872e6</td><td style = \"text-align: left;\">CR</td><td style = \"text-align: left;\">NI_SA_XDC</td><td style = \"text-align: left;\">Q</td></tr><tr><td class = \"rowNumber\" style = \"font-weight: bold; text-align: right;\">358</td><td style = \"text-align: left;\">2023-06-01</td><td style = \"text-align: right;\">1.68433e6</td><td style = \"text-align: left;\">CR</td><td style = \"text-align: left;\">NI_SA_XDC</td><td style = \"text-align: left;\">Q</td></tr><tr><td class = \"rowNumber\" style = \"font-weight: bold; text-align: right;\">359</td><td style = \"text-align: left;\">2023-09-01</td><td style = \"text-align: right;\">1.8563e6</td><td style = \"text-align: left;\">CR</td><td style = \"text-align: left;\">NI_SA_XDC</td><td style = \"text-align: left;\">Q</td></tr><tr><td class = \"rowNumber\" style = \"font-weight: bold; text-align: right;\">360</td><td style = \"text-align: left;\">2023-12-01</td><td style = \"text-align: right;\">1.85152e6</td><td style = \"text-align: left;\">CR</td><td style = \"text-align: left;\">NI_SA_XDC</td><td style = \"text-align: left;\">Q</td></tr></tbody></table></div>"
      ],
      "text/latex": [
       "\\begin{tabular}{r|ccccc}\n",
       "\t& date & value & country & indicator & frequency\\\\\n",
       "\t\\hline\n",
       "\t& Date & Float64 & String & String & String\\\\\n",
       "\t\\hline\n",
       "\t1 & 2000-03-01 & 26020.6 & HN & NGDP\\_SA\\_XDC & Q \\\\\n",
       "\t2 & 2000-06-01 & 26554.2 & HN & NGDP\\_SA\\_XDC & Q \\\\\n",
       "\t3 & 2000-09-01 & 26849.0 & HN & NGDP\\_SA\\_XDC & Q \\\\\n",
       "\t4 & 2000-12-01 & 27230.4 & HN & NGDP\\_SA\\_XDC & Q \\\\\n",
       "\t5 & 2001-03-01 & 28443.4 & HN & NGDP\\_SA\\_XDC & Q \\\\\n",
       "\t6 & 2001-06-01 & 29389.0 & HN & NGDP\\_SA\\_XDC & Q \\\\\n",
       "\t7 & 2001-09-01 & 29764.7 & HN & NGDP\\_SA\\_XDC & Q \\\\\n",
       "\t8 & 2001-12-01 & 30818.6 & HN & NGDP\\_SA\\_XDC & Q \\\\\n",
       "\t9 & 2002-03-01 & 30581.7 & HN & NGDP\\_SA\\_XDC & Q \\\\\n",
       "\t10 & 2002-06-01 & 31986.7 & HN & NGDP\\_SA\\_XDC & Q \\\\\n",
       "\t11 & 2002-09-01 & 33275.7 & HN & NGDP\\_SA\\_XDC & Q \\\\\n",
       "\t12 & 2002-12-01 & 33322.5 & HN & NGDP\\_SA\\_XDC & Q \\\\\n",
       "\t13 & 2003-03-01 & 33797.1 & HN & NGDP\\_SA\\_XDC & Q \\\\\n",
       "\t14 & 2003-06-01 & 35147.9 & HN & NGDP\\_SA\\_XDC & Q \\\\\n",
       "\t15 & 2003-09-01 & 36258.9 & HN & NGDP\\_SA\\_XDC & Q \\\\\n",
       "\t16 & 2003-12-01 & 37614.0 & HN & NGDP\\_SA\\_XDC & Q \\\\\n",
       "\t17 & 2004-03-01 & 38272.9 & HN & NGDP\\_SA\\_XDC & Q \\\\\n",
       "\t18 & 2004-06-01 & 40109.4 & HN & NGDP\\_SA\\_XDC & Q \\\\\n",
       "\t19 & 2004-09-01 & 41050.0 & HN & NGDP\\_SA\\_XDC & Q \\\\\n",
       "\t20 & 2004-12-01 & 42075.1 & HN & NGDP\\_SA\\_XDC & Q \\\\\n",
       "\t21 & 2005-03-01 & 44597.8 & HN & NGDP\\_SA\\_XDC & Q \\\\\n",
       "\t22 & 2005-06-01 & 44977.6 & HN & NGDP\\_SA\\_XDC & Q \\\\\n",
       "\t23 & 2005-09-01 & 46227.2 & HN & NGDP\\_SA\\_XDC & Q \\\\\n",
       "\t24 & 2005-12-01 & 47944.8 & HN & NGDP\\_SA\\_XDC & Q \\\\\n",
       "\t25 & 2006-03-01 & 49377.9 & HN & NGDP\\_SA\\_XDC & Q \\\\\n",
       "\t26 & 2006-06-01 & 50664.9 & HN & NGDP\\_SA\\_XDC & Q \\\\\n",
       "\t27 & 2006-09-01 & 51526.7 & HN & NGDP\\_SA\\_XDC & Q \\\\\n",
       "\t28 & 2006-12-01 & 54718.6 & HN & NGDP\\_SA\\_XDC & Q \\\\\n",
       "\t29 & 2007-03-01 & 55830.2 & HN & NGDP\\_SA\\_XDC & Q \\\\\n",
       "\t30 & 2007-06-01 & 57607.2 & HN & NGDP\\_SA\\_XDC & Q \\\\\n",
       "\t$\\dots$ & $\\dots$ & $\\dots$ & $\\dots$ & $\\dots$ & $\\dots$ \\\\\n",
       "\\end{tabular}\n"
      ],
      "text/plain": [
       "\u001b[1m360×5 DataFrame\u001b[0m\n",
       "\u001b[1m Row \u001b[0m│\u001b[1m date       \u001b[0m\u001b[1m value         \u001b[0m\u001b[1m country \u001b[0m\u001b[1m indicator   \u001b[0m\u001b[1m frequency \u001b[0m\n",
       "     │\u001b[90m Date       \u001b[0m\u001b[90m Float64       \u001b[0m\u001b[90m String  \u001b[0m\u001b[90m String      \u001b[0m\u001b[90m String    \u001b[0m\n",
       "─────┼────────────────────────────────────────────────────────────\n",
       "   1 │ 2000-03-01  26020.6        HN       NGDP_SA_XDC  Q\n",
       "   2 │ 2000-06-01  26554.2        HN       NGDP_SA_XDC  Q\n",
       "   3 │ 2000-09-01  26849.0        HN       NGDP_SA_XDC  Q\n",
       "   4 │ 2000-12-01  27230.4        HN       NGDP_SA_XDC  Q\n",
       "   5 │ 2001-03-01  28443.4        HN       NGDP_SA_XDC  Q\n",
       "   6 │ 2001-06-01  29389.0        HN       NGDP_SA_XDC  Q\n",
       "   7 │ 2001-09-01  29764.7        HN       NGDP_SA_XDC  Q\n",
       "   8 │ 2001-12-01  30818.6        HN       NGDP_SA_XDC  Q\n",
       "   9 │ 2002-03-01  30581.7        HN       NGDP_SA_XDC  Q\n",
       "  10 │ 2002-06-01  31986.7        HN       NGDP_SA_XDC  Q\n",
       "  11 │ 2002-09-01  33275.7        HN       NGDP_SA_XDC  Q\n",
       "  ⋮  │     ⋮             ⋮           ⋮          ⋮           ⋮\n",
       " 351 │ 2021-09-01      1.81866e6  CR       NI_SA_XDC    Q\n",
       " 352 │ 2021-12-01      2.06711e6  CR       NI_SA_XDC    Q\n",
       " 353 │ 2022-03-01      2.21539e6  CR       NI_SA_XDC    Q\n",
       " 354 │ 2022-06-01      2.05398e6  CR       NI_SA_XDC    Q\n",
       " 355 │ 2022-09-01      1.98303e6  CR       NI_SA_XDC    Q\n",
       " 356 │ 2022-12-01      1.95787e6  CR       NI_SA_XDC    Q\n",
       " 357 │ 2023-03-01      1.80872e6  CR       NI_SA_XDC    Q\n",
       " 358 │ 2023-06-01      1.68433e6  CR       NI_SA_XDC    Q\n",
       " 359 │ 2023-09-01      1.8563e6   CR       NI_SA_XDC    Q\n",
       " 360 │ 2023-12-01      1.85152e6  CR       NI_SA_XDC    Q\n",
       "\u001b[36m                                                  339 rows omitted\u001b[0m"
      ]
     },
     "execution_count": 57,
     "metadata": {},
     "output_type": "execute_result"
    }
   ],
   "source": [
    "ifs_indicators = ifs_structure[\"Parameter Values\"][\"CL_INDICATOR_IFS\"]\n",
    "countries  = [\"GT\",\"HN\",\"SV\",\"NI\",\"CR\",\"PA\"]\n",
    "indicators = [\"NGDP_SA_XDC\",\"NI_SA_XDC\"]\n",
    "countries_indicators = get_ifs_data(countries, indicators, \"Q\", 1900, 2100)\n",
    "ndf = size(countries_indicators)[1]\n",
    "df = map(_ -> DataFrames.DataFrame(), 1:ndf)\n",
    "[df[i] = get_df(i) for i in 1:ndf]\n",
    "df = vcat(df...)\n",
    "CSV.write(\n",
    "    wd * \"/IMFData_query.csv\",\n",
    "    delim = \";\",\n",
    "    df)\n",
    "df"
   ]
  }
 ],
 "metadata": {
  "kernelspec": {
   "display_name": "Julia 1.10.3",
   "language": "julia",
   "name": "julia-1.10"
  },
  "language_info": {
   "file_extension": ".jl",
   "mimetype": "application/julia",
   "name": "julia",
   "version": "1.10.3"
  }
 },
 "nbformat": 4,
 "nbformat_minor": 5
}
